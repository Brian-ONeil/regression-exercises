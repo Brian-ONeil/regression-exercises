{
 "cells": [
  {
   "cell_type": "code",
   "execution_count": 40,
   "id": "898192a8-15fe-4cdf-b621-f1da50f09dac",
   "metadata": {},
   "outputs": [],
   "source": [
    "import numpy as np\n",
    "import os\n",
    "import seaborn as sns\n",
    "import scipy.stats as stat\n",
    "from scipy.stats import pearsonr\n",
    "from scipy.stats import pointbiserialr\n",
    "import pandas as pd\n",
    "import matplotlib.pyplot as plt\n",
    "from pydataset import data\n",
    "import warnings\n",
    "warnings.filterwarnings(\"ignore\")\n",
    "import wrangle as wra\n",
    "import env\n",
    "import explore as exp\n",
    "from sklearn.model_selection import train_test_split\n",
    "from sklearn.feature_selection import SelectKBest, RFE, f_regression, SequentialFeatureSelector\n",
    "from sklearn.linear_model import LinearRegression\n",
    "from sklearn.feature_selection import SelectKBest, f_classif"
   ]
  },
  {
   "cell_type": "markdown",
   "id": "ab3b4eef-652c-47c7-84aa-9d61c07b9ce2",
   "metadata": {},
   "source": [
    "### 1. Load the tips dataset"
   ]
  },
  {
   "cell_type": "code",
   "execution_count": 2,
   "id": "2427b7fb-e55c-4aec-8769-cadb4fae604d",
   "metadata": {},
   "outputs": [
    {
     "data": {
      "text/html": [
       "<div>\n",
       "<style scoped>\n",
       "    .dataframe tbody tr th:only-of-type {\n",
       "        vertical-align: middle;\n",
       "    }\n",
       "\n",
       "    .dataframe tbody tr th {\n",
       "        vertical-align: top;\n",
       "    }\n",
       "\n",
       "    .dataframe thead th {\n",
       "        text-align: right;\n",
       "    }\n",
       "</style>\n",
       "<table border=\"1\" class=\"dataframe\">\n",
       "  <thead>\n",
       "    <tr style=\"text-align: right;\">\n",
       "      <th></th>\n",
       "      <th>total_bill</th>\n",
       "      <th>tip</th>\n",
       "      <th>sex</th>\n",
       "      <th>smoker</th>\n",
       "      <th>day</th>\n",
       "      <th>time</th>\n",
       "      <th>size</th>\n",
       "    </tr>\n",
       "  </thead>\n",
       "  <tbody>\n",
       "    <tr>\n",
       "      <th>1</th>\n",
       "      <td>16.99</td>\n",
       "      <td>1.01</td>\n",
       "      <td>Female</td>\n",
       "      <td>No</td>\n",
       "      <td>Sun</td>\n",
       "      <td>Dinner</td>\n",
       "      <td>2</td>\n",
       "    </tr>\n",
       "    <tr>\n",
       "      <th>2</th>\n",
       "      <td>10.34</td>\n",
       "      <td>1.66</td>\n",
       "      <td>Male</td>\n",
       "      <td>No</td>\n",
       "      <td>Sun</td>\n",
       "      <td>Dinner</td>\n",
       "      <td>3</td>\n",
       "    </tr>\n",
       "    <tr>\n",
       "      <th>3</th>\n",
       "      <td>21.01</td>\n",
       "      <td>3.50</td>\n",
       "      <td>Male</td>\n",
       "      <td>No</td>\n",
       "      <td>Sun</td>\n",
       "      <td>Dinner</td>\n",
       "      <td>3</td>\n",
       "    </tr>\n",
       "    <tr>\n",
       "      <th>4</th>\n",
       "      <td>23.68</td>\n",
       "      <td>3.31</td>\n",
       "      <td>Male</td>\n",
       "      <td>No</td>\n",
       "      <td>Sun</td>\n",
       "      <td>Dinner</td>\n",
       "      <td>2</td>\n",
       "    </tr>\n",
       "    <tr>\n",
       "      <th>5</th>\n",
       "      <td>24.59</td>\n",
       "      <td>3.61</td>\n",
       "      <td>Female</td>\n",
       "      <td>No</td>\n",
       "      <td>Sun</td>\n",
       "      <td>Dinner</td>\n",
       "      <td>4</td>\n",
       "    </tr>\n",
       "  </tbody>\n",
       "</table>\n",
       "</div>"
      ],
      "text/plain": [
       "   total_bill   tip     sex smoker  day    time  size\n",
       "1       16.99  1.01  Female     No  Sun  Dinner     2\n",
       "2       10.34  1.66    Male     No  Sun  Dinner     3\n",
       "3       21.01  3.50    Male     No  Sun  Dinner     3\n",
       "4       23.68  3.31    Male     No  Sun  Dinner     2\n",
       "5       24.59  3.61  Female     No  Sun  Dinner     4"
      ]
     },
     "execution_count": 2,
     "metadata": {},
     "output_type": "execute_result"
    }
   ],
   "source": [
    "tips_df = data('tips')\n",
    "tips_df.head()"
   ]
  },
  {
   "cell_type": "markdown",
   "id": "98e4eb8c-86e8-4052-85d7-dc3713ef47c9",
   "metadata": {},
   "source": [
    "* a. Create a column named price_per_person. This should be the total bill divided by the party size.\n"
   ]
  },
  {
   "cell_type": "code",
   "execution_count": 3,
   "id": "d71727ff-6da5-41be-8bc8-cf1042e6432c",
   "metadata": {},
   "outputs": [],
   "source": [
    "tips_df['price_per_person'] = tips_df['total_bill'] / tips_df['size']"
   ]
  },
  {
   "cell_type": "code",
   "execution_count": 10,
   "id": "4b3f0065-8d85-47c4-ada8-840d39240bd4",
   "metadata": {},
   "outputs": [],
   "source": [
    "sex_dummies = pd.get_dummies(tips_df['sex'], prefix='sex')\n",
    "smoker_dummies = pd.get_dummies(tips_df['smoker'], prefix='smoker')\n",
    "day_dummies = pd.get_dummies(tips_df['day'], prefix='day')\n",
    "time_dummies = pd.get_dummies(tips_df['time'], prefix='time')\n",
    "\n",
    "# Convert the column names of the dummy variables to lowercase\n",
    "sex_dummies.columns = sex_dummies.columns.str.lower()\n",
    "smoker_dummies.columns = smoker_dummies.columns.str.lower()\n",
    "day_dummies.columns = day_dummies.columns.str.lower()\n",
    "time_dummies.columns = time_dummies.columns.str.lower()\n",
    "\n",
    "# Concatenate the dummy variables with the original DataFrame\n",
    "tips_df = pd.concat([tips_df, sex_dummies, smoker_dummies, day_dummies, time_dummies], axis=1)\n"
   ]
  },
  {
   "cell_type": "code",
   "execution_count": 11,
   "id": "7685d631-5553-463e-b3e2-b40562f1b19c",
   "metadata": {},
   "outputs": [],
   "source": [
    "train, validate, test = wra.split_data(tips_df)"
   ]
  },
  {
   "cell_type": "code",
   "execution_count": 14,
   "id": "836d35ca-feb4-45ee-9ab5-384506dfb5cb",
   "metadata": {},
   "outputs": [],
   "source": [
    "X_train, y_train = train[['tip','sex_male', 'smoker_yes', 'day_fri', 'day_sat', 'day_sun', 'day_thur', 'time_dinner', 'size', 'price_per_person']], train.total_bill\n",
    "X_validate, y_validate = validate[['tip','sex_male', 'smoker_yes', 'day_fri', 'day_sat', 'day_sun', 'day_thur', 'time_dinner', 'size', 'price_per_person']], validate.total_bill\n",
    "X_test, y_test = test[['tip','sex_male', 'smoker_yes', 'day_fri', 'day_sat', 'day_sun', 'day_thur', 'time_dinner', 'size', 'price_per_person']], test.total_bill"
   ]
  },
  {
   "cell_type": "code",
   "execution_count": 15,
   "id": "edbfb92d-d361-4534-8aad-a7503d50cd13",
   "metadata": {
    "tags": []
   },
   "outputs": [
    {
     "data": {
      "text/html": [
       "<div>\n",
       "<style scoped>\n",
       "    .dataframe tbody tr th:only-of-type {\n",
       "        vertical-align: middle;\n",
       "    }\n",
       "\n",
       "    .dataframe tbody tr th {\n",
       "        vertical-align: top;\n",
       "    }\n",
       "\n",
       "    .dataframe thead th {\n",
       "        text-align: right;\n",
       "    }\n",
       "</style>\n",
       "<table border=\"1\" class=\"dataframe\">\n",
       "  <thead>\n",
       "    <tr style=\"text-align: right;\">\n",
       "      <th></th>\n",
       "      <th>total_bill</th>\n",
       "      <th>tip</th>\n",
       "      <th>sex</th>\n",
       "      <th>smoker</th>\n",
       "      <th>day</th>\n",
       "      <th>time</th>\n",
       "      <th>size</th>\n",
       "      <th>price_per_person</th>\n",
       "      <th>sex_Female</th>\n",
       "      <th>sex_Male</th>\n",
       "      <th>...</th>\n",
       "      <th>sex_female</th>\n",
       "      <th>sex_male</th>\n",
       "      <th>smoker_no</th>\n",
       "      <th>smoker_yes</th>\n",
       "      <th>day_fri</th>\n",
       "      <th>day_sat</th>\n",
       "      <th>day_sun</th>\n",
       "      <th>day_thur</th>\n",
       "      <th>time_dinner</th>\n",
       "      <th>time_lunch</th>\n",
       "    </tr>\n",
       "  </thead>\n",
       "  <tbody>\n",
       "    <tr>\n",
       "      <th>225</th>\n",
       "      <td>13.42</td>\n",
       "      <td>1.58</td>\n",
       "      <td>Male</td>\n",
       "      <td>Yes</td>\n",
       "      <td>Fri</td>\n",
       "      <td>Lunch</td>\n",
       "      <td>2</td>\n",
       "      <td>6.710000</td>\n",
       "      <td>0</td>\n",
       "      <td>1</td>\n",
       "      <td>...</td>\n",
       "      <td>0</td>\n",
       "      <td>1</td>\n",
       "      <td>0</td>\n",
       "      <td>1</td>\n",
       "      <td>1</td>\n",
       "      <td>0</td>\n",
       "      <td>0</td>\n",
       "      <td>0</td>\n",
       "      <td>0</td>\n",
       "      <td>1</td>\n",
       "    </tr>\n",
       "    <tr>\n",
       "      <th>182</th>\n",
       "      <td>23.33</td>\n",
       "      <td>5.65</td>\n",
       "      <td>Male</td>\n",
       "      <td>Yes</td>\n",
       "      <td>Sun</td>\n",
       "      <td>Dinner</td>\n",
       "      <td>2</td>\n",
       "      <td>11.665000</td>\n",
       "      <td>0</td>\n",
       "      <td>1</td>\n",
       "      <td>...</td>\n",
       "      <td>0</td>\n",
       "      <td>1</td>\n",
       "      <td>0</td>\n",
       "      <td>1</td>\n",
       "      <td>0</td>\n",
       "      <td>0</td>\n",
       "      <td>1</td>\n",
       "      <td>0</td>\n",
       "      <td>1</td>\n",
       "      <td>0</td>\n",
       "    </tr>\n",
       "    <tr>\n",
       "      <th>103</th>\n",
       "      <td>44.30</td>\n",
       "      <td>2.50</td>\n",
       "      <td>Female</td>\n",
       "      <td>Yes</td>\n",
       "      <td>Sat</td>\n",
       "      <td>Dinner</td>\n",
       "      <td>3</td>\n",
       "      <td>14.766667</td>\n",
       "      <td>1</td>\n",
       "      <td>0</td>\n",
       "      <td>...</td>\n",
       "      <td>1</td>\n",
       "      <td>0</td>\n",
       "      <td>0</td>\n",
       "      <td>1</td>\n",
       "      <td>0</td>\n",
       "      <td>1</td>\n",
       "      <td>0</td>\n",
       "      <td>0</td>\n",
       "      <td>1</td>\n",
       "      <td>0</td>\n",
       "    </tr>\n",
       "    <tr>\n",
       "      <th>165</th>\n",
       "      <td>17.51</td>\n",
       "      <td>3.00</td>\n",
       "      <td>Female</td>\n",
       "      <td>Yes</td>\n",
       "      <td>Sun</td>\n",
       "      <td>Dinner</td>\n",
       "      <td>2</td>\n",
       "      <td>8.755000</td>\n",
       "      <td>1</td>\n",
       "      <td>0</td>\n",
       "      <td>...</td>\n",
       "      <td>1</td>\n",
       "      <td>0</td>\n",
       "      <td>0</td>\n",
       "      <td>1</td>\n",
       "      <td>0</td>\n",
       "      <td>0</td>\n",
       "      <td>1</td>\n",
       "      <td>0</td>\n",
       "      <td>1</td>\n",
       "      <td>0</td>\n",
       "    </tr>\n",
       "    <tr>\n",
       "      <th>74</th>\n",
       "      <td>25.28</td>\n",
       "      <td>5.00</td>\n",
       "      <td>Female</td>\n",
       "      <td>Yes</td>\n",
       "      <td>Sat</td>\n",
       "      <td>Dinner</td>\n",
       "      <td>2</td>\n",
       "      <td>12.640000</td>\n",
       "      <td>1</td>\n",
       "      <td>0</td>\n",
       "      <td>...</td>\n",
       "      <td>1</td>\n",
       "      <td>0</td>\n",
       "      <td>0</td>\n",
       "      <td>1</td>\n",
       "      <td>0</td>\n",
       "      <td>1</td>\n",
       "      <td>0</td>\n",
       "      <td>0</td>\n",
       "      <td>1</td>\n",
       "      <td>0</td>\n",
       "    </tr>\n",
       "  </tbody>\n",
       "</table>\n",
       "<p>5 rows × 28 columns</p>\n",
       "</div>"
      ],
      "text/plain": [
       "     total_bill   tip     sex smoker  day    time  size  price_per_person  \\\n",
       "225       13.42  1.58    Male    Yes  Fri   Lunch     2          6.710000   \n",
       "182       23.33  5.65    Male    Yes  Sun  Dinner     2         11.665000   \n",
       "103       44.30  2.50  Female    Yes  Sat  Dinner     3         14.766667   \n",
       "165       17.51  3.00  Female    Yes  Sun  Dinner     2          8.755000   \n",
       "74        25.28  5.00  Female    Yes  Sat  Dinner     2         12.640000   \n",
       "\n",
       "     sex_Female  sex_Male  ...  sex_female  sex_male  smoker_no  smoker_yes  \\\n",
       "225           0         1  ...           0         1          0           1   \n",
       "182           0         1  ...           0         1          0           1   \n",
       "103           1         0  ...           1         0          0           1   \n",
       "165           1         0  ...           1         0          0           1   \n",
       "74            1         0  ...           1         0          0           1   \n",
       "\n",
       "     day_fri  day_sat  day_sun  day_thur  time_dinner  time_lunch  \n",
       "225        1        0        0         0            0           1  \n",
       "182        0        0        1         0            1           0  \n",
       "103        0        1        0         0            1           0  \n",
       "165        0        0        1         0            1           0  \n",
       "74         0        1        0         0            1           0  \n",
       "\n",
       "[5 rows x 28 columns]"
      ]
     },
     "execution_count": 15,
     "metadata": {},
     "output_type": "execute_result"
    }
   ],
   "source": [
    "train.head()"
   ]
  },
  {
   "cell_type": "markdown",
   "id": "6ee98f50-b34c-46ee-bb26-8a32fc7bac42",
   "metadata": {},
   "source": [
    "* b. Before using any of the methods discussed in the lesson, which features do you think would be most important for predicting the tip amount?\n",
    "\n",
    "    -- total_bill, tip, size"
   ]
  },
  {
   "cell_type": "markdown",
   "id": "d196884c-899a-4f01-a30d-385dce99204c",
   "metadata": {},
   "source": [
    "* c. Use select k best to select the top 2 features for predicting tip amount. What are they?"
   ]
  },
  {
   "cell_type": "code",
   "execution_count": 16,
   "id": "6094d263-3d02-4c32-b1e9-cf42fcde6ca9",
   "metadata": {},
   "outputs": [
    {
     "data": {
      "text/html": [
       "<style>#sk-container-id-1 {color: black;background-color: white;}#sk-container-id-1 pre{padding: 0;}#sk-container-id-1 div.sk-toggleable {background-color: white;}#sk-container-id-1 label.sk-toggleable__label {cursor: pointer;display: block;width: 100%;margin-bottom: 0;padding: 0.3em;box-sizing: border-box;text-align: center;}#sk-container-id-1 label.sk-toggleable__label-arrow:before {content: \"▸\";float: left;margin-right: 0.25em;color: #696969;}#sk-container-id-1 label.sk-toggleable__label-arrow:hover:before {color: black;}#sk-container-id-1 div.sk-estimator:hover label.sk-toggleable__label-arrow:before {color: black;}#sk-container-id-1 div.sk-toggleable__content {max-height: 0;max-width: 0;overflow: hidden;text-align: left;background-color: #f0f8ff;}#sk-container-id-1 div.sk-toggleable__content pre {margin: 0.2em;color: black;border-radius: 0.25em;background-color: #f0f8ff;}#sk-container-id-1 input.sk-toggleable__control:checked~div.sk-toggleable__content {max-height: 200px;max-width: 100%;overflow: auto;}#sk-container-id-1 input.sk-toggleable__control:checked~label.sk-toggleable__label-arrow:before {content: \"▾\";}#sk-container-id-1 div.sk-estimator input.sk-toggleable__control:checked~label.sk-toggleable__label {background-color: #d4ebff;}#sk-container-id-1 div.sk-label input.sk-toggleable__control:checked~label.sk-toggleable__label {background-color: #d4ebff;}#sk-container-id-1 input.sk-hidden--visually {border: 0;clip: rect(1px 1px 1px 1px);clip: rect(1px, 1px, 1px, 1px);height: 1px;margin: -1px;overflow: hidden;padding: 0;position: absolute;width: 1px;}#sk-container-id-1 div.sk-estimator {font-family: monospace;background-color: #f0f8ff;border: 1px dotted black;border-radius: 0.25em;box-sizing: border-box;margin-bottom: 0.5em;}#sk-container-id-1 div.sk-estimator:hover {background-color: #d4ebff;}#sk-container-id-1 div.sk-parallel-item::after {content: \"\";width: 100%;border-bottom: 1px solid gray;flex-grow: 1;}#sk-container-id-1 div.sk-label:hover label.sk-toggleable__label {background-color: #d4ebff;}#sk-container-id-1 div.sk-serial::before {content: \"\";position: absolute;border-left: 1px solid gray;box-sizing: border-box;top: 0;bottom: 0;left: 50%;z-index: 0;}#sk-container-id-1 div.sk-serial {display: flex;flex-direction: column;align-items: center;background-color: white;padding-right: 0.2em;padding-left: 0.2em;position: relative;}#sk-container-id-1 div.sk-item {position: relative;z-index: 1;}#sk-container-id-1 div.sk-parallel {display: flex;align-items: stretch;justify-content: center;background-color: white;position: relative;}#sk-container-id-1 div.sk-item::before, #sk-container-id-1 div.sk-parallel-item::before {content: \"\";position: absolute;border-left: 1px solid gray;box-sizing: border-box;top: 0;bottom: 0;left: 50%;z-index: -1;}#sk-container-id-1 div.sk-parallel-item {display: flex;flex-direction: column;z-index: 1;position: relative;background-color: white;}#sk-container-id-1 div.sk-parallel-item:first-child::after {align-self: flex-end;width: 50%;}#sk-container-id-1 div.sk-parallel-item:last-child::after {align-self: flex-start;width: 50%;}#sk-container-id-1 div.sk-parallel-item:only-child::after {width: 0;}#sk-container-id-1 div.sk-dashed-wrapped {border: 1px dashed gray;margin: 0 0.4em 0.5em 0.4em;box-sizing: border-box;padding-bottom: 0.4em;background-color: white;}#sk-container-id-1 div.sk-label label {font-family: monospace;font-weight: bold;display: inline-block;line-height: 1.2em;}#sk-container-id-1 div.sk-label-container {text-align: center;}#sk-container-id-1 div.sk-container {/* jupyter's `normalize.less` sets `[hidden] { display: none; }` but bootstrap.min.css set `[hidden] { display: none !important; }` so we also need the `!important` here to be able to override the default hidden behavior on the sphinx rendered scikit-learn.org. See: https://github.com/scikit-learn/scikit-learn/issues/21755 */display: inline-block !important;position: relative;}#sk-container-id-1 div.sk-text-repr-fallback {display: none;}</style><div id=\"sk-container-id-1\" class=\"sk-top-container\"><div class=\"sk-text-repr-fallback\"><pre>SelectKBest(k=2, score_func=&lt;function f_regression at 0x1332a6310&gt;)</pre><b>In a Jupyter environment, please rerun this cell to show the HTML representation or trust the notebook. <br />On GitHub, the HTML representation is unable to render, please try loading this page with nbviewer.org.</b></div><div class=\"sk-container\" hidden><div class=\"sk-item\"><div class=\"sk-estimator sk-toggleable\"><input class=\"sk-toggleable__control sk-hidden--visually\" id=\"sk-estimator-id-1\" type=\"checkbox\" checked><label for=\"sk-estimator-id-1\" class=\"sk-toggleable__label sk-toggleable__label-arrow\">SelectKBest</label><div class=\"sk-toggleable__content\"><pre>SelectKBest(k=2, score_func=&lt;function f_regression at 0x1332a6310&gt;)</pre></div></div></div></div></div>"
      ],
      "text/plain": [
       "SelectKBest(k=2, score_func=<function f_regression at 0x1332a6310>)"
      ]
     },
     "execution_count": 16,
     "metadata": {},
     "output_type": "execute_result"
    }
   ],
   "source": [
    "# MAKE the thing\n",
    "kbest = SelectKBest(f_regression, k=2)\n",
    "\n",
    "# FIT the thing\n",
    "kbest.fit(X_train, y_train)"
   ]
  },
  {
   "cell_type": "code",
   "execution_count": 17,
   "id": "79bd0067-dfcb-4856-8f49-442ee4ffd19b",
   "metadata": {},
   "outputs": [
    {
     "data": {
      "text/plain": [
       "array([111.1150282 ,   3.74425143,   0.41180105,   4.30613732,\n",
       "         1.36931763,   1.38682491,   1.4136872 ,   4.16732867,\n",
       "        92.20000781, 100.79420314])"
      ]
     },
     "execution_count": 17,
     "metadata": {},
     "output_type": "execute_result"
    }
   ],
   "source": [
    "# statistical f-value / feature's scores:\n",
    "kbest.scores_"
   ]
  },
  {
   "cell_type": "code",
   "execution_count": 18,
   "id": "2d517d66-aa77-444d-bc4c-7009db956a38",
   "metadata": {},
   "outputs": [
    {
     "data": {
      "text/plain": [
       "array([1.30561953e-19, 5.49495680e-02, 5.22076950e-01, 3.97543703e-02,\n",
       "       2.43862187e-01, 2.40884666e-01, 2.36402231e-01, 4.30366766e-02,\n",
       "       3.52935999e-17, 2.62393956e-18])"
      ]
     },
     "execution_count": 18,
     "metadata": {},
     "output_type": "execute_result"
    }
   ],
   "source": [
    "# p value: \n",
    "kbest.pvalues_"
   ]
  },
  {
   "cell_type": "code",
   "execution_count": 19,
   "id": "8a914d0a-58db-46fc-a202-62e806bb5381",
   "metadata": {},
   "outputs": [
    {
     "data": {
      "text/plain": [
       "array(['tip', 'sex_male', 'smoker_yes', 'day_fri', 'day_sat', 'day_sun',\n",
       "       'day_thur', 'time_dinner', 'size', 'price_per_person'],\n",
       "      dtype=object)"
      ]
     },
     "execution_count": 19,
     "metadata": {},
     "output_type": "execute_result"
    }
   ],
   "source": [
    "kbest.feature_names_in_"
   ]
  },
  {
   "cell_type": "code",
   "execution_count": 20,
   "id": "4c9f0bdd-58bd-4c79-aee9-a5be3f570129",
   "metadata": {},
   "outputs": [],
   "source": [
    "kbest_results = pd.DataFrame(\n",
    "                dict(p=kbest.pvalues_, f=kbest.scores_),\n",
    "                index = X_train.columns)"
   ]
  },
  {
   "cell_type": "code",
   "execution_count": 21,
   "id": "a41a2772-df0d-4b46-be6c-a4da521bc260",
   "metadata": {},
   "outputs": [
    {
     "data": {
      "text/html": [
       "<div>\n",
       "<style scoped>\n",
       "    .dataframe tbody tr th:only-of-type {\n",
       "        vertical-align: middle;\n",
       "    }\n",
       "\n",
       "    .dataframe tbody tr th {\n",
       "        vertical-align: top;\n",
       "    }\n",
       "\n",
       "    .dataframe thead th {\n",
       "        text-align: right;\n",
       "    }\n",
       "</style>\n",
       "<table border=\"1\" class=\"dataframe\">\n",
       "  <thead>\n",
       "    <tr style=\"text-align: right;\">\n",
       "      <th></th>\n",
       "      <th>p</th>\n",
       "      <th>f</th>\n",
       "    </tr>\n",
       "  </thead>\n",
       "  <tbody>\n",
       "    <tr>\n",
       "      <th>tip</th>\n",
       "      <td>1.305620e-19</td>\n",
       "      <td>111.115028</td>\n",
       "    </tr>\n",
       "    <tr>\n",
       "      <th>sex_male</th>\n",
       "      <td>5.494957e-02</td>\n",
       "      <td>3.744251</td>\n",
       "    </tr>\n",
       "    <tr>\n",
       "      <th>smoker_yes</th>\n",
       "      <td>5.220769e-01</td>\n",
       "      <td>0.411801</td>\n",
       "    </tr>\n",
       "    <tr>\n",
       "      <th>day_fri</th>\n",
       "      <td>3.975437e-02</td>\n",
       "      <td>4.306137</td>\n",
       "    </tr>\n",
       "    <tr>\n",
       "      <th>day_sat</th>\n",
       "      <td>2.438622e-01</td>\n",
       "      <td>1.369318</td>\n",
       "    </tr>\n",
       "    <tr>\n",
       "      <th>day_sun</th>\n",
       "      <td>2.408847e-01</td>\n",
       "      <td>1.386825</td>\n",
       "    </tr>\n",
       "    <tr>\n",
       "      <th>day_thur</th>\n",
       "      <td>2.364022e-01</td>\n",
       "      <td>1.413687</td>\n",
       "    </tr>\n",
       "    <tr>\n",
       "      <th>time_dinner</th>\n",
       "      <td>4.303668e-02</td>\n",
       "      <td>4.167329</td>\n",
       "    </tr>\n",
       "    <tr>\n",
       "      <th>size</th>\n",
       "      <td>3.529360e-17</td>\n",
       "      <td>92.200008</td>\n",
       "    </tr>\n",
       "    <tr>\n",
       "      <th>price_per_person</th>\n",
       "      <td>2.623940e-18</td>\n",
       "      <td>100.794203</td>\n",
       "    </tr>\n",
       "  </tbody>\n",
       "</table>\n",
       "</div>"
      ],
      "text/plain": [
       "                             p           f\n",
       "tip               1.305620e-19  111.115028\n",
       "sex_male          5.494957e-02    3.744251\n",
       "smoker_yes        5.220769e-01    0.411801\n",
       "day_fri           3.975437e-02    4.306137\n",
       "day_sat           2.438622e-01    1.369318\n",
       "day_sun           2.408847e-01    1.386825\n",
       "day_thur          2.364022e-01    1.413687\n",
       "time_dinner       4.303668e-02    4.167329\n",
       "size              3.529360e-17   92.200008\n",
       "price_per_person  2.623940e-18  100.794203"
      ]
     },
     "execution_count": 21,
     "metadata": {},
     "output_type": "execute_result"
    }
   ],
   "source": [
    "kbest_results"
   ]
  },
  {
   "cell_type": "markdown",
   "id": "6f8d1918-e3ef-438f-ad28-d46cf31990a2",
   "metadata": {},
   "source": [
    "### Takeaways:\n",
    "  * tip and price_per_person have the highest feature scores\n",
    "  * They also have the smallest p-values!"
   ]
  },
  {
   "cell_type": "code",
   "execution_count": 22,
   "id": "ed1deecb-8ec5-4e95-816a-cbcf360a1202",
   "metadata": {},
   "outputs": [
    {
     "data": {
      "text/plain": [
       "array([ True, False, False, False, False, False, False, False, False,\n",
       "        True])"
      ]
     },
     "execution_count": 22,
     "metadata": {},
     "output_type": "execute_result"
    }
   ],
   "source": [
    "# get_support() will output a boolean mask to tell me which features were selected\n",
    "kbest.get_support()"
   ]
  },
  {
   "cell_type": "code",
   "execution_count": 23,
   "id": "5eacf072-c8dc-4180-88f7-57f9f528f192",
   "metadata": {},
   "outputs": [
    {
     "data": {
      "text/plain": [
       "Index(['tip', 'price_per_person'], dtype='object')"
      ]
     },
     "execution_count": 23,
     "metadata": {},
     "output_type": "execute_result"
    }
   ],
   "source": [
    "# we can apply this mask to the columns in our original dataframe\n",
    "X_train.columns[kbest.get_support()]"
   ]
  },
  {
   "cell_type": "code",
   "execution_count": 24,
   "id": "07b7277c-44cb-4373-924c-c1205ee2907f",
   "metadata": {},
   "outputs": [
    {
     "data": {
      "text/plain": [
       "array([[ 1.58      ,  6.71      ],\n",
       "       [ 5.65      , 11.665     ],\n",
       "       [ 2.5       , 14.76666667],\n",
       "       [ 3.        ,  8.755     ],\n",
       "       [ 5.        , 12.64      ]])"
      ]
     },
     "execution_count": 24,
     "metadata": {},
     "output_type": "execute_result"
    }
   ],
   "source": [
    "# kbest transform will convert our information to the selected feature subspace\n",
    "# its just a numpy array\n",
    "kbest.transform(X_train)[:5]"
   ]
  },
  {
   "cell_type": "code",
   "execution_count": 25,
   "id": "86bd64c2-92b4-4255-9dc0-c1c79ab092f9",
   "metadata": {},
   "outputs": [],
   "source": [
    "# So let's turn it into a df\n",
    "X_train_KBtransformed = pd.DataFrame(\n",
    "    kbest.transform(X_train),\n",
    "    columns = X_train.columns[kbest.get_support()],\n",
    "    index=X_train.index\n",
    ")"
   ]
  },
  {
   "cell_type": "code",
   "execution_count": 27,
   "id": "f81bd9e6-faa0-4e21-92db-f252dfdae256",
   "metadata": {},
   "outputs": [
    {
     "data": {
      "text/html": [
       "<div>\n",
       "<style scoped>\n",
       "    .dataframe tbody tr th:only-of-type {\n",
       "        vertical-align: middle;\n",
       "    }\n",
       "\n",
       "    .dataframe tbody tr th {\n",
       "        vertical-align: top;\n",
       "    }\n",
       "\n",
       "    .dataframe thead th {\n",
       "        text-align: right;\n",
       "    }\n",
       "</style>\n",
       "<table border=\"1\" class=\"dataframe\">\n",
       "  <thead>\n",
       "    <tr style=\"text-align: right;\">\n",
       "      <th></th>\n",
       "      <th>tip</th>\n",
       "      <th>price_per_person</th>\n",
       "    </tr>\n",
       "  </thead>\n",
       "  <tbody>\n",
       "    <tr>\n",
       "      <th>225</th>\n",
       "      <td>1.58</td>\n",
       "      <td>6.710000</td>\n",
       "    </tr>\n",
       "    <tr>\n",
       "      <th>182</th>\n",
       "      <td>5.65</td>\n",
       "      <td>11.665000</td>\n",
       "    </tr>\n",
       "    <tr>\n",
       "      <th>103</th>\n",
       "      <td>2.50</td>\n",
       "      <td>14.766667</td>\n",
       "    </tr>\n",
       "    <tr>\n",
       "      <th>165</th>\n",
       "      <td>3.00</td>\n",
       "      <td>8.755000</td>\n",
       "    </tr>\n",
       "    <tr>\n",
       "      <th>74</th>\n",
       "      <td>5.00</td>\n",
       "      <td>12.640000</td>\n",
       "    </tr>\n",
       "  </tbody>\n",
       "</table>\n",
       "</div>"
      ],
      "text/plain": [
       "      tip  price_per_person\n",
       "225  1.58          6.710000\n",
       "182  5.65         11.665000\n",
       "103  2.50         14.766667\n",
       "165  3.00          8.755000\n",
       "74   5.00         12.640000"
      ]
     },
     "execution_count": 27,
     "metadata": {},
     "output_type": "execute_result"
    }
   ],
   "source": [
    "X_train_KBtransformed.head()"
   ]
  },
  {
   "cell_type": "markdown",
   "id": "247bc3e3-74cf-4fc6-afef-7e9d70001427",
   "metadata": {},
   "source": [
    "* d. Use recursive feature elimination to select the top 2 features for tip amount. What are they?"
   ]
  },
  {
   "cell_type": "code",
   "execution_count": 29,
   "id": "69d16839-a324-4a17-8915-0b6f33db343c",
   "metadata": {},
   "outputs": [],
   "source": [
    "# make a model object to use in RFE process.\n",
    "# The model is here to give us metrics on feature importance and model score\n",
    "# allowing us to recursively reduce the number of features to reach our desired space\n",
    "\n",
    "model = LinearRegression()"
   ]
  },
  {
   "cell_type": "code",
   "execution_count": 30,
   "id": "d4d0cb5a-9253-45e9-addf-8109bdbcfefb",
   "metadata": {},
   "outputs": [
    {
     "data": {
      "text/html": [
       "<style>#sk-container-id-2 {color: black;background-color: white;}#sk-container-id-2 pre{padding: 0;}#sk-container-id-2 div.sk-toggleable {background-color: white;}#sk-container-id-2 label.sk-toggleable__label {cursor: pointer;display: block;width: 100%;margin-bottom: 0;padding: 0.3em;box-sizing: border-box;text-align: center;}#sk-container-id-2 label.sk-toggleable__label-arrow:before {content: \"▸\";float: left;margin-right: 0.25em;color: #696969;}#sk-container-id-2 label.sk-toggleable__label-arrow:hover:before {color: black;}#sk-container-id-2 div.sk-estimator:hover label.sk-toggleable__label-arrow:before {color: black;}#sk-container-id-2 div.sk-toggleable__content {max-height: 0;max-width: 0;overflow: hidden;text-align: left;background-color: #f0f8ff;}#sk-container-id-2 div.sk-toggleable__content pre {margin: 0.2em;color: black;border-radius: 0.25em;background-color: #f0f8ff;}#sk-container-id-2 input.sk-toggleable__control:checked~div.sk-toggleable__content {max-height: 200px;max-width: 100%;overflow: auto;}#sk-container-id-2 input.sk-toggleable__control:checked~label.sk-toggleable__label-arrow:before {content: \"▾\";}#sk-container-id-2 div.sk-estimator input.sk-toggleable__control:checked~label.sk-toggleable__label {background-color: #d4ebff;}#sk-container-id-2 div.sk-label input.sk-toggleable__control:checked~label.sk-toggleable__label {background-color: #d4ebff;}#sk-container-id-2 input.sk-hidden--visually {border: 0;clip: rect(1px 1px 1px 1px);clip: rect(1px, 1px, 1px, 1px);height: 1px;margin: -1px;overflow: hidden;padding: 0;position: absolute;width: 1px;}#sk-container-id-2 div.sk-estimator {font-family: monospace;background-color: #f0f8ff;border: 1px dotted black;border-radius: 0.25em;box-sizing: border-box;margin-bottom: 0.5em;}#sk-container-id-2 div.sk-estimator:hover {background-color: #d4ebff;}#sk-container-id-2 div.sk-parallel-item::after {content: \"\";width: 100%;border-bottom: 1px solid gray;flex-grow: 1;}#sk-container-id-2 div.sk-label:hover label.sk-toggleable__label {background-color: #d4ebff;}#sk-container-id-2 div.sk-serial::before {content: \"\";position: absolute;border-left: 1px solid gray;box-sizing: border-box;top: 0;bottom: 0;left: 50%;z-index: 0;}#sk-container-id-2 div.sk-serial {display: flex;flex-direction: column;align-items: center;background-color: white;padding-right: 0.2em;padding-left: 0.2em;position: relative;}#sk-container-id-2 div.sk-item {position: relative;z-index: 1;}#sk-container-id-2 div.sk-parallel {display: flex;align-items: stretch;justify-content: center;background-color: white;position: relative;}#sk-container-id-2 div.sk-item::before, #sk-container-id-2 div.sk-parallel-item::before {content: \"\";position: absolute;border-left: 1px solid gray;box-sizing: border-box;top: 0;bottom: 0;left: 50%;z-index: -1;}#sk-container-id-2 div.sk-parallel-item {display: flex;flex-direction: column;z-index: 1;position: relative;background-color: white;}#sk-container-id-2 div.sk-parallel-item:first-child::after {align-self: flex-end;width: 50%;}#sk-container-id-2 div.sk-parallel-item:last-child::after {align-self: flex-start;width: 50%;}#sk-container-id-2 div.sk-parallel-item:only-child::after {width: 0;}#sk-container-id-2 div.sk-dashed-wrapped {border: 1px dashed gray;margin: 0 0.4em 0.5em 0.4em;box-sizing: border-box;padding-bottom: 0.4em;background-color: white;}#sk-container-id-2 div.sk-label label {font-family: monospace;font-weight: bold;display: inline-block;line-height: 1.2em;}#sk-container-id-2 div.sk-label-container {text-align: center;}#sk-container-id-2 div.sk-container {/* jupyter's `normalize.less` sets `[hidden] { display: none; }` but bootstrap.min.css set `[hidden] { display: none !important; }` so we also need the `!important` here to be able to override the default hidden behavior on the sphinx rendered scikit-learn.org. See: https://github.com/scikit-learn/scikit-learn/issues/21755 */display: inline-block !important;position: relative;}#sk-container-id-2 div.sk-text-repr-fallback {display: none;}</style><div id=\"sk-container-id-2\" class=\"sk-top-container\"><div class=\"sk-text-repr-fallback\"><pre>RFE(estimator=LinearRegression(), n_features_to_select=2)</pre><b>In a Jupyter environment, please rerun this cell to show the HTML representation or trust the notebook. <br />On GitHub, the HTML representation is unable to render, please try loading this page with nbviewer.org.</b></div><div class=\"sk-container\" hidden><div class=\"sk-item sk-dashed-wrapped\"><div class=\"sk-label-container\"><div class=\"sk-label sk-toggleable\"><input class=\"sk-toggleable__control sk-hidden--visually\" id=\"sk-estimator-id-2\" type=\"checkbox\" ><label for=\"sk-estimator-id-2\" class=\"sk-toggleable__label sk-toggleable__label-arrow\">RFE</label><div class=\"sk-toggleable__content\"><pre>RFE(estimator=LinearRegression(), n_features_to_select=2)</pre></div></div></div><div class=\"sk-parallel\"><div class=\"sk-parallel-item\"><div class=\"sk-item\"><div class=\"sk-label-container\"><div class=\"sk-label sk-toggleable\"><input class=\"sk-toggleable__control sk-hidden--visually\" id=\"sk-estimator-id-3\" type=\"checkbox\" ><label for=\"sk-estimator-id-3\" class=\"sk-toggleable__label sk-toggleable__label-arrow\">estimator: LinearRegression</label><div class=\"sk-toggleable__content\"><pre>LinearRegression()</pre></div></div></div><div class=\"sk-serial\"><div class=\"sk-item\"><div class=\"sk-estimator sk-toggleable\"><input class=\"sk-toggleable__control sk-hidden--visually\" id=\"sk-estimator-id-4\" type=\"checkbox\" ><label for=\"sk-estimator-id-4\" class=\"sk-toggleable__label sk-toggleable__label-arrow\">LinearRegression</label><div class=\"sk-toggleable__content\"><pre>LinearRegression()</pre></div></div></div></div></div></div></div></div></div></div>"
      ],
      "text/plain": [
       "RFE(estimator=LinearRegression(), n_features_to_select=2)"
      ]
     },
     "execution_count": 30,
     "metadata": {},
     "output_type": "execute_result"
    }
   ],
   "source": [
    "# MAKE the thing\n",
    "rfe = RFE(model, n_features_to_select=2)\n",
    "\n",
    "# FIT the thing\n",
    "rfe.fit(X_train, y_train)"
   ]
  },
  {
   "cell_type": "code",
   "execution_count": 31,
   "id": "f30320ab-dccf-4514-9b29-1ed7fbd716ba",
   "metadata": {},
   "outputs": [
    {
     "data": {
      "text/plain": [
       "array([3, 8, 4, 9, 2, 5, 6, 7, 1, 1])"
      ]
     },
     "execution_count": 31,
     "metadata": {},
     "output_type": "execute_result"
    }
   ],
   "source": [
    "# Get feature ranking\n",
    "# Selected features are assigned a rank 1\n",
    "\n",
    "rfe.ranking_"
   ]
  },
  {
   "cell_type": "code",
   "execution_count": 32,
   "id": "758cf387-e960-4bfb-87ff-84f66af2ee38",
   "metadata": {},
   "outputs": [
    {
     "data": {
      "text/html": [
       "<div>\n",
       "<style scoped>\n",
       "    .dataframe tbody tr th:only-of-type {\n",
       "        vertical-align: middle;\n",
       "    }\n",
       "\n",
       "    .dataframe tbody tr th {\n",
       "        vertical-align: top;\n",
       "    }\n",
       "\n",
       "    .dataframe thead th {\n",
       "        text-align: right;\n",
       "    }\n",
       "</style>\n",
       "<table border=\"1\" class=\"dataframe\">\n",
       "  <thead>\n",
       "    <tr style=\"text-align: right;\">\n",
       "      <th></th>\n",
       "      <th>rfe_ranking</th>\n",
       "    </tr>\n",
       "  </thead>\n",
       "  <tbody>\n",
       "    <tr>\n",
       "      <th>tip</th>\n",
       "      <td>3</td>\n",
       "    </tr>\n",
       "    <tr>\n",
       "      <th>sex_male</th>\n",
       "      <td>8</td>\n",
       "    </tr>\n",
       "    <tr>\n",
       "      <th>smoker_yes</th>\n",
       "      <td>4</td>\n",
       "    </tr>\n",
       "    <tr>\n",
       "      <th>day_fri</th>\n",
       "      <td>9</td>\n",
       "    </tr>\n",
       "    <tr>\n",
       "      <th>day_sat</th>\n",
       "      <td>2</td>\n",
       "    </tr>\n",
       "    <tr>\n",
       "      <th>day_sun</th>\n",
       "      <td>5</td>\n",
       "    </tr>\n",
       "    <tr>\n",
       "      <th>day_thur</th>\n",
       "      <td>6</td>\n",
       "    </tr>\n",
       "    <tr>\n",
       "      <th>time_dinner</th>\n",
       "      <td>7</td>\n",
       "    </tr>\n",
       "    <tr>\n",
       "      <th>size</th>\n",
       "      <td>1</td>\n",
       "    </tr>\n",
       "    <tr>\n",
       "      <th>price_per_person</th>\n",
       "      <td>1</td>\n",
       "    </tr>\n",
       "  </tbody>\n",
       "</table>\n",
       "</div>"
      ],
      "text/plain": [
       "                  rfe_ranking\n",
       "tip                         3\n",
       "sex_male                    8\n",
       "smoker_yes                  4\n",
       "day_fri                     9\n",
       "day_sat                     2\n",
       "day_sun                     5\n",
       "day_thur                    6\n",
       "time_dinner                 7\n",
       "size                        1\n",
       "price_per_person            1"
      ]
     },
     "execution_count": 32,
     "metadata": {},
     "output_type": "execute_result"
    }
   ],
   "source": [
    "# Dataframe of rankings\n",
    "pd.DataFrame(\n",
    "{'rfe_ranking':rfe.ranking_},\n",
    "index=X_train.columns)"
   ]
  },
  {
   "cell_type": "code",
   "execution_count": 33,
   "id": "042bd589-2816-451b-9886-772d1e4692da",
   "metadata": {},
   "outputs": [
    {
     "data": {
      "text/plain": [
       "array([False, False, False, False, False, False, False, False,  True,\n",
       "        True])"
      ]
     },
     "execution_count": 33,
     "metadata": {},
     "output_type": "execute_result"
    }
   ],
   "source": [
    "rfe.get_support()"
   ]
  },
  {
   "cell_type": "code",
   "execution_count": 34,
   "id": "e659df1f-6b1a-4194-b709-9574d65d8a60",
   "metadata": {},
   "outputs": [],
   "source": [
    "X_train_RFEtransformed = pd.DataFrame(\n",
    "    rfe.transform(X_train),\n",
    "    index=X_train.index,\n",
    "    columns = X_train.columns[rfe.support_])"
   ]
  },
  {
   "cell_type": "code",
   "execution_count": 36,
   "id": "f89b5457-3900-4396-81e0-f9206c036639",
   "metadata": {},
   "outputs": [
    {
     "data": {
      "text/html": [
       "<div>\n",
       "<style scoped>\n",
       "    .dataframe tbody tr th:only-of-type {\n",
       "        vertical-align: middle;\n",
       "    }\n",
       "\n",
       "    .dataframe tbody tr th {\n",
       "        vertical-align: top;\n",
       "    }\n",
       "\n",
       "    .dataframe thead th {\n",
       "        text-align: right;\n",
       "    }\n",
       "</style>\n",
       "<table border=\"1\" class=\"dataframe\">\n",
       "  <thead>\n",
       "    <tr style=\"text-align: right;\">\n",
       "      <th></th>\n",
       "      <th>size</th>\n",
       "      <th>price_per_person</th>\n",
       "    </tr>\n",
       "  </thead>\n",
       "  <tbody>\n",
       "    <tr>\n",
       "      <th>225</th>\n",
       "      <td>2.0</td>\n",
       "      <td>6.710000</td>\n",
       "    </tr>\n",
       "    <tr>\n",
       "      <th>182</th>\n",
       "      <td>2.0</td>\n",
       "      <td>11.665000</td>\n",
       "    </tr>\n",
       "    <tr>\n",
       "      <th>103</th>\n",
       "      <td>3.0</td>\n",
       "      <td>14.766667</td>\n",
       "    </tr>\n",
       "    <tr>\n",
       "      <th>165</th>\n",
       "      <td>2.0</td>\n",
       "      <td>8.755000</td>\n",
       "    </tr>\n",
       "    <tr>\n",
       "      <th>74</th>\n",
       "      <td>2.0</td>\n",
       "      <td>12.640000</td>\n",
       "    </tr>\n",
       "  </tbody>\n",
       "</table>\n",
       "</div>"
      ],
      "text/plain": [
       "     size  price_per_person\n",
       "225   2.0          6.710000\n",
       "182   2.0         11.665000\n",
       "103   3.0         14.766667\n",
       "165   2.0          8.755000\n",
       "74    2.0         12.640000"
      ]
     },
     "execution_count": 36,
     "metadata": {},
     "output_type": "execute_result"
    }
   ],
   "source": [
    "X_train_RFEtransformed.head()"
   ]
  },
  {
   "cell_type": "markdown",
   "id": "c7dd3c95-2fee-47e0-a83b-d557ed04cfe9",
   "metadata": {},
   "source": [
    "* e. Why do you think select k best and recursive feature elimination might give different answers for the top features? Does this change as you change the number of features you are selecting?\n",
    "    * SelectKBest may identify features that have a high correlation with the target variable but may not be the most important features for the model, while RFE may identify features that have a lower correlation with the target variable but are more important for the model's performance. The difference between the top features selected by SelectKBest and RFE may change as the number of features selected changes. When selecting a small number of features (e.g., K=5), SelectKBest and RFE may agree on the top features because there are fewer features to choose from and the most important features may be more obvious. However, as the number of features selected increases (e.g., K=10 or more), there may be more variation in the top features selected by SelectKBest and RFE because there are more features to choose from and the importance of features may become more nuanced."
   ]
  },
  {
   "cell_type": "markdown",
   "id": "52a8993e-e79f-422a-bb85-e2c518ba9503",
   "metadata": {},
   "source": [
    "### 2. Write a function named select_kbest that takes in the predictors (X), the target (y), and the number of features to select (k) and returns the names of the top k selected features based on the SelectKBest class. Test your function with the tips dataset. You should see the same results as when you did the process manually."
   ]
  },
  {
   "cell_type": "code",
   "execution_count": 42,
   "id": "41bc655d-9d78-4e01-9276-9390eff59584",
   "metadata": {},
   "outputs": [],
   "source": [
    "def select_kbest(X, y, k):\n",
    "    \"\"\"\n",
    "    Select the top k features based on the SelectKBest class and return their names.\n",
    "    \n",
    "    Parameters:\n",
    "    X (array-like): The predictors\n",
    "    y (array-like): The target variable\n",
    "    k (int): The number of features to select\n",
    "    \n",
    "    Returns:\n",
    "    list: A list of the names of the top k selected features\n",
    "    \"\"\"\n",
    "    # Create a SelectKBest object and fit it to the data\n",
    "    selector = SelectKBest(f_regression, k=k)\n",
    "    selector.fit(X, y)\n",
    "    \n",
    "    # Get the indices of the top k selected features\n",
    "    idxs_selected = selector.get_support(indices=True)\n",
    "    \n",
    "    # Get the names of the top k selected features\n",
    "    features_selected = list(X.columns[idxs_selected])\n",
    "    \n",
    "    # Return the names of the top k selected features\n",
    "    return features_selected"
   ]
  },
  {
   "cell_type": "code",
   "execution_count": 43,
   "id": "a2628f00-9404-40da-b582-0161cc67dde8",
   "metadata": {},
   "outputs": [
    {
     "name": "stdout",
     "output_type": "stream",
     "text": [
      "['tip', 'price_per_person']\n"
     ]
    }
   ],
   "source": [
    "# Call the select_kbest function\n",
    "top_k_features = select_kbest(X_train, y_train, k=2)\n",
    "\n",
    "# Print the names of the top k selected features\n",
    "print(top_k_features)"
   ]
  },
  {
   "cell_type": "markdown",
   "id": "3490e491-e172-4c46-952b-b96db83f9a83",
   "metadata": {},
   "source": [
    "### 3. Write a function named rfe that takes in the predictors, the target, and the number of features to select. It should return the top k features based on the RFE class. Test your function with the tips dataset. You should see the same results as when you did the process manually"
   ]
  },
  {
   "cell_type": "code",
   "execution_count": 44,
   "id": "b7c4c5cf-7d2e-4c08-9c3d-dd4d059664c2",
   "metadata": {},
   "outputs": [],
   "source": [
    "def rfe(X, y, k):\n",
    "    \"\"\"\n",
    "    Select the top k features based on the RFE class and return their names.\n",
    "    \n",
    "    Parameters:\n",
    "    X (array-like): The predictors\n",
    "    y (array-like): The target variable\n",
    "    k (int): The number of features to select\n",
    "    \n",
    "    Returns:\n",
    "    list: A list of the names of the top k selected features\n",
    "    \"\"\"\n",
    "    # Create a linear regression model\n",
    "    model = LinearRegression()\n",
    "    \n",
    "    # Create an RFE object and fit it to the data\n",
    "    selector = RFE(model, n_features_to_select=k)\n",
    "    selector.fit(X, y)\n",
    "    \n",
    "    # Get the indices of the top k selected features\n",
    "    idxs_selected = selector.get_support(indices=True)\n",
    "    \n",
    "    # Get the names of the top k selected features\n",
    "    features_selected = list(X.columns[idxs_selected])\n",
    "    \n",
    "    # Return the names of the top k selected features\n",
    "    return features_selected\n"
   ]
  },
  {
   "cell_type": "code",
   "execution_count": 45,
   "id": "699cd97a-4890-4682-8837-e865e5b8f2b4",
   "metadata": {},
   "outputs": [
    {
     "data": {
      "text/plain": [
       "['size', 'price_per_person']"
      ]
     },
     "execution_count": 45,
     "metadata": {},
     "output_type": "execute_result"
    }
   ],
   "source": [
    "rfe(X_train, y_train, k=2)"
   ]
  },
  {
   "cell_type": "markdown",
   "id": "aa546274-cfd4-4b02-b7c7-33fe5c853c4e",
   "metadata": {},
   "source": [
    "### 4. Load the swiss dataset and use all the other features to predict Fertility. Find the top 3 features using both select k best and recursive feature elimination (use the functions you just built to help you out)."
   ]
  }
 ],
 "metadata": {
  "kernelspec": {
   "display_name": "Python 3 (ipykernel)",
   "language": "python",
   "name": "python3"
  },
  "language_info": {
   "codemirror_mode": {
    "name": "ipython",
    "version": 3
   },
   "file_extension": ".py",
   "mimetype": "text/x-python",
   "name": "python",
   "nbconvert_exporter": "python",
   "pygments_lexer": "ipython3",
   "version": "3.9.13"
  }
 },
 "nbformat": 4,
 "nbformat_minor": 5
}
