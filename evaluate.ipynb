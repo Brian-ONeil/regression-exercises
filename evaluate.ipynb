{
 "cells": [
  {
   "cell_type": "code",
   "execution_count": 1,
   "id": "05018f8d-3066-4ed1-981f-717c4fd798f5",
   "metadata": {},
   "outputs": [],
   "source": [
    "import numpy as np\n",
    "import os\n",
    "import seaborn as sns\n",
    "import scipy.stats as stat\n",
    "from scipy.stats import pearsonr\n",
    "from scipy.stats import pointbiserialr\n",
    "import pandas as pd\n",
    "import matplotlib.pyplot as plt\n",
    "from pydataset import data\n",
    "import warnings\n",
    "warnings.filterwarnings(\"ignore\")\n",
    "import wrangle as wra\n",
    "import env\n",
    "import explore as exp\n",
    "from sklearn.model_selection import train_test_split\n",
    "from sklearn.metrics import mean_squared_error, r2_score, explained_variance_score\n",
    "from sklearn.linear_model import LinearRegression\n",
    "from sklearn.feature_selection import f_regression \n",
    "from math import sqrt\n",
    "import statsmodels.api as sm"
   ]
  },
  {
   "cell_type": "markdown",
   "id": "a64a7e7d-ac5c-4f53-8123-450ecbc88bbc",
   "metadata": {},
   "source": [
    "### 1. Load your zillow dataset."
   ]
  },
  {
   "cell_type": "code",
   "execution_count": 2,
   "id": "e3a0e033-4bf1-4040-91ac-b7cf8f439416",
   "metadata": {},
   "outputs": [
    {
     "data": {
      "text/html": [
       "<div>\n",
       "<style scoped>\n",
       "    .dataframe tbody tr th:only-of-type {\n",
       "        vertical-align: middle;\n",
       "    }\n",
       "\n",
       "    .dataframe tbody tr th {\n",
       "        vertical-align: top;\n",
       "    }\n",
       "\n",
       "    .dataframe thead th {\n",
       "        text-align: right;\n",
       "    }\n",
       "</style>\n",
       "<table border=\"1\" class=\"dataframe\">\n",
       "  <thead>\n",
       "    <tr style=\"text-align: right;\">\n",
       "      <th></th>\n",
       "      <th>Unnamed: 0</th>\n",
       "      <th>bedroomcnt</th>\n",
       "      <th>bathroomcnt</th>\n",
       "      <th>calculatedfinishedsquarefeet</th>\n",
       "      <th>taxvaluedollarcnt</th>\n",
       "      <th>yearbuilt</th>\n",
       "      <th>taxamount</th>\n",
       "      <th>fips</th>\n",
       "    </tr>\n",
       "  </thead>\n",
       "  <tbody>\n",
       "    <tr>\n",
       "      <th>0</th>\n",
       "      <td>0</td>\n",
       "      <td>0.0</td>\n",
       "      <td>0.0</td>\n",
       "      <td>NaN</td>\n",
       "      <td>27516.0</td>\n",
       "      <td>NaN</td>\n",
       "      <td>NaN</td>\n",
       "      <td>6037.0</td>\n",
       "    </tr>\n",
       "    <tr>\n",
       "      <th>1</th>\n",
       "      <td>1</td>\n",
       "      <td>0.0</td>\n",
       "      <td>0.0</td>\n",
       "      <td>NaN</td>\n",
       "      <td>10.0</td>\n",
       "      <td>NaN</td>\n",
       "      <td>NaN</td>\n",
       "      <td>6037.0</td>\n",
       "    </tr>\n",
       "    <tr>\n",
       "      <th>2</th>\n",
       "      <td>2</td>\n",
       "      <td>0.0</td>\n",
       "      <td>0.0</td>\n",
       "      <td>NaN</td>\n",
       "      <td>10.0</td>\n",
       "      <td>NaN</td>\n",
       "      <td>NaN</td>\n",
       "      <td>6037.0</td>\n",
       "    </tr>\n",
       "    <tr>\n",
       "      <th>3</th>\n",
       "      <td>3</td>\n",
       "      <td>0.0</td>\n",
       "      <td>0.0</td>\n",
       "      <td>NaN</td>\n",
       "      <td>2108.0</td>\n",
       "      <td>NaN</td>\n",
       "      <td>174.21</td>\n",
       "      <td>6037.0</td>\n",
       "    </tr>\n",
       "    <tr>\n",
       "      <th>4</th>\n",
       "      <td>4</td>\n",
       "      <td>4.0</td>\n",
       "      <td>2.0</td>\n",
       "      <td>3633.0</td>\n",
       "      <td>296425.0</td>\n",
       "      <td>2005.0</td>\n",
       "      <td>6941.39</td>\n",
       "      <td>6037.0</td>\n",
       "    </tr>\n",
       "  </tbody>\n",
       "</table>\n",
       "</div>"
      ],
      "text/plain": [
       "   Unnamed: 0  bedroomcnt  bathroomcnt  calculatedfinishedsquarefeet  \\\n",
       "0           0         0.0          0.0                           NaN   \n",
       "1           1         0.0          0.0                           NaN   \n",
       "2           2         0.0          0.0                           NaN   \n",
       "3           3         0.0          0.0                           NaN   \n",
       "4           4         4.0          2.0                        3633.0   \n",
       "\n",
       "   taxvaluedollarcnt  yearbuilt  taxamount    fips  \n",
       "0            27516.0        NaN        NaN  6037.0  \n",
       "1               10.0        NaN        NaN  6037.0  \n",
       "2               10.0        NaN        NaN  6037.0  \n",
       "3             2108.0        NaN     174.21  6037.0  \n",
       "4           296425.0     2005.0    6941.39  6037.0  "
      ]
     },
     "execution_count": 2,
     "metadata": {},
     "output_type": "execute_result"
    }
   ],
   "source": [
    "zillow_query = \"\"\"\n",
    "        select bedroomcnt, bathroomcnt, calculatedfinishedsquarefeet, taxvaluedollarcnt, yearbuilt,\n",
    "        taxamount, fips\n",
    "        from properties_2017\n",
    "        where propertylandusetypeid = '261';\n",
    "        \"\"\"\n",
    "\n",
    "zillow_df = wra.get_zillow_data(zillow_query)\n",
    "\n",
    "zillow_df.head()"
   ]
  },
  {
   "cell_type": "code",
   "execution_count": 3,
   "id": "b51abe20-9157-4c0a-92c6-04fe6b3a225f",
   "metadata": {},
   "outputs": [],
   "source": [
    "df = zillow_df"
   ]
  },
  {
   "cell_type": "code",
   "execution_count": 4,
   "id": "ac50fc96-780b-4135-969e-a6eb4f60de97",
   "metadata": {},
   "outputs": [],
   "source": [
    "df = wra.wrangle_zillow(df)"
   ]
  },
  {
   "cell_type": "code",
   "execution_count": 5,
   "id": "cf9ff088-3cea-472c-9c1f-f20a5a8470c2",
   "metadata": {},
   "outputs": [
    {
     "data": {
      "text/html": [
       "<div>\n",
       "<style scoped>\n",
       "    .dataframe tbody tr th:only-of-type {\n",
       "        vertical-align: middle;\n",
       "    }\n",
       "\n",
       "    .dataframe tbody tr th {\n",
       "        vertical-align: top;\n",
       "    }\n",
       "\n",
       "    .dataframe thead th {\n",
       "        text-align: right;\n",
       "    }\n",
       "</style>\n",
       "<table border=\"1\" class=\"dataframe\">\n",
       "  <thead>\n",
       "    <tr style=\"text-align: right;\">\n",
       "      <th></th>\n",
       "      <th>bedroomcnt</th>\n",
       "      <th>bathroomcnt</th>\n",
       "      <th>squarefeet</th>\n",
       "      <th>taxvalue</th>\n",
       "      <th>yearbuilt</th>\n",
       "      <th>taxamount</th>\n",
       "      <th>county</th>\n",
       "    </tr>\n",
       "  </thead>\n",
       "  <tbody>\n",
       "    <tr>\n",
       "      <th>4</th>\n",
       "      <td>4</td>\n",
       "      <td>2.0</td>\n",
       "      <td>3633</td>\n",
       "      <td>296425</td>\n",
       "      <td>2005</td>\n",
       "      <td>6941.39</td>\n",
       "      <td>LA</td>\n",
       "    </tr>\n",
       "    <tr>\n",
       "      <th>6</th>\n",
       "      <td>3</td>\n",
       "      <td>4.0</td>\n",
       "      <td>1620</td>\n",
       "      <td>847770</td>\n",
       "      <td>2011</td>\n",
       "      <td>10244.94</td>\n",
       "      <td>LA</td>\n",
       "    </tr>\n",
       "    <tr>\n",
       "      <th>7</th>\n",
       "      <td>3</td>\n",
       "      <td>2.0</td>\n",
       "      <td>2077</td>\n",
       "      <td>646760</td>\n",
       "      <td>1926</td>\n",
       "      <td>7924.68</td>\n",
       "      <td>LA</td>\n",
       "    </tr>\n",
       "    <tr>\n",
       "      <th>11</th>\n",
       "      <td>0</td>\n",
       "      <td>0.0</td>\n",
       "      <td>1200</td>\n",
       "      <td>5328</td>\n",
       "      <td>1972</td>\n",
       "      <td>91.60</td>\n",
       "      <td>LA</td>\n",
       "    </tr>\n",
       "    <tr>\n",
       "      <th>14</th>\n",
       "      <td>0</td>\n",
       "      <td>0.0</td>\n",
       "      <td>171</td>\n",
       "      <td>6920</td>\n",
       "      <td>1973</td>\n",
       "      <td>255.17</td>\n",
       "      <td>LA</td>\n",
       "    </tr>\n",
       "  </tbody>\n",
       "</table>\n",
       "</div>"
      ],
      "text/plain": [
       "    bedroomcnt  bathroomcnt  squarefeet  taxvalue  yearbuilt  taxamount county\n",
       "4            4          2.0        3633    296425       2005    6941.39     LA\n",
       "6            3          4.0        1620    847770       2011   10244.94     LA\n",
       "7            3          2.0        2077    646760       1926    7924.68     LA\n",
       "11           0          0.0        1200      5328       1972      91.60     LA\n",
       "14           0          0.0         171      6920       1973     255.17     LA"
      ]
     },
     "execution_count": 5,
     "metadata": {},
     "output_type": "execute_result"
    }
   ],
   "source": [
    "df.head()"
   ]
  },
  {
   "cell_type": "code",
   "execution_count": 6,
   "id": "81fe7ba4-4b62-4fde-9e3e-f43c8e7232f1",
   "metadata": {},
   "outputs": [],
   "source": [
    "train, validate, test = wra.split_data(df)"
   ]
  },
  {
   "cell_type": "code",
   "execution_count": 7,
   "id": "3d3d3bc3-8cc9-4db6-a146-3dc18a1a9d75",
   "metadata": {},
   "outputs": [],
   "source": [
    "#to_scale = ['bedroomcnt','bathroomcnt','squarefeet','yearbuilt','taxamount']"
   ]
  },
  {
   "cell_type": "code",
   "execution_count": 8,
   "id": "faf8ce75-f354-4323-a0cd-5bdb331237bb",
   "metadata": {},
   "outputs": [],
   "source": [
    "#train, validate, scale = exp.scale_data(train, validate, test, to_scale)"
   ]
  },
  {
   "cell_type": "markdown",
   "id": "d7764be6-708d-4613-9ac3-2d0c1817e790",
   "metadata": {},
   "source": [
    "### 2. Fit a linear regression model (ordinary least squares) and compute yhat, predictions of taxvaluedollarcnt using only calculatedfinishedsqft."
   ]
  },
  {
   "cell_type": "code",
   "execution_count": 9,
   "id": "3bcc4331-102d-4677-92cc-47127ed9bca4",
   "metadata": {
    "tags": []
   },
   "outputs": [
    {
     "name": "stdout",
     "output_type": "stream",
     "text": [
      "                            OLS Regression Results                            \n",
      "==============================================================================\n",
      "Dep. Variable:               taxvalue   R-squared:                       0.274\n",
      "Model:                            OLS   Adj. R-squared:                  0.274\n",
      "Method:                 Least Squares   F-statistic:                 7.663e+05\n",
      "Date:                Wed, 10 May 2023   Prob (F-statistic):               0.00\n",
      "Time:                        12:12:33   Log-Likelihood:            -2.7775e+07\n",
      "No. Observations:             2033172   AIC:                         5.555e+07\n",
      "Df Residuals:                 2033170   BIC:                         5.555e+07\n",
      "Df Model:                           1                                         \n",
      "Covariance Type:            nonrobust                                         \n",
      "==============================================================================\n",
      "                 coef    std err          t      P>|t|      [0.025      0.975]\n",
      "------------------------------------------------------------------------------\n",
      "const        5.61e+04    379.799    147.711      0.000    5.54e+04    5.68e+04\n",
      "squarefeet   175.3660      0.200    875.382      0.000     174.973     175.759\n",
      "==============================================================================\n",
      "Omnibus:                   167217.260   Durbin-Watson:                   1.690\n",
      "Prob(Omnibus):                  0.000   Jarque-Bera (JB):           267096.588\n",
      "Skew:                           0.631   Prob(JB):                         0.00\n",
      "Kurtosis:                       4.250   Cond. No.                     4.95e+03\n",
      "==============================================================================\n",
      "\n",
      "Notes:\n",
      "[1] Standard Errors assume that the covariance matrix of the errors is correctly specified.\n",
      "[2] The condition number is large, 4.95e+03. This might indicate that there are\n",
      "strong multicollinearity or other numerical problems.\n"
     ]
    }
   ],
   "source": [
    "# Fit a linear regression model using OLS\n",
    "X = sm.add_constant(df['squarefeet'])\n",
    "model = sm.OLS(df['taxvalue'], X).fit()\n",
    "\n",
    "# Compute the predicted values of 'taxvaluedollarcnt'\n",
    "yhat = model.predict(X)\n",
    "\n",
    "# Print the model summary\n",
    "print(model.summary())"
   ]
  },
  {
   "cell_type": "code",
   "execution_count": 10,
   "id": "92425f2a-3fe4-4956-9a05-451663679400",
   "metadata": {},
   "outputs": [
    {
     "data": {
      "text/plain": [
       "363532.06723244983"
      ]
     },
     "execution_count": 10,
     "metadata": {},
     "output_type": "execute_result"
    }
   ],
   "source": [
    "#create baseline of y-target\n",
    "baseline = train.taxvalue.mean()\n",
    "baseline"
   ]
  },
  {
   "cell_type": "code",
   "execution_count": 11,
   "id": "ad6b8c3b-76da-404c-b00a-c41aa597fe75",
   "metadata": {},
   "outputs": [
    {
     "data": {
      "text/plain": [
       "array([580049.24806397, 584607.35349842, 507294.8728601 , ...,\n",
       "       379141.98545281, 302881.37529937, 331807.81363343])"
      ]
     },
     "execution_count": 11,
     "metadata": {},
     "output_type": "execute_result"
    }
   ],
   "source": [
    "# make it\n",
    "lr = LinearRegression()\n",
    "\n",
    "# fit it to training data\n",
    "lr.fit(train[['squarefeet']], train.taxvalue)\n",
    "\n",
    "# use it\n",
    "# we will use lr.predict to make predictions \n",
    "lr.predict(train[['squarefeet']])"
   ]
  },
  {
   "cell_type": "code",
   "execution_count": 12,
   "id": "682f3dc2-88b0-4240-a2fe-e43482916149",
   "metadata": {},
   "outputs": [
    {
     "data": {
      "text/html": [
       "<div>\n",
       "<style scoped>\n",
       "    .dataframe tbody tr th:only-of-type {\n",
       "        vertical-align: middle;\n",
       "    }\n",
       "\n",
       "    .dataframe tbody tr th {\n",
       "        vertical-align: top;\n",
       "    }\n",
       "\n",
       "    .dataframe thead th {\n",
       "        text-align: right;\n",
       "    }\n",
       "</style>\n",
       "<table border=\"1\" class=\"dataframe\">\n",
       "  <thead>\n",
       "    <tr style=\"text-align: right;\">\n",
       "      <th></th>\n",
       "      <th>bedroomcnt</th>\n",
       "      <th>bathroomcnt</th>\n",
       "      <th>squarefeet</th>\n",
       "      <th>taxvalue</th>\n",
       "      <th>yearbuilt</th>\n",
       "      <th>taxamount</th>\n",
       "      <th>county</th>\n",
       "      <th>yhat</th>\n",
       "    </tr>\n",
       "  </thead>\n",
       "  <tbody>\n",
       "    <tr>\n",
       "      <th>1571798</th>\n",
       "      <td>4</td>\n",
       "      <td>2.5</td>\n",
       "      <td>2987</td>\n",
       "      <td>885000</td>\n",
       "      <td>2006</td>\n",
       "      <td>13617.38</td>\n",
       "      <td>Orange</td>\n",
       "      <td>580049.248064</td>\n",
       "    </tr>\n",
       "    <tr>\n",
       "      <th>1723553</th>\n",
       "      <td>3</td>\n",
       "      <td>2.0</td>\n",
       "      <td>3013</td>\n",
       "      <td>489511</td>\n",
       "      <td>1977</td>\n",
       "      <td>5768.57</td>\n",
       "      <td>LA</td>\n",
       "      <td>584607.353498</td>\n",
       "    </tr>\n",
       "    <tr>\n",
       "      <th>718174</th>\n",
       "      <td>4</td>\n",
       "      <td>3.0</td>\n",
       "      <td>2572</td>\n",
       "      <td>390915</td>\n",
       "      <td>1986</td>\n",
       "      <td>4944.11</td>\n",
       "      <td>LA</td>\n",
       "      <td>507294.872860</td>\n",
       "    </tr>\n",
       "    <tr>\n",
       "      <th>1663205</th>\n",
       "      <td>3</td>\n",
       "      <td>1.0</td>\n",
       "      <td>1589</td>\n",
       "      <td>321758</td>\n",
       "      <td>1959</td>\n",
       "      <td>4031.78</td>\n",
       "      <td>LA</td>\n",
       "      <td>334963.425088</td>\n",
       "    </tr>\n",
       "    <tr>\n",
       "      <th>1087891</th>\n",
       "      <td>3</td>\n",
       "      <td>2.0</td>\n",
       "      <td>1727</td>\n",
       "      <td>231737</td>\n",
       "      <td>1962</td>\n",
       "      <td>2708.80</td>\n",
       "      <td>Ventura</td>\n",
       "      <td>359156.446240</td>\n",
       "    </tr>\n",
       "  </tbody>\n",
       "</table>\n",
       "</div>"
      ],
      "text/plain": [
       "         bedroomcnt  bathroomcnt  squarefeet  taxvalue  yearbuilt  taxamount  \\\n",
       "1571798           4          2.5        2987    885000       2006   13617.38   \n",
       "1723553           3          2.0        3013    489511       1977    5768.57   \n",
       "718174            4          3.0        2572    390915       1986    4944.11   \n",
       "1663205           3          1.0        1589    321758       1959    4031.78   \n",
       "1087891           3          2.0        1727    231737       1962    2708.80   \n",
       "\n",
       "          county           yhat  \n",
       "1571798   Orange  580049.248064  \n",
       "1723553       LA  584607.353498  \n",
       "718174        LA  507294.872860  \n",
       "1663205       LA  334963.425088  \n",
       "1087891  Ventura  359156.446240  "
      ]
     },
     "execution_count": 12,
     "metadata": {},
     "output_type": "execute_result"
    }
   ],
   "source": [
    "train['yhat'] = lr.predict(train[['squarefeet']])\n",
    "train.head()"
   ]
  },
  {
   "cell_type": "markdown",
   "id": "cb3496f6-46d8-4fb5-8fec-d8bbf357d4ca",
   "metadata": {},
   "source": [
    "### 3. Plot the residuals for the linear regression model that you made"
   ]
  },
  {
   "cell_type": "code",
   "execution_count": 13,
   "id": "c79ee428-7f68-4213-b058-ffa527812c37",
   "metadata": {},
   "outputs": [],
   "source": [
    "# residual = actual - predicted\n",
    "train['baseline_residual'] = train.taxvalue - baseline"
   ]
  },
  {
   "cell_type": "code",
   "execution_count": 14,
   "id": "2270ecf9-c4a3-4f23-8dfc-ec4762619fcb",
   "metadata": {},
   "outputs": [
    {
     "data": {
      "text/html": [
       "<div>\n",
       "<style scoped>\n",
       "    .dataframe tbody tr th:only-of-type {\n",
       "        vertical-align: middle;\n",
       "    }\n",
       "\n",
       "    .dataframe tbody tr th {\n",
       "        vertical-align: top;\n",
       "    }\n",
       "\n",
       "    .dataframe thead th {\n",
       "        text-align: right;\n",
       "    }\n",
       "</style>\n",
       "<table border=\"1\" class=\"dataframe\">\n",
       "  <thead>\n",
       "    <tr style=\"text-align: right;\">\n",
       "      <th></th>\n",
       "      <th>bedroomcnt</th>\n",
       "      <th>bathroomcnt</th>\n",
       "      <th>squarefeet</th>\n",
       "      <th>taxvalue</th>\n",
       "      <th>yearbuilt</th>\n",
       "      <th>taxamount</th>\n",
       "      <th>county</th>\n",
       "      <th>yhat</th>\n",
       "      <th>baseline_residual</th>\n",
       "    </tr>\n",
       "  </thead>\n",
       "  <tbody>\n",
       "    <tr>\n",
       "      <th>1571798</th>\n",
       "      <td>4</td>\n",
       "      <td>2.5</td>\n",
       "      <td>2987</td>\n",
       "      <td>885000</td>\n",
       "      <td>2006</td>\n",
       "      <td>13617.38</td>\n",
       "      <td>Orange</td>\n",
       "      <td>580049.248064</td>\n",
       "      <td>521467.932768</td>\n",
       "    </tr>\n",
       "    <tr>\n",
       "      <th>1723553</th>\n",
       "      <td>3</td>\n",
       "      <td>2.0</td>\n",
       "      <td>3013</td>\n",
       "      <td>489511</td>\n",
       "      <td>1977</td>\n",
       "      <td>5768.57</td>\n",
       "      <td>LA</td>\n",
       "      <td>584607.353498</td>\n",
       "      <td>125978.932768</td>\n",
       "    </tr>\n",
       "    <tr>\n",
       "      <th>718174</th>\n",
       "      <td>4</td>\n",
       "      <td>3.0</td>\n",
       "      <td>2572</td>\n",
       "      <td>390915</td>\n",
       "      <td>1986</td>\n",
       "      <td>4944.11</td>\n",
       "      <td>LA</td>\n",
       "      <td>507294.872860</td>\n",
       "      <td>27382.932768</td>\n",
       "    </tr>\n",
       "    <tr>\n",
       "      <th>1663205</th>\n",
       "      <td>3</td>\n",
       "      <td>1.0</td>\n",
       "      <td>1589</td>\n",
       "      <td>321758</td>\n",
       "      <td>1959</td>\n",
       "      <td>4031.78</td>\n",
       "      <td>LA</td>\n",
       "      <td>334963.425088</td>\n",
       "      <td>-41774.067232</td>\n",
       "    </tr>\n",
       "    <tr>\n",
       "      <th>1087891</th>\n",
       "      <td>3</td>\n",
       "      <td>2.0</td>\n",
       "      <td>1727</td>\n",
       "      <td>231737</td>\n",
       "      <td>1962</td>\n",
       "      <td>2708.80</td>\n",
       "      <td>Ventura</td>\n",
       "      <td>359156.446240</td>\n",
       "      <td>-131795.067232</td>\n",
       "    </tr>\n",
       "  </tbody>\n",
       "</table>\n",
       "</div>"
      ],
      "text/plain": [
       "         bedroomcnt  bathroomcnt  squarefeet  taxvalue  yearbuilt  taxamount  \\\n",
       "1571798           4          2.5        2987    885000       2006   13617.38   \n",
       "1723553           3          2.0        3013    489511       1977    5768.57   \n",
       "718174            4          3.0        2572    390915       1986    4944.11   \n",
       "1663205           3          1.0        1589    321758       1959    4031.78   \n",
       "1087891           3          2.0        1727    231737       1962    2708.80   \n",
       "\n",
       "          county           yhat  baseline_residual  \n",
       "1571798   Orange  580049.248064      521467.932768  \n",
       "1723553       LA  584607.353498      125978.932768  \n",
       "718174        LA  507294.872860       27382.932768  \n",
       "1663205       LA  334963.425088      -41774.067232  \n",
       "1087891  Ventura  359156.446240     -131795.067232  "
      ]
     },
     "execution_count": 14,
     "metadata": {},
     "output_type": "execute_result"
    }
   ],
   "source": [
    "train.head()"
   ]
  },
  {
   "cell_type": "code",
   "execution_count": 15,
   "id": "1450aa59-8389-44ed-ae9b-ebff85fd133c",
   "metadata": {},
   "outputs": [
    {
     "data": {
      "text/html": [
       "<div>\n",
       "<style scoped>\n",
       "    .dataframe tbody tr th:only-of-type {\n",
       "        vertical-align: middle;\n",
       "    }\n",
       "\n",
       "    .dataframe tbody tr th {\n",
       "        vertical-align: top;\n",
       "    }\n",
       "\n",
       "    .dataframe thead th {\n",
       "        text-align: right;\n",
       "    }\n",
       "</style>\n",
       "<table border=\"1\" class=\"dataframe\">\n",
       "  <thead>\n",
       "    <tr style=\"text-align: right;\">\n",
       "      <th></th>\n",
       "      <th>bedroomcnt</th>\n",
       "      <th>bathroomcnt</th>\n",
       "      <th>squarefeet</th>\n",
       "      <th>taxvalue</th>\n",
       "      <th>yearbuilt</th>\n",
       "      <th>taxamount</th>\n",
       "      <th>county</th>\n",
       "      <th>yhat</th>\n",
       "      <th>baseline_residual</th>\n",
       "      <th>residuals</th>\n",
       "    </tr>\n",
       "  </thead>\n",
       "  <tbody>\n",
       "    <tr>\n",
       "      <th>1571798</th>\n",
       "      <td>4</td>\n",
       "      <td>2.5</td>\n",
       "      <td>2987</td>\n",
       "      <td>885000</td>\n",
       "      <td>2006</td>\n",
       "      <td>13617.38</td>\n",
       "      <td>Orange</td>\n",
       "      <td>580049.248064</td>\n",
       "      <td>521467.932768</td>\n",
       "      <td>-304950.751936</td>\n",
       "    </tr>\n",
       "    <tr>\n",
       "      <th>1723553</th>\n",
       "      <td>3</td>\n",
       "      <td>2.0</td>\n",
       "      <td>3013</td>\n",
       "      <td>489511</td>\n",
       "      <td>1977</td>\n",
       "      <td>5768.57</td>\n",
       "      <td>LA</td>\n",
       "      <td>584607.353498</td>\n",
       "      <td>125978.932768</td>\n",
       "      <td>95096.353498</td>\n",
       "    </tr>\n",
       "    <tr>\n",
       "      <th>718174</th>\n",
       "      <td>4</td>\n",
       "      <td>3.0</td>\n",
       "      <td>2572</td>\n",
       "      <td>390915</td>\n",
       "      <td>1986</td>\n",
       "      <td>4944.11</td>\n",
       "      <td>LA</td>\n",
       "      <td>507294.872860</td>\n",
       "      <td>27382.932768</td>\n",
       "      <td>116379.872860</td>\n",
       "    </tr>\n",
       "    <tr>\n",
       "      <th>1663205</th>\n",
       "      <td>3</td>\n",
       "      <td>1.0</td>\n",
       "      <td>1589</td>\n",
       "      <td>321758</td>\n",
       "      <td>1959</td>\n",
       "      <td>4031.78</td>\n",
       "      <td>LA</td>\n",
       "      <td>334963.425088</td>\n",
       "      <td>-41774.067232</td>\n",
       "      <td>13205.425088</td>\n",
       "    </tr>\n",
       "    <tr>\n",
       "      <th>1087891</th>\n",
       "      <td>3</td>\n",
       "      <td>2.0</td>\n",
       "      <td>1727</td>\n",
       "      <td>231737</td>\n",
       "      <td>1962</td>\n",
       "      <td>2708.80</td>\n",
       "      <td>Ventura</td>\n",
       "      <td>359156.446240</td>\n",
       "      <td>-131795.067232</td>\n",
       "      <td>127419.446240</td>\n",
       "    </tr>\n",
       "  </tbody>\n",
       "</table>\n",
       "</div>"
      ],
      "text/plain": [
       "         bedroomcnt  bathroomcnt  squarefeet  taxvalue  yearbuilt  taxamount  \\\n",
       "1571798           4          2.5        2987    885000       2006   13617.38   \n",
       "1723553           3          2.0        3013    489511       1977    5768.57   \n",
       "718174            4          3.0        2572    390915       1986    4944.11   \n",
       "1663205           3          1.0        1589    321758       1959    4031.78   \n",
       "1087891           3          2.0        1727    231737       1962    2708.80   \n",
       "\n",
       "          county           yhat  baseline_residual      residuals  \n",
       "1571798   Orange  580049.248064      521467.932768 -304950.751936  \n",
       "1723553       LA  584607.353498      125978.932768   95096.353498  \n",
       "718174        LA  507294.872860       27382.932768  116379.872860  \n",
       "1663205       LA  334963.425088      -41774.067232   13205.425088  \n",
       "1087891  Ventura  359156.446240     -131795.067232  127419.446240  "
      ]
     },
     "execution_count": 15,
     "metadata": {},
     "output_type": "execute_result"
    }
   ],
   "source": [
    "# residual = actual - predicted\n",
    "train['residuals'] = train.yhat - train.taxvalue\n",
    "train.head()"
   ]
  },
  {
   "cell_type": "code",
   "execution_count": 16,
   "id": "d912557d-e685-43e8-8cf5-1553c4e292e3",
   "metadata": {},
   "outputs": [
    {
     "data": {
      "image/png": "[encoded data removed]",
      "text/plain": [
       "<Figure size 640x480 with 1 Axes>"
      ]
     },
     "metadata": {},
     "output_type": "display_data"
    }
   ],
   "source": [
    "# visualize the line of best fit from OLS linear model\n",
    "\n",
    "# scatter is my actuals\n",
    "plt.scatter(train.squarefeet, train.residuals)\n",
    "\n",
    "# lineplot is my regression line\n",
    "plt.plot(train.squarefeet, train.yhat)\n",
    "\n",
    "plt.xlabel('x = squarefeet')\n",
    "plt.ylabel('y = residuals')\n",
    "plt.title('OLS linear model (n = 5000)')\n",
    "#plt.text(5000, 5000000, 'n = 5000', fontsize=12, color='red')\n",
    "\n",
    "plt.show()"
   ]
  },
  {
   "cell_type": "markdown",
   "id": "8cf32d95-8e9b-4498-9338-9c8b32c1a7cf",
   "metadata": {},
   "source": [
    "### 4. Calculate the sum of squared errors, explained sum of squares, total sum of squares, mean squared error, and root mean squared error for your model."
   ]
  },
  {
   "cell_type": "code",
   "execution_count": 19,
   "id": "95314f4e-e804-47c8-a3de-f7be7c62461c",
   "metadata": {},
   "outputs": [],
   "source": [
    "# the difference between yhat and y, just squared\n",
    "train['baseline_residual_2'] = train.baseline_residual ** 2\n",
    "train['residual_2'] = train.residuals **2 "
   ]
  },
  {
   "cell_type": "code",
   "execution_count": 17,
   "id": "683db844-f262-43b6-8d63-6e106533424d",
   "metadata": {},
   "outputs": [
    {
     "name": "stdout",
     "output_type": "stream",
     "text": [
      "SSE: 7.220942982660589e+16\n",
      "MSE: 59192812067.367615\n",
      "RMSE: 243295.7296529629\n"
     ]
    }
   ],
   "source": [
    "# Calculate the mean taxvalue\n",
    "mean_taxvalue = np.mean(train['taxvalue'])\n",
    "\n",
    "# Calculate the SSE, MSE, and RMSE\n",
    "SSE = np.sum((train['taxvalue'] - mean_taxvalue)**2)\n",
    "MSE = SSE / len(train)\n",
    "RMSE = np.sqrt(MSE)\n",
    "\n",
    "# Print the results\n",
    "print(\"SSE:\", SSE)\n",
    "print(\"MSE:\", MSE)\n",
    "print(\"RMSE:\", RMSE)"
   ]
  },
  {
   "cell_type": "markdown",
   "id": "c01d7dab-980a-43d0-8e61-15c77886ddeb",
   "metadata": {},
   "source": [
    "### 5. Calculate the sum of squared errors, mean squared error, and root mean squared error for the baseline model (i.e. a model that always predicts the average taxvaluedollarcnt amount)."
   ]
  },
  {
   "cell_type": "code",
   "execution_count": null,
   "id": "88d51b1e-6880-48f8-91fb-4a735d951845",
   "metadata": {},
   "outputs": [],
   "source": []
  },
  {
   "cell_type": "code",
   "execution_count": null,
   "id": "f7b64deb-47d7-4690-b17a-c38a3cf440e1",
   "metadata": {},
   "outputs": [],
   "source": []
  },
  {
   "cell_type": "code",
   "execution_count": null,
   "id": "2ada01ca-ddba-43df-b993-739f9c200e43",
   "metadata": {},
   "outputs": [],
   "source": []
  },
  {
   "cell_type": "markdown",
   "id": "3fe9583a-9d89-499c-a276-9ea76e07d5ad",
   "metadata": {},
   "source": [
    "### 6. Write python code that compares the sum of squared errors for your model against the sum of squared errors for the baseline model and outputs whether or not your model performs better than the baseline model."
   ]
  },
  {
   "cell_type": "code",
   "execution_count": 21,
   "id": "14a493f8-7cff-4dc8-b9a6-0761c11e6622",
   "metadata": {},
   "outputs": [],
   "source": [
    "#add the residuals together\n",
    "SSE_baseline = train.baseline_residual_2.sum()\n",
    "SSE = train.residual_2.sum()"
   ]
  },
  {
   "cell_type": "code",
   "execution_count": 22,
   "id": "6b27d2ee-a94f-48c9-90eb-836f54f03b12",
   "metadata": {},
   "outputs": [
    {
     "name": "stdout",
     "output_type": "stream",
     "text": [
      "SSE_baseline = 72209429826605888.0\n",
      "SSE = 52446247997834368.0\n"
     ]
    }
   ],
   "source": [
    "print(\"SSE_baseline =\", \"{:.1f}\".format(SSE_baseline))\n",
    "print('SSE =', \"{:.1f}\".format(SSE))"
   ]
  },
  {
   "cell_type": "markdown",
   "id": "fc31bea6-02df-4287-a714-a2d7204ccdbd",
   "metadata": {},
   "source": [
    "### 7. What is the amount of variance explained in your model?"
   ]
  },
  {
   "cell_type": "code",
   "execution_count": 23,
   "id": "2821b0c9-8a96-423d-9bdb-f6a04d2710e9",
   "metadata": {},
   "outputs": [
    {
     "data": {
      "text/plain": [
       "0.27369253401153004"
      ]
     },
     "execution_count": 23,
     "metadata": {},
     "output_type": "execute_result"
    }
   ],
   "source": [
    "#use r2_score\n",
    "r2_score(train.taxvalue, train.yhat)"
   ]
  },
  {
   "cell_type": "markdown",
   "id": "5bf87784-1bb0-4119-b040-324935b8126b",
   "metadata": {},
   "source": [
    "### 8. Is your model better than the baseline model?"
   ]
  },
  {
   "cell_type": "code",
   "execution_count": 24,
   "id": "7b3ecd8d-1b2c-4426-aecc-eb7658494230",
   "metadata": {
    "tags": []
   },
   "outputs": [
    {
     "data": {
      "text/plain": [
       "1.976318182877152e+16"
      ]
     },
     "execution_count": 24,
     "metadata": {},
     "output_type": "execute_result"
    }
   ],
   "source": [
    "SSE_baseline - SSE"
   ]
  },
  {
   "cell_type": "markdown",
   "id": "ac54173c-877c-40ed-81e2-662667c3532c",
   "metadata": {},
   "source": [
    "### A: Our model is better than baseline, but less than awesome."
   ]
  },
  {
   "cell_type": "markdown",
   "id": "41096e18-9fdb-4c3e-8c58-9caf88ee9d3a",
   "metadata": {},
   "source": [
    "### 9. Create a file named evaluate.py that contains the following functions.\n",
    "\n",
    "* plot_residuals(y, yhat): creates a residual plot\n",
    "* regression_errors(y, yhat): returns the following values:\n",
    "    * sum of squared errors (SSE)\n",
    "    * explained sum of squares (ESS)\n",
    "    * total sum of squares (TSS)\n",
    "    * mean squared error (MSE)\n",
    "    * root mean squared error (RMSE)\n",
    "* baseline_mean_errors(y): computes the SSE, MSE, and RMSE for the baseline model\n",
    "* better_than_baseline(y, yhat): returns true if your model performs better than the baseline, otherwise false"
   ]
  },
  {
   "cell_type": "code",
   "execution_count": null,
   "id": "420b0d8c-30c4-4fbc-9f6c-53e4bf54cf8c",
   "metadata": {},
   "outputs": [],
   "source": []
  }
 ],
 "metadata": {
  "kernelspec": {
   "display_name": "Python 3 (ipykernel)",
   "language": "python",
   "name": "python3"
  },
  "language_info": {
   "codemirror_mode": {
    "name": "ipython",
    "version": 3
   },
   "file_extension": ".py",
   "mimetype": "text/x-python",
   "name": "python",
   "nbconvert_exporter": "python",
   "pygments_lexer": "ipython3",
   "version": "3.9.13"
  }
 },
 "nbformat": 4,
 "nbformat_minor": 5
}
