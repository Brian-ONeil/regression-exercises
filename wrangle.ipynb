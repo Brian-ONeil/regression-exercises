{
 "cells": [
  {
   "cell_type": "code",
   "execution_count": 1,
   "id": "c96e9a53-da8b-4802-93fb-8e03465efa4b",
   "metadata": {},
   "outputs": [],
   "source": [
    "# necessary imports\n",
    "import numpy as np\n",
    "import os\n",
    "import seaborn as sns\n",
    "import scipy.stats as stat\n",
    "import pandas as pd\n",
    "import matplotlib.pyplot as plt\n",
    "from pydataset import data\n",
    "import warnings\n",
    "warnings.filterwarnings(\"ignore\")\n",
    "import wrangle as wra\n",
    "import env\n",
    "from sklearn.model_selection import train_test_split"
   ]
  },
  {
   "cell_type": "markdown",
   "id": "d94d46c4-5822-40ca-97c2-2f39fcbadd3e",
   "metadata": {},
   "source": [
    "# Acquire"
   ]
  },
  {
   "cell_type": "code",
   "execution_count": 2,
   "id": "74f02e2f-9381-4516-be47-4bf0a9f72622",
   "metadata": {},
   "outputs": [
    {
     "data": {
      "text/html": [
       "<div>\n",
       "<style scoped>\n",
       "    .dataframe tbody tr th:only-of-type {\n",
       "        vertical-align: middle;\n",
       "    }\n",
       "\n",
       "    .dataframe tbody tr th {\n",
       "        vertical-align: top;\n",
       "    }\n",
       "\n",
       "    .dataframe thead th {\n",
       "        text-align: right;\n",
       "    }\n",
       "</style>\n",
       "<table border=\"1\" class=\"dataframe\">\n",
       "  <thead>\n",
       "    <tr style=\"text-align: right;\">\n",
       "      <th></th>\n",
       "      <th>Unnamed: 0</th>\n",
       "      <th>bedroomcnt</th>\n",
       "      <th>bathroomcnt</th>\n",
       "      <th>calculatedfinishedsquarefeet</th>\n",
       "      <th>taxvaluedollarcnt</th>\n",
       "      <th>yearbuilt</th>\n",
       "      <th>taxamount</th>\n",
       "      <th>fips</th>\n",
       "    </tr>\n",
       "  </thead>\n",
       "  <tbody>\n",
       "    <tr>\n",
       "      <th>0</th>\n",
       "      <td>0</td>\n",
       "      <td>0.0</td>\n",
       "      <td>0.0</td>\n",
       "      <td>NaN</td>\n",
       "      <td>27516.0</td>\n",
       "      <td>NaN</td>\n",
       "      <td>NaN</td>\n",
       "      <td>6037.0</td>\n",
       "    </tr>\n",
       "    <tr>\n",
       "      <th>1</th>\n",
       "      <td>1</td>\n",
       "      <td>0.0</td>\n",
       "      <td>0.0</td>\n",
       "      <td>NaN</td>\n",
       "      <td>10.0</td>\n",
       "      <td>NaN</td>\n",
       "      <td>NaN</td>\n",
       "      <td>6037.0</td>\n",
       "    </tr>\n",
       "    <tr>\n",
       "      <th>2</th>\n",
       "      <td>2</td>\n",
       "      <td>0.0</td>\n",
       "      <td>0.0</td>\n",
       "      <td>NaN</td>\n",
       "      <td>10.0</td>\n",
       "      <td>NaN</td>\n",
       "      <td>NaN</td>\n",
       "      <td>6037.0</td>\n",
       "    </tr>\n",
       "    <tr>\n",
       "      <th>3</th>\n",
       "      <td>3</td>\n",
       "      <td>0.0</td>\n",
       "      <td>0.0</td>\n",
       "      <td>NaN</td>\n",
       "      <td>2108.0</td>\n",
       "      <td>NaN</td>\n",
       "      <td>174.21</td>\n",
       "      <td>6037.0</td>\n",
       "    </tr>\n",
       "    <tr>\n",
       "      <th>4</th>\n",
       "      <td>4</td>\n",
       "      <td>4.0</td>\n",
       "      <td>2.0</td>\n",
       "      <td>3633.0</td>\n",
       "      <td>296425.0</td>\n",
       "      <td>2005.0</td>\n",
       "      <td>6941.39</td>\n",
       "      <td>6037.0</td>\n",
       "    </tr>\n",
       "  </tbody>\n",
       "</table>\n",
       "</div>"
      ],
      "text/plain": [
       "   Unnamed: 0  bedroomcnt  bathroomcnt  calculatedfinishedsquarefeet  \\\n",
       "0           0         0.0          0.0                           NaN   \n",
       "1           1         0.0          0.0                           NaN   \n",
       "2           2         0.0          0.0                           NaN   \n",
       "3           3         0.0          0.0                           NaN   \n",
       "4           4         4.0          2.0                        3633.0   \n",
       "\n",
       "   taxvaluedollarcnt  yearbuilt  taxamount    fips  \n",
       "0            27516.0        NaN        NaN  6037.0  \n",
       "1               10.0        NaN        NaN  6037.0  \n",
       "2               10.0        NaN        NaN  6037.0  \n",
       "3             2108.0        NaN     174.21  6037.0  \n",
       "4           296425.0     2005.0    6941.39  6037.0  "
      ]
     },
     "execution_count": 2,
     "metadata": {},
     "output_type": "execute_result"
    }
   ],
   "source": [
    "# build query and look at data\n",
    "zillow_query = \"\"\"\n",
    "        select bedroomcnt, bathroomcnt, calculatedfinishedsquarefeet, taxvaluedollarcnt, yearbuilt, taxamount, fips\n",
    "        from properties_2017\n",
    "        where propertylandusetypeid = '261';\n",
    "        \"\"\"\n",
    "\n",
    "zillow_df = wra.get_zillow_data(zillow_query)\n",
    "\n",
    "zillow_df.head()"
   ]
  },
  {
   "cell_type": "code",
   "execution_count": 3,
   "id": "c2e25f0b-3c63-48c7-b235-0b8f82a18f4b",
   "metadata": {},
   "outputs": [],
   "source": [
    "df = zillow_df"
   ]
  },
  {
   "cell_type": "code",
   "execution_count": 4,
   "id": "bc4748d7-370e-4b76-9ce8-44216cf1d4d5",
   "metadata": {},
   "outputs": [],
   "source": [
    "df.drop('Unnamed: 0', axis=1, inplace=True)"
   ]
  },
  {
   "cell_type": "markdown",
   "id": "939cf090-1b25-4c16-ad9a-e0cde136a4e7",
   "metadata": {},
   "source": [
    "# Sample and Summarize"
   ]
  },
  {
   "cell_type": "code",
   "execution_count": 5,
   "id": "6185253b-10d4-482c-a6a0-79a4633fff73",
   "metadata": {},
   "outputs": [],
   "source": [
    "df.rename(columns={'calculatedfinishedsquarefeet': 'squarefeet', 'taxvaluedollarcnt': 'taxvalue', 'fips': 'county'}, inplace=True)"
   ]
  },
  {
   "cell_type": "code",
   "execution_count": 6,
   "id": "6909dfb5-13bd-4316-8ea7-cef3cafce523",
   "metadata": {},
   "outputs": [
    {
     "name": "stdout",
     "output_type": "stream",
     "text": [
      "<class 'pandas.core.frame.DataFrame'>\n",
      "RangeIndex: 2152863 entries, 0 to 2152862\n",
      "Data columns (total 7 columns):\n",
      " #   Column       Dtype  \n",
      "---  ------       -----  \n",
      " 0   bedroomcnt   float64\n",
      " 1   bathroomcnt  float64\n",
      " 2   squarefeet   float64\n",
      " 3   taxvalue     float64\n",
      " 4   yearbuilt    float64\n",
      " 5   taxamount    float64\n",
      " 6   county       float64\n",
      "dtypes: float64(7)\n",
      "memory usage: 115.0 MB\n"
     ]
    }
   ],
   "source": [
    "df.info()"
   ]
  },
  {
   "cell_type": "code",
   "execution_count": 7,
   "id": "d2a80759-a3e0-4137-b8ab-9b9a95d6cbd1",
   "metadata": {},
   "outputs": [
    {
     "data": {
      "text/plain": [
       "(2152863, 7)"
      ]
     },
     "execution_count": 7,
     "metadata": {},
     "output_type": "execute_result"
    }
   ],
   "source": [
    "df.shape"
   ]
  },
  {
   "cell_type": "code",
   "execution_count": 8,
   "id": "0be80ce9-481f-488d-b85f-d570d7856ead",
   "metadata": {},
   "outputs": [
    {
     "data": {
      "text/html": [
       "<div>\n",
       "<style scoped>\n",
       "    .dataframe tbody tr th:only-of-type {\n",
       "        vertical-align: middle;\n",
       "    }\n",
       "\n",
       "    .dataframe tbody tr th {\n",
       "        vertical-align: top;\n",
       "    }\n",
       "\n",
       "    .dataframe thead th {\n",
       "        text-align: right;\n",
       "    }\n",
       "</style>\n",
       "<table border=\"1\" class=\"dataframe\">\n",
       "  <thead>\n",
       "    <tr style=\"text-align: right;\">\n",
       "      <th></th>\n",
       "      <th>count</th>\n",
       "      <th>mean</th>\n",
       "      <th>std</th>\n",
       "      <th>min</th>\n",
       "      <th>25%</th>\n",
       "      <th>50%</th>\n",
       "      <th>75%</th>\n",
       "      <th>max</th>\n",
       "    </tr>\n",
       "  </thead>\n",
       "  <tbody>\n",
       "    <tr>\n",
       "      <th>bedroomcnt</th>\n",
       "      <td>2152852.0</td>\n",
       "      <td>3.287196</td>\n",
       "      <td>0.954754</td>\n",
       "      <td>0.00</td>\n",
       "      <td>3.00</td>\n",
       "      <td>3.00</td>\n",
       "      <td>4.00</td>\n",
       "      <td>25.00</td>\n",
       "    </tr>\n",
       "    <tr>\n",
       "      <th>bathroomcnt</th>\n",
       "      <td>2152852.0</td>\n",
       "      <td>2.230688</td>\n",
       "      <td>0.999280</td>\n",
       "      <td>0.00</td>\n",
       "      <td>2.00</td>\n",
       "      <td>2.00</td>\n",
       "      <td>3.00</td>\n",
       "      <td>32.00</td>\n",
       "    </tr>\n",
       "    <tr>\n",
       "      <th>squarefeet</th>\n",
       "      <td>2144379.0</td>\n",
       "      <td>1862.855178</td>\n",
       "      <td>1222.125124</td>\n",
       "      <td>1.00</td>\n",
       "      <td>1257.00</td>\n",
       "      <td>1623.00</td>\n",
       "      <td>2208.00</td>\n",
       "      <td>952576.00</td>\n",
       "    </tr>\n",
       "    <tr>\n",
       "      <th>taxvalue</th>\n",
       "      <td>2152370.0</td>\n",
       "      <td>461896.237963</td>\n",
       "      <td>699676.049600</td>\n",
       "      <td>1.00</td>\n",
       "      <td>188170.25</td>\n",
       "      <td>327671.00</td>\n",
       "      <td>534527.00</td>\n",
       "      <td>98428909.00</td>\n",
       "    </tr>\n",
       "    <tr>\n",
       "      <th>yearbuilt</th>\n",
       "      <td>2143526.0</td>\n",
       "      <td>1960.949681</td>\n",
       "      <td>22.162196</td>\n",
       "      <td>1801.00</td>\n",
       "      <td>1949.00</td>\n",
       "      <td>1958.00</td>\n",
       "      <td>1976.00</td>\n",
       "      <td>2016.00</td>\n",
       "    </tr>\n",
       "    <tr>\n",
       "      <th>taxamount</th>\n",
       "      <td>2148421.0</td>\n",
       "      <td>5634.865978</td>\n",
       "      <td>8178.910249</td>\n",
       "      <td>1.85</td>\n",
       "      <td>2534.98</td>\n",
       "      <td>4108.95</td>\n",
       "      <td>6414.32</td>\n",
       "      <td>1337755.86</td>\n",
       "    </tr>\n",
       "    <tr>\n",
       "      <th>county</th>\n",
       "      <td>2152863.0</td>\n",
       "      <td>6048.377335</td>\n",
       "      <td>20.433292</td>\n",
       "      <td>6037.00</td>\n",
       "      <td>6037.00</td>\n",
       "      <td>6037.00</td>\n",
       "      <td>6059.00</td>\n",
       "      <td>6111.00</td>\n",
       "    </tr>\n",
       "  </tbody>\n",
       "</table>\n",
       "</div>"
      ],
      "text/plain": [
       "                 count           mean            std      min        25%  \\\n",
       "bedroomcnt   2152852.0       3.287196       0.954754     0.00       3.00   \n",
       "bathroomcnt  2152852.0       2.230688       0.999280     0.00       2.00   \n",
       "squarefeet   2144379.0    1862.855178    1222.125124     1.00    1257.00   \n",
       "taxvalue     2152370.0  461896.237963  699676.049600     1.00  188170.25   \n",
       "yearbuilt    2143526.0    1960.949681      22.162196  1801.00    1949.00   \n",
       "taxamount    2148421.0    5634.865978    8178.910249     1.85    2534.98   \n",
       "county       2152863.0    6048.377335      20.433292  6037.00    6037.00   \n",
       "\n",
       "                   50%        75%          max  \n",
       "bedroomcnt        3.00       4.00        25.00  \n",
       "bathroomcnt       2.00       3.00        32.00  \n",
       "squarefeet     1623.00    2208.00    952576.00  \n",
       "taxvalue     327671.00  534527.00  98428909.00  \n",
       "yearbuilt      1958.00    1976.00      2016.00  \n",
       "taxamount      4108.95    6414.32   1337755.86  \n",
       "county         6037.00    6059.00      6111.00  "
      ]
     },
     "execution_count": 8,
     "metadata": {},
     "output_type": "execute_result"
    }
   ],
   "source": [
    "df.describe().T"
   ]
  },
  {
   "cell_type": "markdown",
   "id": "ad94109e-fb12-4bd7-af82-2a63fcd1f114",
   "metadata": {},
   "source": [
    "# Acquire and Summarize Takeaways\n",
    "* All objects are floats\n",
    "* We have 2,152,863 rows and 7 columns\n"
   ]
  },
  {
   "cell_type": "markdown",
   "id": "5bb15c9b-1d50-4b91-984d-d07389e06eed",
   "metadata": {},
   "source": [
    "# Prepare\n",
    "## Goals:\n",
    "\n",
    "* verify/correct datatypes\n",
    "* handle your nulls\n",
    "* encode your string values\n",
    "* visualize our univariate variables\n",
    "* end with my train/validate/test split\n",
    "* rename columns"
   ]
  },
  {
   "cell_type": "code",
   "execution_count": 9,
   "id": "248f296d-7e67-49b9-a637-2b8f41bacbd7",
   "metadata": {},
   "outputs": [],
   "source": [
    "df.dropna(inplace=True)"
   ]
  },
  {
   "cell_type": "code",
   "execution_count": 10,
   "id": "81a39c1e-202d-4082-9d62-eb22257f9a0b",
   "metadata": {},
   "outputs": [
    {
     "data": {
      "text/plain": [
       "(2140235, 7)"
      ]
     },
     "execution_count": 10,
     "metadata": {},
     "output_type": "execute_result"
    }
   ],
   "source": [
    "df.shape"
   ]
  },
  {
   "cell_type": "code",
   "execution_count": 11,
   "id": "db84c199-349e-4295-affd-9a75aa820d15",
   "metadata": {},
   "outputs": [
    {
     "data": {
      "text/plain": [
       "bedroomcnt     0\n",
       "bathroomcnt    0\n",
       "squarefeet     0\n",
       "taxvalue       0\n",
       "yearbuilt      0\n",
       "taxamount      0\n",
       "county         0\n",
       "dtype: int64"
      ]
     },
     "execution_count": 11,
     "metadata": {},
     "output_type": "execute_result"
    }
   ],
   "source": [
    "df.isnull().sum()"
   ]
  },
  {
   "cell_type": "code",
   "execution_count": 12,
   "id": "2624befe-3e4f-45f5-b774-4e5351e8bcf0",
   "metadata": {},
   "outputs": [],
   "source": [
    "df[['bedroomcnt', 'squarefeet', 'taxvalue', 'yearbuilt', 'county']] = df[['bedroomcnt', 'squarefeet', 'taxvalue', 'yearbuilt', 'county']].astype(int)\n"
   ]
  },
  {
   "cell_type": "code",
   "execution_count": 13,
   "id": "397363c7-18d6-427d-bed9-4421f836abae",
   "metadata": {},
   "outputs": [],
   "source": [
    "df.county = df.county.map({6037:'LA',6059:'Orange',6111:'Ventura'})"
   ]
  },
  {
   "cell_type": "code",
   "execution_count": 14,
   "id": "58714915-d709-455d-a43a-4beafd5ec895",
   "metadata": {
    "tags": []
   },
   "outputs": [
    {
     "data": {
      "text/html": [
       "<div>\n",
       "<style scoped>\n",
       "    .dataframe tbody tr th:only-of-type {\n",
       "        vertical-align: middle;\n",
       "    }\n",
       "\n",
       "    .dataframe tbody tr th {\n",
       "        vertical-align: top;\n",
       "    }\n",
       "\n",
       "    .dataframe thead th {\n",
       "        text-align: right;\n",
       "    }\n",
       "</style>\n",
       "<table border=\"1\" class=\"dataframe\">\n",
       "  <thead>\n",
       "    <tr style=\"text-align: right;\">\n",
       "      <th></th>\n",
       "      <th>bedroomcnt</th>\n",
       "      <th>bathroomcnt</th>\n",
       "      <th>squarefeet</th>\n",
       "      <th>taxvalue</th>\n",
       "      <th>yearbuilt</th>\n",
       "      <th>taxamount</th>\n",
       "      <th>county</th>\n",
       "    </tr>\n",
       "  </thead>\n",
       "  <tbody>\n",
       "    <tr>\n",
       "      <th>4</th>\n",
       "      <td>4</td>\n",
       "      <td>2.0</td>\n",
       "      <td>3633</td>\n",
       "      <td>296425</td>\n",
       "      <td>2005</td>\n",
       "      <td>6941.39</td>\n",
       "      <td>LA</td>\n",
       "    </tr>\n",
       "    <tr>\n",
       "      <th>6</th>\n",
       "      <td>3</td>\n",
       "      <td>4.0</td>\n",
       "      <td>1620</td>\n",
       "      <td>847770</td>\n",
       "      <td>2011</td>\n",
       "      <td>10244.94</td>\n",
       "      <td>LA</td>\n",
       "    </tr>\n",
       "    <tr>\n",
       "      <th>7</th>\n",
       "      <td>3</td>\n",
       "      <td>2.0</td>\n",
       "      <td>2077</td>\n",
       "      <td>646760</td>\n",
       "      <td>1926</td>\n",
       "      <td>7924.68</td>\n",
       "      <td>LA</td>\n",
       "    </tr>\n",
       "    <tr>\n",
       "      <th>11</th>\n",
       "      <td>0</td>\n",
       "      <td>0.0</td>\n",
       "      <td>1200</td>\n",
       "      <td>5328</td>\n",
       "      <td>1972</td>\n",
       "      <td>91.60</td>\n",
       "      <td>LA</td>\n",
       "    </tr>\n",
       "    <tr>\n",
       "      <th>14</th>\n",
       "      <td>0</td>\n",
       "      <td>0.0</td>\n",
       "      <td>171</td>\n",
       "      <td>6920</td>\n",
       "      <td>1973</td>\n",
       "      <td>255.17</td>\n",
       "      <td>LA</td>\n",
       "    </tr>\n",
       "  </tbody>\n",
       "</table>\n",
       "</div>"
      ],
      "text/plain": [
       "    bedroomcnt  bathroomcnt  squarefeet  taxvalue  yearbuilt  taxamount county\n",
       "4            4          2.0        3633    296425       2005    6941.39     LA\n",
       "6            3          4.0        1620    847770       2011   10244.94     LA\n",
       "7            3          2.0        2077    646760       1926    7924.68     LA\n",
       "11           0          0.0        1200      5328       1972      91.60     LA\n",
       "14           0          0.0         171      6920       1973     255.17     LA"
      ]
     },
     "execution_count": 14,
     "metadata": {},
     "output_type": "execute_result"
    }
   ],
   "source": [
    "df.head()"
   ]
  },
  {
   "cell_type": "code",
   "execution_count": 15,
   "id": "021b8ac1-7332-4471-abb9-ad23ff41d894",
   "metadata": {},
   "outputs": [
    {
     "name": "stdout",
     "output_type": "stream",
     "text": [
      "<class 'pandas.core.frame.DataFrame'>\n",
      "Int64Index: 2140235 entries, 4 to 2152862\n",
      "Data columns (total 7 columns):\n",
      " #   Column       Dtype  \n",
      "---  ------       -----  \n",
      " 0   bedroomcnt   int64  \n",
      " 1   bathroomcnt  float64\n",
      " 2   squarefeet   int64  \n",
      " 3   taxvalue     int64  \n",
      " 4   yearbuilt    int64  \n",
      " 5   taxamount    float64\n",
      " 6   county       object \n",
      "dtypes: float64(2), int64(4), object(1)\n",
      "memory usage: 130.6+ MB\n"
     ]
    }
   ],
   "source": [
    "df.info()"
   ]
  },
  {
   "cell_type": "code",
   "execution_count": 16,
   "id": "973d5ce3-e944-4c6f-90a9-51e245317ab7",
   "metadata": {},
   "outputs": [],
   "source": []
  },
  {
   "cell_type": "code",
   "execution_count": 17,
   "id": "16b216de-9010-4d7f-8fcb-484d44909157",
   "metadata": {},
   "outputs": [
    {
     "data": {
      "text/html": [
       "<div>\n",
       "<style scoped>\n",
       "    .dataframe tbody tr th:only-of-type {\n",
       "        vertical-align: middle;\n",
       "    }\n",
       "\n",
       "    .dataframe tbody tr th {\n",
       "        vertical-align: top;\n",
       "    }\n",
       "\n",
       "    .dataframe thead th {\n",
       "        text-align: right;\n",
       "    }\n",
       "</style>\n",
       "<table border=\"1\" class=\"dataframe\">\n",
       "  <thead>\n",
       "    <tr style=\"text-align: right;\">\n",
       "      <th></th>\n",
       "      <th>bedroomcnt</th>\n",
       "      <th>bathroomcnt</th>\n",
       "      <th>squarefeet</th>\n",
       "      <th>taxvalue</th>\n",
       "      <th>yearbuilt</th>\n",
       "      <th>taxamount</th>\n",
       "      <th>county</th>\n",
       "    </tr>\n",
       "  </thead>\n",
       "  <tbody>\n",
       "    <tr>\n",
       "      <th>4</th>\n",
       "      <td>4</td>\n",
       "      <td>2.0</td>\n",
       "      <td>3633</td>\n",
       "      <td>296425</td>\n",
       "      <td>2005</td>\n",
       "      <td>6941.39</td>\n",
       "      <td>LA</td>\n",
       "    </tr>\n",
       "    <tr>\n",
       "      <th>6</th>\n",
       "      <td>3</td>\n",
       "      <td>4.0</td>\n",
       "      <td>1620</td>\n",
       "      <td>847770</td>\n",
       "      <td>2011</td>\n",
       "      <td>10244.94</td>\n",
       "      <td>LA</td>\n",
       "    </tr>\n",
       "    <tr>\n",
       "      <th>7</th>\n",
       "      <td>3</td>\n",
       "      <td>2.0</td>\n",
       "      <td>2077</td>\n",
       "      <td>646760</td>\n",
       "      <td>1926</td>\n",
       "      <td>7924.68</td>\n",
       "      <td>LA</td>\n",
       "    </tr>\n",
       "    <tr>\n",
       "      <th>18</th>\n",
       "      <td>3</td>\n",
       "      <td>1.0</td>\n",
       "      <td>1244</td>\n",
       "      <td>169471</td>\n",
       "      <td>1950</td>\n",
       "      <td>2532.88</td>\n",
       "      <td>LA</td>\n",
       "    </tr>\n",
       "    <tr>\n",
       "      <th>19</th>\n",
       "      <td>3</td>\n",
       "      <td>2.0</td>\n",
       "      <td>1300</td>\n",
       "      <td>233266</td>\n",
       "      <td>1950</td>\n",
       "      <td>3110.99</td>\n",
       "      <td>LA</td>\n",
       "    </tr>\n",
       "  </tbody>\n",
       "</table>\n",
       "</div>"
      ],
      "text/plain": [
       "    bedroomcnt  bathroomcnt  squarefeet  taxvalue  yearbuilt  taxamount county\n",
       "4            4          2.0        3633    296425       2005    6941.39     LA\n",
       "6            3          4.0        1620    847770       2011   10244.94     LA\n",
       "7            3          2.0        2077    646760       1926    7924.68     LA\n",
       "18           3          1.0        1244    169471       1950    2532.88     LA\n",
       "19           3          2.0        1300    233266       1950    3110.99     LA"
      ]
     },
     "execution_count": 17,
     "metadata": {},
     "output_type": "execute_result"
    }
   ],
   "source": [
    "df.head()"
   ]
  },
  {
   "cell_type": "code",
   "execution_count": 18,
   "id": "5f3e6e09-0801-4d14-bb4d-61744603a96e",
   "metadata": {},
   "outputs": [
    {
     "name": "stdout",
     "output_type": "stream",
     "text": [
      "Top 5 largest values in column bedroomcnt:\n",
      "26485      25\n",
      "799516     18\n",
      "1661135    18\n",
      "1758193    18\n",
      "650428     16\n",
      "Name: bedroomcnt, dtype: int64\n",
      "Top 5 largest values in column bathroomcnt:\n",
      "1657947    32.0\n",
      "26485      20.0\n",
      "701366     20.0\n",
      "1114403    20.0\n",
      "1174755    20.0\n",
      "Name: bathroomcnt, dtype: float64\n",
      "Top 5 largest values in column squarefeet:\n",
      "849924     952576\n",
      "1689332    531118\n",
      "1432166     63692\n",
      "830510      59220\n",
      "530834      52503\n",
      "Name: squarefeet, dtype: int64\n",
      "Top 5 largest values in column taxvalue:\n",
      "530834     90188462\n",
      "950854     88020448\n",
      "1618393    83196095\n",
      "2134692    71067500\n",
      "430030     70416358\n",
      "Name: taxvalue, dtype: int64\n",
      "Top 5 largest values in column yearbuilt:\n",
      "21       2016\n",
      "21548    2016\n",
      "43157    2016\n",
      "43187    2016\n",
      "53820    2016\n",
      "Name: yearbuilt, dtype: int64\n",
      "Top 5 largest values in column taxamount:\n",
      "530834     1078101.87\n",
      "950854     1052070.50\n",
      "1618393     994030.96\n",
      "430030      841059.04\n",
      "2134692     824166.91\n",
      "Name: taxamount, dtype: float64\n"
     ]
    },
    {
     "ename": "TypeError",
     "evalue": "Cannot use method 'nlargest' with dtype object",
     "output_type": "error",
     "traceback": [
      "\u001b[0;31m---------------------------------------------------------------------------\u001b[0m",
      "\u001b[0;31mTypeError\u001b[0m                                 Traceback (most recent call last)",
      "Input \u001b[0;32mIn [18]\u001b[0m, in \u001b[0;36m<cell line: 1>\u001b[0;34m()\u001b[0m\n\u001b[1;32m      1\u001b[0m \u001b[38;5;28;01mfor\u001b[39;00m col \u001b[38;5;129;01min\u001b[39;00m df\u001b[38;5;241m.\u001b[39mcolumns:\n\u001b[0;32m----> 2\u001b[0m     top_5 \u001b[38;5;241m=\u001b[39m \u001b[43mdf\u001b[49m\u001b[43m[\u001b[49m\u001b[43mcol\u001b[49m\u001b[43m]\u001b[49m\u001b[38;5;241;43m.\u001b[39;49m\u001b[43mnlargest\u001b[49m\u001b[43m(\u001b[49m\u001b[38;5;241;43m5\u001b[39;49m\u001b[43m)\u001b[49m\n\u001b[1;32m      3\u001b[0m     \u001b[38;5;28mprint\u001b[39m(\u001b[38;5;124mf\u001b[39m\u001b[38;5;124m'\u001b[39m\u001b[38;5;124mTop 5 largest values in column \u001b[39m\u001b[38;5;132;01m{\u001b[39;00mcol\u001b[38;5;132;01m}\u001b[39;00m\u001b[38;5;124m:\u001b[39m\u001b[38;5;124m'\u001b[39m)\n\u001b[1;32m      4\u001b[0m     \u001b[38;5;28mprint\u001b[39m(top_5)\n",
      "File \u001b[0;32m/opt/homebrew/anaconda3/lib/python3.9/site-packages/pandas/core/series.py:3836\u001b[0m, in \u001b[0;36mSeries.nlargest\u001b[0;34m(self, n, keep)\u001b[0m\n\u001b[1;32m   3740\u001b[0m \u001b[38;5;28;01mdef\u001b[39;00m \u001b[38;5;21mnlargest\u001b[39m(\u001b[38;5;28mself\u001b[39m, n\u001b[38;5;241m=\u001b[39m\u001b[38;5;241m5\u001b[39m, keep\u001b[38;5;241m=\u001b[39m\u001b[38;5;124m\"\u001b[39m\u001b[38;5;124mfirst\u001b[39m\u001b[38;5;124m\"\u001b[39m) \u001b[38;5;241m-\u001b[39m\u001b[38;5;241m>\u001b[39m Series:\n\u001b[1;32m   3741\u001b[0m     \u001b[38;5;124;03m\"\"\"\u001b[39;00m\n\u001b[1;32m   3742\u001b[0m \u001b[38;5;124;03m    Return the largest `n` elements.\u001b[39;00m\n\u001b[1;32m   3743\u001b[0m \n\u001b[0;32m   (...)\u001b[0m\n\u001b[1;32m   3834\u001b[0m \u001b[38;5;124;03m    dtype: int64\u001b[39;00m\n\u001b[1;32m   3835\u001b[0m \u001b[38;5;124;03m    \"\"\"\u001b[39;00m\n\u001b[0;32m-> 3836\u001b[0m     \u001b[38;5;28;01mreturn\u001b[39;00m \u001b[43malgorithms\u001b[49m\u001b[38;5;241;43m.\u001b[39;49m\u001b[43mSelectNSeries\u001b[49m\u001b[43m(\u001b[49m\u001b[38;5;28;43mself\u001b[39;49m\u001b[43m,\u001b[49m\u001b[43m \u001b[49m\u001b[43mn\u001b[49m\u001b[38;5;241;43m=\u001b[39;49m\u001b[43mn\u001b[49m\u001b[43m,\u001b[49m\u001b[43m \u001b[49m\u001b[43mkeep\u001b[49m\u001b[38;5;241;43m=\u001b[39;49m\u001b[43mkeep\u001b[49m\u001b[43m)\u001b[49m\u001b[38;5;241;43m.\u001b[39;49m\u001b[43mnlargest\u001b[49m\u001b[43m(\u001b[49m\u001b[43m)\u001b[49m\n",
      "File \u001b[0;32m/opt/homebrew/anaconda3/lib/python3.9/site-packages/pandas/core/algorithms.py:1137\u001b[0m, in \u001b[0;36mSelectN.nlargest\u001b[0;34m(self)\u001b[0m\n\u001b[1;32m   1135\u001b[0m \u001b[38;5;129m@final\u001b[39m\n\u001b[1;32m   1136\u001b[0m \u001b[38;5;28;01mdef\u001b[39;00m \u001b[38;5;21mnlargest\u001b[39m(\u001b[38;5;28mself\u001b[39m):\n\u001b[0;32m-> 1137\u001b[0m     \u001b[38;5;28;01mreturn\u001b[39;00m \u001b[38;5;28;43mself\u001b[39;49m\u001b[38;5;241;43m.\u001b[39;49m\u001b[43mcompute\u001b[49m\u001b[43m(\u001b[49m\u001b[38;5;124;43m\"\u001b[39;49m\u001b[38;5;124;43mnlargest\u001b[39;49m\u001b[38;5;124;43m\"\u001b[39;49m\u001b[43m)\u001b[49m\n",
      "File \u001b[0;32m/opt/homebrew/anaconda3/lib/python3.9/site-packages/pandas/core/algorithms.py:1177\u001b[0m, in \u001b[0;36mSelectNSeries.compute\u001b[0;34m(self, method)\u001b[0m\n\u001b[1;32m   1175\u001b[0m dtype \u001b[38;5;241m=\u001b[39m \u001b[38;5;28mself\u001b[39m\u001b[38;5;241m.\u001b[39mobj\u001b[38;5;241m.\u001b[39mdtype\n\u001b[1;32m   1176\u001b[0m \u001b[38;5;28;01mif\u001b[39;00m \u001b[38;5;129;01mnot\u001b[39;00m \u001b[38;5;28mself\u001b[39m\u001b[38;5;241m.\u001b[39mis_valid_dtype_n_method(dtype):\n\u001b[0;32m-> 1177\u001b[0m     \u001b[38;5;28;01mraise\u001b[39;00m \u001b[38;5;167;01mTypeError\u001b[39;00m(\u001b[38;5;124mf\u001b[39m\u001b[38;5;124m\"\u001b[39m\u001b[38;5;124mCannot use method \u001b[39m\u001b[38;5;124m'\u001b[39m\u001b[38;5;132;01m{\u001b[39;00mmethod\u001b[38;5;132;01m}\u001b[39;00m\u001b[38;5;124m'\u001b[39m\u001b[38;5;124m with dtype \u001b[39m\u001b[38;5;132;01m{\u001b[39;00mdtype\u001b[38;5;132;01m}\u001b[39;00m\u001b[38;5;124m\"\u001b[39m)\n\u001b[1;32m   1179\u001b[0m \u001b[38;5;28;01mif\u001b[39;00m n \u001b[38;5;241m<\u001b[39m\u001b[38;5;241m=\u001b[39m \u001b[38;5;241m0\u001b[39m:\n\u001b[1;32m   1180\u001b[0m     \u001b[38;5;28;01mreturn\u001b[39;00m \u001b[38;5;28mself\u001b[39m\u001b[38;5;241m.\u001b[39mobj[[]]\n",
      "\u001b[0;31mTypeError\u001b[0m: Cannot use method 'nlargest' with dtype object"
     ]
    }
   ],
   "source": [
    "for col in df.columns:\n",
    "    top_5 = df[col].nlargest(5)\n",
    "    print(f'Top 5 largest values in column {col}:')\n",
    "    print(top_5)"
   ]
  },
  {
   "cell_type": "code",
   "execution_count": 20,
   "id": "e5a479fe-edf2-409c-abf9-87ec4f0fd778",
   "metadata": {},
   "outputs": [
    {
     "data": {
      "text/plain": [
       "1350621    17709\n",
       "1155530    17713\n",
       "532418     17716\n",
       "338394     17752\n",
       "812423     17752\n",
       "2082192    17752\n",
       "91057      17753\n",
       "112547     17753\n",
       "800744     17753\n",
       "866073     17753\n",
       "Name: taxvalue, dtype: int64"
      ]
     },
     "execution_count": 20,
     "metadata": {},
     "output_type": "execute_result"
    }
   ],
   "source": [
    "df.taxvalue.nsmallest(10)"
   ]
  },
  {
   "cell_type": "code",
   "execution_count": 19,
   "id": "a87546d1-985d-4395-9351-4d41a39d5615",
   "metadata": {},
   "outputs": [
    {
     "name": "stdout",
     "output_type": "stream",
     "text": [
      "Bottom 5 smallest values in column bedroomcnt:\n",
      "2306    0\n",
      "2313    0\n",
      "2676    0\n",
      "3530    0\n",
      "3740    0\n",
      "Name: bedroomcnt, dtype: int64\n",
      "Bottom 5 smallest values in column bathroomcnt:\n",
      "398     0.0\n",
      "753     0.0\n",
      "1546    0.0\n",
      "2306    0.0\n",
      "2313    0.0\n",
      "Name: bathroomcnt, dtype: float64\n",
      "Bottom 5 smallest values in column squarefeet:\n",
      "58438      1\n",
      "1046787    1\n",
      "1276353    1\n",
      "1359288    1\n",
      "1895866    1\n",
      "Name: squarefeet, dtype: int64\n",
      "Bottom 5 smallest values in column taxvalue:\n",
      "1350621    17709\n",
      "1155530    17713\n",
      "532418     17716\n",
      "338394     17752\n",
      "812423     17752\n",
      "Name: taxvalue, dtype: int64\n",
      "Bottom 5 smallest values in column yearbuilt:\n",
      "1005349    1801\n",
      "1048331    1801\n",
      "1823373    1801\n",
      "1104175    1807\n",
      "1674301    1812\n",
      "Name: yearbuilt, dtype: int64\n",
      "Bottom 5 smallest values in column taxamount:\n",
      "463137    16.48\n",
      "968217    18.72\n",
      "7866      20.24\n",
      "828290    20.24\n",
      "871365    20.24\n",
      "Name: taxamount, dtype: float64\n"
     ]
    },
    {
     "ename": "TypeError",
     "evalue": "Cannot use method 'nsmallest' with dtype object",
     "output_type": "error",
     "traceback": [
      "\u001b[0;31m---------------------------------------------------------------------------\u001b[0m",
      "\u001b[0;31mTypeError\u001b[0m                                 Traceback (most recent call last)",
      "Input \u001b[0;32mIn [19]\u001b[0m, in \u001b[0;36m<cell line: 1>\u001b[0;34m()\u001b[0m\n\u001b[1;32m      1\u001b[0m \u001b[38;5;28;01mfor\u001b[39;00m col \u001b[38;5;129;01min\u001b[39;00m df\u001b[38;5;241m.\u001b[39mcolumns:\n\u001b[0;32m----> 2\u001b[0m     bottom_5 \u001b[38;5;241m=\u001b[39m \u001b[43mdf\u001b[49m\u001b[43m[\u001b[49m\u001b[43mcol\u001b[49m\u001b[43m]\u001b[49m\u001b[38;5;241;43m.\u001b[39;49m\u001b[43mnsmallest\u001b[49m\u001b[43m(\u001b[49m\u001b[38;5;241;43m5\u001b[39;49m\u001b[43m)\u001b[49m\n\u001b[1;32m      3\u001b[0m     \u001b[38;5;28mprint\u001b[39m(\u001b[38;5;124mf\u001b[39m\u001b[38;5;124m'\u001b[39m\u001b[38;5;124mBottom 5 smallest values in column \u001b[39m\u001b[38;5;132;01m{\u001b[39;00mcol\u001b[38;5;132;01m}\u001b[39;00m\u001b[38;5;124m:\u001b[39m\u001b[38;5;124m'\u001b[39m)\n\u001b[1;32m      4\u001b[0m     \u001b[38;5;28mprint\u001b[39m(bottom_5)\n",
      "File \u001b[0;32m/opt/homebrew/anaconda3/lib/python3.9/site-packages/pandas/core/series.py:3933\u001b[0m, in \u001b[0;36mSeries.nsmallest\u001b[0;34m(self, n, keep)\u001b[0m\n\u001b[1;32m   3838\u001b[0m \u001b[38;5;28;01mdef\u001b[39;00m \u001b[38;5;21mnsmallest\u001b[39m(\u001b[38;5;28mself\u001b[39m, n: \u001b[38;5;28mint\u001b[39m \u001b[38;5;241m=\u001b[39m \u001b[38;5;241m5\u001b[39m, keep: \u001b[38;5;28mstr\u001b[39m \u001b[38;5;241m=\u001b[39m \u001b[38;5;124m\"\u001b[39m\u001b[38;5;124mfirst\u001b[39m\u001b[38;5;124m\"\u001b[39m) \u001b[38;5;241m-\u001b[39m\u001b[38;5;241m>\u001b[39m Series:\n\u001b[1;32m   3839\u001b[0m     \u001b[38;5;124;03m\"\"\"\u001b[39;00m\n\u001b[1;32m   3840\u001b[0m \u001b[38;5;124;03m    Return the smallest `n` elements.\u001b[39;00m\n\u001b[1;32m   3841\u001b[0m \n\u001b[0;32m   (...)\u001b[0m\n\u001b[1;32m   3931\u001b[0m \u001b[38;5;124;03m    dtype: int64\u001b[39;00m\n\u001b[1;32m   3932\u001b[0m \u001b[38;5;124;03m    \"\"\"\u001b[39;00m\n\u001b[0;32m-> 3933\u001b[0m     \u001b[38;5;28;01mreturn\u001b[39;00m \u001b[43malgorithms\u001b[49m\u001b[38;5;241;43m.\u001b[39;49m\u001b[43mSelectNSeries\u001b[49m\u001b[43m(\u001b[49m\u001b[38;5;28;43mself\u001b[39;49m\u001b[43m,\u001b[49m\u001b[43m \u001b[49m\u001b[43mn\u001b[49m\u001b[38;5;241;43m=\u001b[39;49m\u001b[43mn\u001b[49m\u001b[43m,\u001b[49m\u001b[43m \u001b[49m\u001b[43mkeep\u001b[49m\u001b[38;5;241;43m=\u001b[39;49m\u001b[43mkeep\u001b[49m\u001b[43m)\u001b[49m\u001b[38;5;241;43m.\u001b[39;49m\u001b[43mnsmallest\u001b[49m\u001b[43m(\u001b[49m\u001b[43m)\u001b[49m\n",
      "File \u001b[0;32m/opt/homebrew/anaconda3/lib/python3.9/site-packages/pandas/core/algorithms.py:1141\u001b[0m, in \u001b[0;36mSelectN.nsmallest\u001b[0;34m(self)\u001b[0m\n\u001b[1;32m   1139\u001b[0m \u001b[38;5;129m@final\u001b[39m\n\u001b[1;32m   1140\u001b[0m \u001b[38;5;28;01mdef\u001b[39;00m \u001b[38;5;21mnsmallest\u001b[39m(\u001b[38;5;28mself\u001b[39m):\n\u001b[0;32m-> 1141\u001b[0m     \u001b[38;5;28;01mreturn\u001b[39;00m \u001b[38;5;28;43mself\u001b[39;49m\u001b[38;5;241;43m.\u001b[39;49m\u001b[43mcompute\u001b[49m\u001b[43m(\u001b[49m\u001b[38;5;124;43m\"\u001b[39;49m\u001b[38;5;124;43mnsmallest\u001b[39;49m\u001b[38;5;124;43m\"\u001b[39;49m\u001b[43m)\u001b[49m\n",
      "File \u001b[0;32m/opt/homebrew/anaconda3/lib/python3.9/site-packages/pandas/core/algorithms.py:1177\u001b[0m, in \u001b[0;36mSelectNSeries.compute\u001b[0;34m(self, method)\u001b[0m\n\u001b[1;32m   1175\u001b[0m dtype \u001b[38;5;241m=\u001b[39m \u001b[38;5;28mself\u001b[39m\u001b[38;5;241m.\u001b[39mobj\u001b[38;5;241m.\u001b[39mdtype\n\u001b[1;32m   1176\u001b[0m \u001b[38;5;28;01mif\u001b[39;00m \u001b[38;5;129;01mnot\u001b[39;00m \u001b[38;5;28mself\u001b[39m\u001b[38;5;241m.\u001b[39mis_valid_dtype_n_method(dtype):\n\u001b[0;32m-> 1177\u001b[0m     \u001b[38;5;28;01mraise\u001b[39;00m \u001b[38;5;167;01mTypeError\u001b[39;00m(\u001b[38;5;124mf\u001b[39m\u001b[38;5;124m\"\u001b[39m\u001b[38;5;124mCannot use method \u001b[39m\u001b[38;5;124m'\u001b[39m\u001b[38;5;132;01m{\u001b[39;00mmethod\u001b[38;5;132;01m}\u001b[39;00m\u001b[38;5;124m'\u001b[39m\u001b[38;5;124m with dtype \u001b[39m\u001b[38;5;132;01m{\u001b[39;00mdtype\u001b[38;5;132;01m}\u001b[39;00m\u001b[38;5;124m\"\u001b[39m)\n\u001b[1;32m   1179\u001b[0m \u001b[38;5;28;01mif\u001b[39;00m n \u001b[38;5;241m<\u001b[39m\u001b[38;5;241m=\u001b[39m \u001b[38;5;241m0\u001b[39m:\n\u001b[1;32m   1180\u001b[0m     \u001b[38;5;28;01mreturn\u001b[39;00m \u001b[38;5;28mself\u001b[39m\u001b[38;5;241m.\u001b[39mobj[[]]\n",
      "\u001b[0;31mTypeError\u001b[0m: Cannot use method 'nsmallest' with dtype object"
     ]
    }
   ],
   "source": [
    "for col in df.columns:\n",
    "    bottom_5 = df[col].nsmallest(5)\n",
    "    print(f'Bottom 5 smallest values in column {col}:')\n",
    "    print(bottom_5)"
   ]
  },
  {
   "cell_type": "code",
   "execution_count": 18,
   "id": "d650e1a1-30c2-4771-b27c-ce8ae2a0a585",
   "metadata": {},
   "outputs": [],
   "source": [
    "df = df [df.squarefeet < 25_000]"
   ]
  },
  {
   "cell_type": "code",
   "execution_count": 19,
   "id": "83e5f881-51f6-4024-98f2-3df2c68bde48",
   "metadata": {},
   "outputs": [],
   "source": [
    "df = df [df.taxvalue < df.taxvalue.quantile(.95)].copy()"
   ]
  },
  {
   "cell_type": "code",
   "execution_count": null,
   "id": "87eb7451-95bf-42ed-af44-96e814954fbd",
   "metadata": {
    "tags": []
   },
   "outputs": [],
   "source": [
    "df = df[df.taxvalue > df.taxvalue.quantile(.001)].copy()"
   ]
  },
  {
   "cell_type": "markdown",
   "id": "7e1f42c4-21d9-4f3d-89db-bdf66b7fde69",
   "metadata": {},
   "source": [
    "# Visualize"
   ]
  },
  {
   "cell_type": "code",
   "execution_count": 20,
   "id": "ee3a3021-c271-4898-89e9-e5c5e9a78073",
   "metadata": {},
   "outputs": [
    {
     "data": {
      "image/png": "[encoded data removed]",
      "text/plain": [
       "<Figure size 1600x600 with 7 Axes>"
      ]
     },
     "metadata": {},
     "output_type": "display_data"
    }
   ],
   "source": [
    "plt.figure(figsize=(16, 6))\n",
    "\n",
    "for i, col in enumerate(df.columns):\n",
    "\n",
    "    # i starts at 0, but plot nos should start at 1\n",
    "    plot_number = i + 1 \n",
    "\n",
    "    # Create subplot.\n",
    "    plt.subplot(2, 4, plot_number)\n",
    "\n",
    "    # Title with column name.\n",
    "    plt.title(col)\n",
    "\n",
    "    # Display boxplot for column.\n",
    "    plt.hist(df[col])\n",
    "\n",
    "plt.show()"
   ]
  },
  {
   "cell_type": "code",
   "execution_count": 21,
   "id": "bd189a4c-d401-420a-afd3-e05aa5f1b309",
   "metadata": {},
   "outputs": [
    {
     "name": "stdout",
     "output_type": "stream",
     "text": [
      "bedroomcnt\n"
     ]
    },
    {
     "data": {
      "image/png": "[encoded data removed]",
      "text/plain": [
       "<Figure size 640x480 with 1 Axes>"
      ]
     },
     "metadata": {},
     "output_type": "display_data"
    },
    {
     "name": "stdout",
     "output_type": "stream",
     "text": [
      "0       4208\n",
      "1      22430\n",
      "2     328193\n",
      "3     938561\n",
      "4     595894\n",
      "5     122659\n",
      "6      17628\n",
      "7       2843\n",
      "8        536\n",
      "9        136\n",
      "10        52\n",
      "11        16\n",
      "12         4\n",
      "13         5\n",
      "14         2\n",
      "15         3\n",
      "16         2\n",
      "Name: bedroomcnt, dtype: int64\n",
      "\n",
      "bathroomcnt\n"
     ]
    },
    {
     "data": {
      "image/png": "[encoded data removed]",
      "text/plain": [
       "<Figure size 640x480 with 1 Axes>"
      ]
     },
     "metadata": {},
     "output_type": "display_data"
    },
    {
     "name": "stdout",
     "output_type": "stream",
     "text": [
      "0.00       4096\n",
      "0.50         13\n",
      "1.00     410357\n",
      "1.50      31011\n",
      "1.75          3\n",
      "2.00     931475\n",
      "2.50     140062\n",
      "3.00     400774\n",
      "3.50      22501\n",
      "4.00      62953\n",
      "4.50      10614\n",
      "5.00      14220\n",
      "5.50       1228\n",
      "6.00       2830\n",
      "6.50        150\n",
      "7.00        618\n",
      "7.50         66\n",
      "8.00        134\n",
      "8.50          1\n",
      "9.00         29\n",
      "9.50          3\n",
      "10.00        15\n",
      "11.00         5\n",
      "12.00         1\n",
      "13.00         1\n",
      "14.00         2\n",
      "15.00         1\n",
      "16.00         4\n",
      "18.00         2\n",
      "20.00         3\n",
      "Name: bathroomcnt, dtype: int64\n",
      "\n",
      "squarefeet\n"
     ]
    },
    {
     "data": {
      "image/png": "[encoded data removed]",
      "text/plain": [
       "<Figure size 640x480 with 1 Axes>"
      ]
     },
     "metadata": {},
     "output_type": "display_data"
    },
    {
     "name": "stdout",
     "output_type": "stream",
     "text": [
      "1        6\n",
      "2        1\n",
      "3        6\n",
      "10       2\n",
      "12       1\n",
      "        ..\n",
      "19460    1\n",
      "21734    1\n",
      "22702    1\n",
      "22800    1\n",
      "24220    1\n",
      "Name: squarefeet, Length: 6639, dtype: int64\n",
      "\n",
      "taxvalue\n"
     ]
    },
    {
     "data": {
      "image/png": "[encoded data removed]",
      "text/plain": [
       "<Figure size 640x480 with 1 Axes>"
      ]
     },
     "metadata": {},
     "output_type": "display_data"
    },
    {
     "name": "stdout",
     "output_type": "stream",
     "text": [
      "22         10\n",
      "23          6\n",
      "31          1\n",
      "46          1\n",
      "101         1\n",
      "           ..\n",
      "1202886     1\n",
      "1202942     1\n",
      "1202959     1\n",
      "1202988     1\n",
      "1202999     1\n",
      "Name: taxvalue, Length: 523005, dtype: int64\n",
      "\n",
      "yearbuilt\n"
     ]
    },
    {
     "data": {
      "image/png": "[encoded data removed]",
      "text/plain": [
       "<Figure size 640x480 with 1 Axes>"
      ]
     },
     "metadata": {},
     "output_type": "display_data"
    },
    {
     "name": "stdout",
     "output_type": "stream",
     "text": [
      "1801        3\n",
      "1807        1\n",
      "1812        2\n",
      "1823        1\n",
      "1833        1\n",
      "1855        1\n",
      "1862        1\n",
      "1865        2\n",
      "1870        3\n",
      "1874        1\n",
      "1875        9\n",
      "1876        2\n",
      "1877        1\n",
      "1878        2\n",
      "1879        1\n",
      "1880       39\n",
      "1881        3\n",
      "1882        6\n",
      "1883        8\n",
      "1884       12\n",
      "1885      168\n",
      "1886       33\n",
      "1887       74\n",
      "1888       80\n",
      "1889       28\n",
      "1890      530\n",
      "1891       30\n",
      "1892       62\n",
      "1893       88\n",
      "1894      102\n",
      "1895      558\n",
      "1896      125\n",
      "1897      128\n",
      "1898      254\n",
      "1899      137\n",
      "1900      670\n",
      "1901     1198\n",
      "1902      661\n",
      "1903     1127\n",
      "1904     1011\n",
      "1905     2818\n",
      "1906     2117\n",
      "1907     2411\n",
      "1908     3039\n",
      "1909     2784\n",
      "1910     5481\n",
      "1911     3925\n",
      "1912     5842\n",
      "1913     3876\n",
      "1914     3162\n",
      "1915     2776\n",
      "1916     2028\n",
      "1917     1494\n",
      "1918     1738\n",
      "1919     2740\n",
      "1920     7520\n",
      "1921     9108\n",
      "1922    15275\n",
      "1923    21001\n",
      "1924    20406\n",
      "1925    19035\n",
      "1926    17081\n",
      "1927    13408\n",
      "1928    13116\n",
      "1929    10498\n",
      "1930     8922\n",
      "1931     4969\n",
      "1932     3258\n",
      "1933     2380\n",
      "1934     2108\n",
      "1935     4361\n",
      "1936     8883\n",
      "1937    11428\n",
      "1938    14524\n",
      "1939    19784\n",
      "1940    24888\n",
      "1941    25911\n",
      "1942    15642\n",
      "1943     6565\n",
      "1944    13282\n",
      "1945     8115\n",
      "1946    17639\n",
      "1947    45481\n",
      "1948    43585\n",
      "1949    41858\n",
      "1950    69917\n",
      "1951    51530\n",
      "1952    49175\n",
      "1953    61024\n",
      "1954    67916\n",
      "1955    83065\n",
      "1956    60591\n",
      "1957    41941\n",
      "1958    33319\n",
      "1959    42113\n",
      "1960    36943\n",
      "1961    34309\n",
      "1962    41505\n",
      "1963    43235\n",
      "1964    51145\n",
      "1965    39731\n",
      "1966    22992\n",
      "1967    16599\n",
      "1968    27213\n",
      "1969    26143\n",
      "1970    19842\n",
      "1971    25509\n",
      "1972    26886\n",
      "1973    25872\n",
      "1974    17055\n",
      "1975    15516\n",
      "1976    29721\n",
      "1977    31730\n",
      "1978    24798\n",
      "1979    23296\n",
      "1980    15857\n",
      "1981    10855\n",
      "1982     5283\n",
      "1983    11036\n",
      "1984    14376\n",
      "1985    16977\n",
      "1986    19347\n",
      "1987    24023\n",
      "1988    16167\n",
      "1989    24943\n",
      "1990    18664\n",
      "1991     8226\n",
      "1992     9919\n",
      "1993     8792\n",
      "1994    11566\n",
      "1995     9343\n",
      "1996     9677\n",
      "1997    10421\n",
      "1998    10489\n",
      "1999    11753\n",
      "2000    12194\n",
      "2001    12308\n",
      "2002    10453\n",
      "2003    11059\n",
      "2004     9341\n",
      "2005    10886\n",
      "2006     8835\n",
      "2007     5890\n",
      "2008     2998\n",
      "2009     2079\n",
      "2010     1909\n",
      "2011     1823\n",
      "2012     2386\n",
      "2013     3210\n",
      "2014     3319\n",
      "2015     2638\n",
      "2016       74\n",
      "Name: yearbuilt, dtype: int64\n",
      "\n",
      "taxamount\n"
     ]
    },
    {
     "data": {
      "image/png": "[encoded data removed]",
      "text/plain": [
       "<Figure size 640x480 with 1 Axes>"
      ]
     },
     "metadata": {},
     "output_type": "display_data"
    },
    {
     "name": "stdout",
     "output_type": "stream",
     "text": [
      "6.34         1\n",
      "13.36        4\n",
      "13.44        1\n",
      "13.47        4\n",
      "13.48        1\n",
      "            ..\n",
      "57963.32     1\n",
      "58634.77     1\n",
      "60110.79     1\n",
      "67715.45     1\n",
      "100379.34    1\n",
      "Name: taxamount, Length: 814643, dtype: int64\n",
      "\n"
     ]
    }
   ],
   "source": [
    "for col in df.columns[:-1]:\n",
    "    print(col)\n",
    "    sns.boxplot(data=df, x=col)\n",
    "    plt.show()\n",
    "    \n",
    "    print(df[col].value_counts().sort_index())\n",
    "    print()"
   ]
  },
  {
   "cell_type": "code",
   "execution_count": 23,
   "id": "ed3fea4f-2fa7-4b69-9be3-5ac0ca69e1b1",
   "metadata": {
    "tags": []
   },
   "outputs": [],
   "source": [
    "df = wra.split_data(df)"
   ]
  },
  {
   "cell_type": "code",
   "execution_count": 24,
   "id": "0edd0513-f7dd-4f79-b7dd-5ecbb6f541b2",
   "metadata": {},
   "outputs": [
    {
     "data": {
      "text/plain": [
       "(         bedroomcnt  bathroomcnt  squarefeet  taxvalue  yearbuilt  taxamount  \\\n",
       " 1571798           4          2.5        2987    885000       2006   13617.38   \n",
       " 1723553           3          2.0        3013    489511       1977    5768.57   \n",
       " 718174            4          3.0        2572    390915       1986    4944.11   \n",
       " 1663205           3          1.0        1589    321758       1959    4031.78   \n",
       " 1087891           3          2.0        1727    231737       1962    2708.80   \n",
       " ...             ...          ...         ...       ...        ...        ...   \n",
       " 531544            3          2.0        1610    226464       1984    3001.96   \n",
       " 424806            2          1.0         900    227271       1938    3323.92   \n",
       " 518081            3          3.0        1841    125533       1955    1731.15   \n",
       " 669341            3          2.0        1406    364412       1956    4559.86   \n",
       " 1587454           3          1.0        1571    207976       1948    2619.67   \n",
       " \n",
       "           county  \n",
       " 1571798   Orange  \n",
       " 1723553       LA  \n",
       " 718174        LA  \n",
       " 1663205       LA  \n",
       " 1087891  Ventura  \n",
       " ...          ...  \n",
       " 531544        LA  \n",
       " 424806        LA  \n",
       " 518081        LA  \n",
       " 669341        LA  \n",
       " 1587454       LA  \n",
       " \n",
       " [1219902 rows x 7 columns],\n",
       "          bedroomcnt  bathroomcnt  squarefeet  taxvalue  yearbuilt  taxamount  \\\n",
       " 343974            3          2.5        3061    595242       2001    6181.54   \n",
       " 1730937           4          4.0        3803    707170       2008    8114.26   \n",
       " 1270349           4          3.5        3118   1024671       2010   11604.30   \n",
       " 354542            5          2.5        2856    910000       2000   10204.00   \n",
       " 1683273           2          1.0         802    342555       1916    4621.46   \n",
       " ...             ...          ...         ...       ...        ...        ...   \n",
       " 700518            3          2.5        1803    306812       1984    3450.90   \n",
       " 313104            4          3.0        1646    237146       1964    2983.75   \n",
       " 60655             2          1.0         791     85588       1954    1234.45   \n",
       " 43569             3          2.5        1462    238333       1985    2786.68   \n",
       " 1565485           3          1.0        2668    409183       1911    4555.83   \n",
       " \n",
       "           county  \n",
       " 343974    Orange  \n",
       " 1730937   Orange  \n",
       " 1270349   Orange  \n",
       " 354542    Orange  \n",
       " 1683273       LA  \n",
       " ...          ...  \n",
       " 700518   Ventura  \n",
       " 313104        LA  \n",
       " 60655         LA  \n",
       " 43569    Ventura  \n",
       " 1565485       LA  \n",
       " \n",
       " [406635 rows x 7 columns],\n",
       "          bedroomcnt  bathroomcnt  squarefeet  taxvalue  yearbuilt  taxamount  \\\n",
       " 1521213           2          1.0         989     76376       1943    1067.89   \n",
       " 1565888           2          1.0         936    102921       1950    1307.61   \n",
       " 40407             3          2.0        1288     68769       1960    1338.72   \n",
       " 153717            3          2.0        1299    313336       1953    3510.21   \n",
       " 1405832           3          2.0        1248    489981       1962    6183.20   \n",
       " ...             ...          ...         ...       ...        ...        ...   \n",
       " 1451052           3          2.0        1196    470000       1958    5790.96   \n",
       " 334300            4          3.0        2408    431481       1964    5002.96   \n",
       " 359032            3          1.0        1036     42612       1941     794.68   \n",
       " 300634            3          4.5        4236    878981       1999    9232.02   \n",
       " 1328844           2          3.0        2742    736056       1967    8668.80   \n",
       " \n",
       "           county  \n",
       " 1521213       LA  \n",
       " 1565888       LA  \n",
       " 40407     Orange  \n",
       " 153717        LA  \n",
       " 1405832       LA  \n",
       " ...          ...  \n",
       " 1451052   Orange  \n",
       " 334300   Ventura  \n",
       " 359032        LA  \n",
       " 300634    Orange  \n",
       " 1328844       LA  \n",
       " \n",
       " [406635 rows x 7 columns])"
      ]
     },
     "execution_count": 24,
     "metadata": {},
     "output_type": "execute_result"
    }
   ],
   "source": [
    "df"
   ]
  },
  {
   "cell_type": "code",
   "execution_count": 25,
   "id": "d0140961-7971-4ca1-982d-9b867f541168",
   "metadata": {},
   "outputs": [
    {
     "ename": "NameError",
     "evalue": "name 'train' is not defined",
     "output_type": "error",
     "traceback": [
      "\u001b[0;31m---------------------------------------------------------------------------\u001b[0m",
      "\u001b[0;31mNameError\u001b[0m                                 Traceback (most recent call last)",
      "Input \u001b[0;32mIn [25]\u001b[0m, in \u001b[0;36m<cell line: 1>\u001b[0;34m()\u001b[0m\n\u001b[0;32m----> 1\u001b[0m \u001b[43mtrain\u001b[49m\u001b[38;5;241m.\u001b[39mhead()\n",
      "\u001b[0;31mNameError\u001b[0m: name 'train' is not defined"
     ]
    }
   ],
   "source": [
    "train.head()"
   ]
  },
  {
   "cell_type": "code",
   "execution_count": null,
   "id": "27df8a12-621d-458f-83c7-d27f567a3caf",
   "metadata": {},
   "outputs": [],
   "source": []
  }
 ],
 "metadata": {
  "kernelspec": {
   "display_name": "Python 3 (ipykernel)",
   "language": "python",
   "name": "python3"
  },
  "language_info": {
   "codemirror_mode": {
    "name": "ipython",
    "version": 3
   },
   "file_extension": ".py",
   "mimetype": "text/x-python",
   "name": "python",
   "nbconvert_exporter": "python",
   "pygments_lexer": "ipython3",
   "version": "3.9.13"
  }
 },
 "nbformat": 4,
 "nbformat_minor": 5
}
