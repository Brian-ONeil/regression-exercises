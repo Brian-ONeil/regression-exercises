{
 "cells": [
  {
   "cell_type": "code",
   "execution_count": 3,
   "id": "c96e9a53-da8b-4802-93fb-8e03465efa4b",
   "metadata": {},
   "outputs": [],
   "source": [
    "import numpy as np\n",
    "import os\n",
    "import seaborn as sns\n",
    "import scipy.stats as stat\n",
    "import pandas as pd\n",
    "import matplotlib.pyplot as plt\n",
    "from pydataset import data\n",
    "import warnings\n",
    "warnings.filterwarnings(\"ignore\")\n",
    "import wrangle as wra"
   ]
  },
  {
   "cell_type": "code",
   "execution_count": 4,
   "id": "74f02e2f-9381-4516-be47-4bf0a9f72622",
   "metadata": {},
   "outputs": [
    {
     "ename": "NameError",
     "evalue": "name 'os' is not defined",
     "output_type": "error",
     "traceback": [
      "\u001b[0;31m---------------------------------------------------------------------------\u001b[0m",
      "\u001b[0;31mNameError\u001b[0m                                 Traceback (most recent call last)",
      "Input \u001b[0;32mIn [4]\u001b[0m, in \u001b[0;36m<cell line: 6>\u001b[0;34m()\u001b[0m\n\u001b[1;32m      1\u001b[0m zillow_query \u001b[38;5;241m=\u001b[39m \u001b[38;5;124m\"\"\"\u001b[39m\n\u001b[1;32m      2\u001b[0m \u001b[38;5;124m        select bedroomcnt, bathroomcnt, calculatedfinishedsquarefeet, taxvaluedollarcnt, yearbuilt, taxamount, fips\u001b[39m\n\u001b[1;32m      3\u001b[0m \u001b[38;5;124m        from properties_2017;\u001b[39m\n\u001b[1;32m      4\u001b[0m \u001b[38;5;124m        \u001b[39m\u001b[38;5;124m\"\"\"\u001b[39m\n\u001b[0;32m----> 6\u001b[0m zillow_df \u001b[38;5;241m=\u001b[39m \u001b[43mwra\u001b[49m\u001b[38;5;241;43m.\u001b[39;49m\u001b[43mget_zillow_data\u001b[49m\u001b[43m(\u001b[49m\u001b[43mzillow_query\u001b[49m\u001b[43m)\u001b[49m\n\u001b[1;32m      8\u001b[0m zillow_df\u001b[38;5;241m.\u001b[39mhead()\n",
      "File \u001b[0;32m~/codeup-data-science/regression-exercises/wrangle.py:24\u001b[0m, in \u001b[0;36mget_zillow_data\u001b[0;34m(SQL_query, filename)\u001b[0m\n\u001b[1;32m     13\u001b[0m \u001b[38;5;28;01mdef\u001b[39;00m \u001b[38;5;21mget_zillow_data\u001b[39m(SQL_query, filename \u001b[38;5;241m=\u001b[39m \u001b[38;5;124m'\u001b[39m\u001b[38;5;124mzillow.csv\u001b[39m\u001b[38;5;124m'\u001b[39m):\n\u001b[1;32m     14\u001b[0m     \u001b[38;5;124;03m\"\"\"\u001b[39;00m\n\u001b[1;32m     15\u001b[0m \u001b[38;5;124;03m    This function will:\u001b[39;00m\n\u001b[1;32m     16\u001b[0m \u001b[38;5;124;03m    - Check local directory for csv file\u001b[39;00m\n\u001b[0;32m   (...)\u001b[0m\n\u001b[1;32m     21\u001b[0m \u001b[38;5;124;03m    - outputs iris df\u001b[39;00m\n\u001b[1;32m     22\u001b[0m \u001b[38;5;124;03m    \"\"\"\u001b[39;00m\n\u001b[0;32m---> 24\u001b[0m     \u001b[38;5;28;01mif\u001b[39;00m \u001b[43mos\u001b[49m\u001b[38;5;241m.\u001b[39mpath\u001b[38;5;241m.\u001b[39mexists(filename): \n\u001b[1;32m     25\u001b[0m         df \u001b[38;5;241m=\u001b[39m pd\u001b[38;5;241m.\u001b[39mread_csv(filename)\n\u001b[1;32m     26\u001b[0m         \u001b[38;5;28;01mreturn\u001b[39;00m df\n",
      "\u001b[0;31mNameError\u001b[0m: name 'os' is not defined"
     ]
    }
   ],
   "source": [
    "zillow_query = \"\"\"\n",
    "        select bedroomcnt, bathroomcnt, calculatedfinishedsquarefeet, taxvaluedollarcnt, yearbuilt, taxamount, fips\n",
    "        from properties_2017;\n",
    "        \"\"\"\n",
    "\n",
    "zillow_df = wra.get_zillow_data(zillow_query)\n",
    "\n",
    "zillow_df.head()"
   ]
  },
  {
   "cell_type": "code",
   "execution_count": null,
   "id": "c2e25f0b-3c63-48c7-b235-0b8f82a18f4b",
   "metadata": {},
   "outputs": [],
   "source": []
  },
  {
   "cell_type": "code",
   "execution_count": null,
   "id": "6909dfb5-13bd-4316-8ea7-cef3cafce523",
   "metadata": {},
   "outputs": [],
   "source": []
  },
  {
   "cell_type": "code",
   "execution_count": null,
   "id": "d2a80759-a3e0-4137-b8ab-9b9a95d6cbd1",
   "metadata": {},
   "outputs": [],
   "source": [
    "select bedroomcnt, bathroomcnt, calculatedfinishedsquarefeet, taxvaluedollarcnt, yearbuilt, taxamount, fips\n",
    "from properties_2017;"
   ]
  }
 ],
 "metadata": {
  "kernelspec": {
   "display_name": "Python 3 (ipykernel)",
   "language": "python",
   "name": "python3"
  },
  "language_info": {
   "codemirror_mode": {
    "name": "ipython",
    "version": 3
   },
   "file_extension": ".py",
   "mimetype": "text/x-python",
   "name": "python",
   "nbconvert_exporter": "python",
   "pygments_lexer": "ipython3",
   "version": "3.9.13"
  }
 },
 "nbformat": 4,
 "nbformat_minor": 5
}
