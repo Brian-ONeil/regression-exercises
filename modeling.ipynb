{
 "cells": [
  {
   "cell_type": "code",
   "execution_count": 1,
   "id": "8a78aa76-4c84-4280-86ef-83b8a86e5f5d",
   "metadata": {},
   "outputs": [],
   "source": [
    "import numpy as np\n",
    "import os\n",
    "import seaborn as sns\n",
    "import scipy.stats as stat\n",
    "from scipy.stats import pearsonr\n",
    "from scipy.stats import pointbiserialr\n",
    "import pandas as pd\n",
    "import matplotlib.pyplot as plt\n",
    "from pydataset import data\n",
    "import warnings\n",
    "warnings.filterwarnings(\"ignore\")\n",
    "import wrangle as wra\n",
    "import env\n",
    "import explore as exp\n",
    "from sklearn.model_selection import train_test_split\n",
    "\n",
    "from sklearn.metrics import mean_squared_error\n",
    "from sklearn.metrics import r2_score\n",
    "from sklearn.linear_model import LinearRegression\n",
    "from sklearn.feature_selection import RFE\n",
    "from sklearn.linear_model import LassoLars\n",
    "from sklearn.preprocessing import PolynomialFeatures\n",
    "from sklearn.linear_model import TweedieRegressor"
   ]
  },
  {
   "cell_type": "markdown",
   "id": "cdf5ba3a-ef98-4562-b50f-ed6317874b25",
   "metadata": {},
   "source": [
    "### 1. Select a dataset with a continuous target variable."
   ]
  },
  {
   "cell_type": "code",
   "execution_count": 2,
   "id": "81491a10-1110-4b1b-abb7-20dcec42fe03",
   "metadata": {},
   "outputs": [
    {
     "data": {
      "text/html": [
       "<div>\n",
       "<style scoped>\n",
       "    .dataframe tbody tr th:only-of-type {\n",
       "        vertical-align: middle;\n",
       "    }\n",
       "\n",
       "    .dataframe tbody tr th {\n",
       "        vertical-align: top;\n",
       "    }\n",
       "\n",
       "    .dataframe thead th {\n",
       "        text-align: right;\n",
       "    }\n",
       "</style>\n",
       "<table border=\"1\" class=\"dataframe\">\n",
       "  <thead>\n",
       "    <tr style=\"text-align: right;\">\n",
       "      <th></th>\n",
       "      <th>Unnamed: 0</th>\n",
       "      <th>bedroomcnt</th>\n",
       "      <th>bathroomcnt</th>\n",
       "      <th>calculatedfinishedsquarefeet</th>\n",
       "      <th>taxvaluedollarcnt</th>\n",
       "      <th>yearbuilt</th>\n",
       "      <th>taxamount</th>\n",
       "      <th>fips</th>\n",
       "    </tr>\n",
       "  </thead>\n",
       "  <tbody>\n",
       "    <tr>\n",
       "      <th>0</th>\n",
       "      <td>0</td>\n",
       "      <td>0.0</td>\n",
       "      <td>0.0</td>\n",
       "      <td>NaN</td>\n",
       "      <td>27516.0</td>\n",
       "      <td>NaN</td>\n",
       "      <td>NaN</td>\n",
       "      <td>6037.0</td>\n",
       "    </tr>\n",
       "    <tr>\n",
       "      <th>1</th>\n",
       "      <td>1</td>\n",
       "      <td>0.0</td>\n",
       "      <td>0.0</td>\n",
       "      <td>NaN</td>\n",
       "      <td>10.0</td>\n",
       "      <td>NaN</td>\n",
       "      <td>NaN</td>\n",
       "      <td>6037.0</td>\n",
       "    </tr>\n",
       "    <tr>\n",
       "      <th>2</th>\n",
       "      <td>2</td>\n",
       "      <td>0.0</td>\n",
       "      <td>0.0</td>\n",
       "      <td>NaN</td>\n",
       "      <td>10.0</td>\n",
       "      <td>NaN</td>\n",
       "      <td>NaN</td>\n",
       "      <td>6037.0</td>\n",
       "    </tr>\n",
       "    <tr>\n",
       "      <th>3</th>\n",
       "      <td>3</td>\n",
       "      <td>0.0</td>\n",
       "      <td>0.0</td>\n",
       "      <td>NaN</td>\n",
       "      <td>2108.0</td>\n",
       "      <td>NaN</td>\n",
       "      <td>174.21</td>\n",
       "      <td>6037.0</td>\n",
       "    </tr>\n",
       "    <tr>\n",
       "      <th>4</th>\n",
       "      <td>4</td>\n",
       "      <td>4.0</td>\n",
       "      <td>2.0</td>\n",
       "      <td>3633.0</td>\n",
       "      <td>296425.0</td>\n",
       "      <td>2005.0</td>\n",
       "      <td>6941.39</td>\n",
       "      <td>6037.0</td>\n",
       "    </tr>\n",
       "  </tbody>\n",
       "</table>\n",
       "</div>"
      ],
      "text/plain": [
       "   Unnamed: 0  bedroomcnt  bathroomcnt  calculatedfinishedsquarefeet  \\\n",
       "0           0         0.0          0.0                           NaN   \n",
       "1           1         0.0          0.0                           NaN   \n",
       "2           2         0.0          0.0                           NaN   \n",
       "3           3         0.0          0.0                           NaN   \n",
       "4           4         4.0          2.0                        3633.0   \n",
       "\n",
       "   taxvaluedollarcnt  yearbuilt  taxamount    fips  \n",
       "0            27516.0        NaN        NaN  6037.0  \n",
       "1               10.0        NaN        NaN  6037.0  \n",
       "2               10.0        NaN        NaN  6037.0  \n",
       "3             2108.0        NaN     174.21  6037.0  \n",
       "4           296425.0     2005.0    6941.39  6037.0  "
      ]
     },
     "execution_count": 2,
     "metadata": {},
     "output_type": "execute_result"
    }
   ],
   "source": [
    "zillow_query = \"\"\"\n",
    "        select bedroomcnt, bathroomcnt, calculatedfinishedsquarefeet, taxvaluedollarcnt, yearbuilt,\n",
    "        taxamount, fips\n",
    "        from properties_2017\n",
    "        where propertylandusetypeid = '261';\n",
    "        \"\"\"\n",
    "\n",
    "zillow_df = wra.get_zillow_data(zillow_query)\n",
    "\n",
    "zillow_df.head()"
   ]
  },
  {
   "cell_type": "code",
   "execution_count": 3,
   "id": "dd1648ea-39f4-449c-b194-3ba649b3eb23",
   "metadata": {},
   "outputs": [],
   "source": [
    "df = zillow_df"
   ]
  },
  {
   "cell_type": "code",
   "execution_count": 4,
   "id": "8a55f3bc-0328-4272-a464-94a242a3c8d7",
   "metadata": {},
   "outputs": [],
   "source": [
    "df = wra.wrangle_zillow(df)"
   ]
  },
  {
   "cell_type": "code",
   "execution_count": 5,
   "id": "7d2c0630-012e-48d5-a435-761c0651ac7b",
   "metadata": {
    "tags": []
   },
   "outputs": [
    {
     "data": {
      "text/html": [
       "<div>\n",
       "<style scoped>\n",
       "    .dataframe tbody tr th:only-of-type {\n",
       "        vertical-align: middle;\n",
       "    }\n",
       "\n",
       "    .dataframe tbody tr th {\n",
       "        vertical-align: top;\n",
       "    }\n",
       "\n",
       "    .dataframe thead th {\n",
       "        text-align: right;\n",
       "    }\n",
       "</style>\n",
       "<table border=\"1\" class=\"dataframe\">\n",
       "  <thead>\n",
       "    <tr style=\"text-align: right;\">\n",
       "      <th></th>\n",
       "      <th>bedroomcnt</th>\n",
       "      <th>bathroomcnt</th>\n",
       "      <th>squarefeet</th>\n",
       "      <th>taxvalue</th>\n",
       "      <th>yearbuilt</th>\n",
       "      <th>taxamount</th>\n",
       "      <th>county</th>\n",
       "    </tr>\n",
       "  </thead>\n",
       "  <tbody>\n",
       "    <tr>\n",
       "      <th>4</th>\n",
       "      <td>4</td>\n",
       "      <td>2.0</td>\n",
       "      <td>3633</td>\n",
       "      <td>296425</td>\n",
       "      <td>2005</td>\n",
       "      <td>6941.39</td>\n",
       "      <td>LA</td>\n",
       "    </tr>\n",
       "    <tr>\n",
       "      <th>6</th>\n",
       "      <td>3</td>\n",
       "      <td>4.0</td>\n",
       "      <td>1620</td>\n",
       "      <td>847770</td>\n",
       "      <td>2011</td>\n",
       "      <td>10244.94</td>\n",
       "      <td>LA</td>\n",
       "    </tr>\n",
       "    <tr>\n",
       "      <th>7</th>\n",
       "      <td>3</td>\n",
       "      <td>2.0</td>\n",
       "      <td>2077</td>\n",
       "      <td>646760</td>\n",
       "      <td>1926</td>\n",
       "      <td>7924.68</td>\n",
       "      <td>LA</td>\n",
       "    </tr>\n",
       "    <tr>\n",
       "      <th>18</th>\n",
       "      <td>3</td>\n",
       "      <td>1.0</td>\n",
       "      <td>1244</td>\n",
       "      <td>169471</td>\n",
       "      <td>1950</td>\n",
       "      <td>2532.88</td>\n",
       "      <td>LA</td>\n",
       "    </tr>\n",
       "    <tr>\n",
       "      <th>19</th>\n",
       "      <td>3</td>\n",
       "      <td>2.0</td>\n",
       "      <td>1300</td>\n",
       "      <td>233266</td>\n",
       "      <td>1950</td>\n",
       "      <td>3110.99</td>\n",
       "      <td>LA</td>\n",
       "    </tr>\n",
       "  </tbody>\n",
       "</table>\n",
       "</div>"
      ],
      "text/plain": [
       "    bedroomcnt  bathroomcnt  squarefeet  taxvalue  yearbuilt  taxamount county\n",
       "4            4          2.0        3633    296425       2005    6941.39     LA\n",
       "6            3          4.0        1620    847770       2011   10244.94     LA\n",
       "7            3          2.0        2077    646760       1926    7924.68     LA\n",
       "18           3          1.0        1244    169471       1950    2532.88     LA\n",
       "19           3          2.0        1300    233266       1950    3110.99     LA"
      ]
     },
     "execution_count": 5,
     "metadata": {},
     "output_type": "execute_result"
    }
   ],
   "source": [
    "df.head()"
   ]
  },
  {
   "cell_type": "code",
   "execution_count": 6,
   "id": "8bf8a38c-4e90-4adf-a550-e89c05ac22f3",
   "metadata": {},
   "outputs": [],
   "source": [
    "# Encode the 'county' column using get_dummies()\n",
    "county_dummies = pd.get_dummies(df['county'], prefix='county')\n",
    "\n",
    "# Concatenate the dummy variables with the original DataFrame\n",
    "df = pd.concat([df, county_dummies], axis=1)"
   ]
  },
  {
   "cell_type": "code",
   "execution_count": 7,
   "id": "f47c67b0-6973-4a41-bef9-b0a324d6ae09",
   "metadata": {},
   "outputs": [
    {
     "data": {
      "text/html": [
       "<div>\n",
       "<style scoped>\n",
       "    .dataframe tbody tr th:only-of-type {\n",
       "        vertical-align: middle;\n",
       "    }\n",
       "\n",
       "    .dataframe tbody tr th {\n",
       "        vertical-align: top;\n",
       "    }\n",
       "\n",
       "    .dataframe thead th {\n",
       "        text-align: right;\n",
       "    }\n",
       "</style>\n",
       "<table border=\"1\" class=\"dataframe\">\n",
       "  <thead>\n",
       "    <tr style=\"text-align: right;\">\n",
       "      <th></th>\n",
       "      <th>bedroomcnt</th>\n",
       "      <th>bathroomcnt</th>\n",
       "      <th>squarefeet</th>\n",
       "      <th>taxvalue</th>\n",
       "      <th>yearbuilt</th>\n",
       "      <th>taxamount</th>\n",
       "      <th>county</th>\n",
       "      <th>county_LA</th>\n",
       "      <th>county_Orange</th>\n",
       "      <th>county_Ventura</th>\n",
       "    </tr>\n",
       "  </thead>\n",
       "  <tbody>\n",
       "    <tr>\n",
       "      <th>4</th>\n",
       "      <td>4</td>\n",
       "      <td>2.0</td>\n",
       "      <td>3633</td>\n",
       "      <td>296425</td>\n",
       "      <td>2005</td>\n",
       "      <td>6941.39</td>\n",
       "      <td>LA</td>\n",
       "      <td>1</td>\n",
       "      <td>0</td>\n",
       "      <td>0</td>\n",
       "    </tr>\n",
       "    <tr>\n",
       "      <th>6</th>\n",
       "      <td>3</td>\n",
       "      <td>4.0</td>\n",
       "      <td>1620</td>\n",
       "      <td>847770</td>\n",
       "      <td>2011</td>\n",
       "      <td>10244.94</td>\n",
       "      <td>LA</td>\n",
       "      <td>1</td>\n",
       "      <td>0</td>\n",
       "      <td>0</td>\n",
       "    </tr>\n",
       "    <tr>\n",
       "      <th>7</th>\n",
       "      <td>3</td>\n",
       "      <td>2.0</td>\n",
       "      <td>2077</td>\n",
       "      <td>646760</td>\n",
       "      <td>1926</td>\n",
       "      <td>7924.68</td>\n",
       "      <td>LA</td>\n",
       "      <td>1</td>\n",
       "      <td>0</td>\n",
       "      <td>0</td>\n",
       "    </tr>\n",
       "    <tr>\n",
       "      <th>18</th>\n",
       "      <td>3</td>\n",
       "      <td>1.0</td>\n",
       "      <td>1244</td>\n",
       "      <td>169471</td>\n",
       "      <td>1950</td>\n",
       "      <td>2532.88</td>\n",
       "      <td>LA</td>\n",
       "      <td>1</td>\n",
       "      <td>0</td>\n",
       "      <td>0</td>\n",
       "    </tr>\n",
       "    <tr>\n",
       "      <th>19</th>\n",
       "      <td>3</td>\n",
       "      <td>2.0</td>\n",
       "      <td>1300</td>\n",
       "      <td>233266</td>\n",
       "      <td>1950</td>\n",
       "      <td>3110.99</td>\n",
       "      <td>LA</td>\n",
       "      <td>1</td>\n",
       "      <td>0</td>\n",
       "      <td>0</td>\n",
       "    </tr>\n",
       "  </tbody>\n",
       "</table>\n",
       "</div>"
      ],
      "text/plain": [
       "    bedroomcnt  bathroomcnt  squarefeet  taxvalue  yearbuilt  taxamount  \\\n",
       "4            4          2.0        3633    296425       2005    6941.39   \n",
       "6            3          4.0        1620    847770       2011   10244.94   \n",
       "7            3          2.0        2077    646760       1926    7924.68   \n",
       "18           3          1.0        1244    169471       1950    2532.88   \n",
       "19           3          2.0        1300    233266       1950    3110.99   \n",
       "\n",
       "   county  county_LA  county_Orange  county_Ventura  \n",
       "4      LA          1              0               0  \n",
       "6      LA          1              0               0  \n",
       "7      LA          1              0               0  \n",
       "18     LA          1              0               0  \n",
       "19     LA          1              0               0  "
      ]
     },
     "execution_count": 7,
     "metadata": {},
     "output_type": "execute_result"
    }
   ],
   "source": [
    "df.head()"
   ]
  },
  {
   "cell_type": "code",
   "execution_count": 8,
   "id": "51b93313-02bb-4029-a450-7b9eb4e8c077",
   "metadata": {},
   "outputs": [],
   "source": [
    "# split the data\n",
    "train, validate, test = wra.split_data(df)"
   ]
  },
  {
   "cell_type": "code",
   "execution_count": 9,
   "id": "458bf2ff-157f-4d9f-8c5a-a51d49b029f8",
   "metadata": {},
   "outputs": [],
   "source": [
    "# define the scale\n",
    "to_scale = ['bedroomcnt','bathroomcnt','squarefeet','yearbuilt','taxamount', 'county_LA', 'county_Orange', 'county_Ventura']"
   ]
  },
  {
   "cell_type": "code",
   "execution_count": 10,
   "id": "86661a94-7a57-4e3b-b34e-af59091f4791",
   "metadata": {},
   "outputs": [],
   "source": [
    "# scale the data using function\n",
    "train_scaled, validate_scaled, test_scaled = exp.scale_data(train, validate, test, to_scale)"
   ]
  },
  {
   "cell_type": "code",
   "execution_count": 11,
   "id": "46c2cc0c-5998-42bc-b9ee-186c259dba94",
   "metadata": {},
   "outputs": [],
   "source": [
    "# build your X-train, y_train (target)\n",
    "X_train, X_validate, X_test = train_scaled[['bedroomcnt', 'bathroomcnt', 'squarefeet', 'yearbuilt', 'taxamount', 'county_LA', 'county_Orange', 'county_Ventura']], validate_scaled[['bedroomcnt', 'bathroomcnt', 'squarefeet', 'yearbuilt', 'taxamount', 'county_LA', 'county_Orange', 'county_Ventura']], test_scaled[['bedroomcnt', 'bathroomcnt', 'squarefeet', 'yearbuilt', 'taxamount', 'county_LA', 'county_Orange', 'county_Ventura']]\n",
    "\n",
    "y_train, y_validate, y_test = train.taxvalue, validate.taxvalue, test.taxvalue"
   ]
  },
  {
   "cell_type": "code",
   "execution_count": 12,
   "id": "0b28c099-9d9f-4f1b-b013-08745bd54c26",
   "metadata": {},
   "outputs": [
    {
     "data": {
      "text/html": [
       "<div>\n",
       "<style scoped>\n",
       "    .dataframe tbody tr th:only-of-type {\n",
       "        vertical-align: middle;\n",
       "    }\n",
       "\n",
       "    .dataframe tbody tr th {\n",
       "        vertical-align: top;\n",
       "    }\n",
       "\n",
       "    .dataframe thead th {\n",
       "        text-align: right;\n",
       "    }\n",
       "</style>\n",
       "<table border=\"1\" class=\"dataframe\">\n",
       "  <thead>\n",
       "    <tr style=\"text-align: right;\">\n",
       "      <th></th>\n",
       "      <th>bedroomcnt</th>\n",
       "      <th>bathroomcnt</th>\n",
       "      <th>squarefeet</th>\n",
       "      <th>yearbuilt</th>\n",
       "      <th>taxamount</th>\n",
       "      <th>county_LA</th>\n",
       "      <th>county_Orange</th>\n",
       "      <th>county_Ventura</th>\n",
       "    </tr>\n",
       "  </thead>\n",
       "  <tbody>\n",
       "    <tr>\n",
       "      <th>636038</th>\n",
       "      <td>0.1250</td>\n",
       "      <td>0.05</td>\n",
       "      <td>0.037161</td>\n",
       "      <td>0.711628</td>\n",
       "      <td>0.029535</td>\n",
       "      <td>0.0</td>\n",
       "      <td>0.0</td>\n",
       "      <td>1.0</td>\n",
       "    </tr>\n",
       "    <tr>\n",
       "      <th>640751</th>\n",
       "      <td>0.1250</td>\n",
       "      <td>0.05</td>\n",
       "      <td>0.033816</td>\n",
       "      <td>0.688372</td>\n",
       "      <td>0.079354</td>\n",
       "      <td>1.0</td>\n",
       "      <td>0.0</td>\n",
       "      <td>0.0</td>\n",
       "    </tr>\n",
       "    <tr>\n",
       "      <th>794808</th>\n",
       "      <td>0.2500</td>\n",
       "      <td>0.10</td>\n",
       "      <td>0.062141</td>\n",
       "      <td>0.739535</td>\n",
       "      <td>0.017276</td>\n",
       "      <td>0.0</td>\n",
       "      <td>1.0</td>\n",
       "      <td>0.0</td>\n",
       "    </tr>\n",
       "    <tr>\n",
       "      <th>592271</th>\n",
       "      <td>0.2500</td>\n",
       "      <td>0.15</td>\n",
       "      <td>0.095380</td>\n",
       "      <td>0.986047</td>\n",
       "      <td>0.147038</td>\n",
       "      <td>0.0</td>\n",
       "      <td>0.0</td>\n",
       "      <td>1.0</td>\n",
       "    </tr>\n",
       "    <tr>\n",
       "      <th>1445194</th>\n",
       "      <td>0.1875</td>\n",
       "      <td>0.10</td>\n",
       "      <td>0.052851</td>\n",
       "      <td>0.874419</td>\n",
       "      <td>0.047340</td>\n",
       "      <td>1.0</td>\n",
       "      <td>0.0</td>\n",
       "      <td>0.0</td>\n",
       "    </tr>\n",
       "  </tbody>\n",
       "</table>\n",
       "</div>"
      ],
      "text/plain": [
       "         bedroomcnt  bathroomcnt  squarefeet  yearbuilt  taxamount  county_LA  \\\n",
       "636038       0.1250         0.05    0.037161   0.711628   0.029535        0.0   \n",
       "640751       0.1250         0.05    0.033816   0.688372   0.079354        1.0   \n",
       "794808       0.2500         0.10    0.062141   0.739535   0.017276        0.0   \n",
       "592271       0.2500         0.15    0.095380   0.986047   0.147038        0.0   \n",
       "1445194      0.1875         0.10    0.052851   0.874419   0.047340        1.0   \n",
       "\n",
       "         county_Orange  county_Ventura  \n",
       "636038             0.0             1.0  \n",
       "640751             0.0             0.0  \n",
       "794808             1.0             0.0  \n",
       "592271             0.0             1.0  \n",
       "1445194            0.0             0.0  "
      ]
     },
     "execution_count": 12,
     "metadata": {},
     "output_type": "execute_result"
    }
   ],
   "source": [
    "# look at scaled and encoded data we'll be feeding into the models\n",
    "X_train.head()"
   ]
  },
  {
   "cell_type": "code",
   "execution_count": 13,
   "id": "a4447eed-9d26-4e71-9581-52e2b671ddf9",
   "metadata": {},
   "outputs": [
    {
     "data": {
      "text/plain": [
       "636038     169180\n",
       "640751     396000\n",
       "794808      70460\n",
       "592271     630704\n",
       "1445194    160104\n",
       "Name: taxvalue, dtype: int64"
      ]
     },
     "execution_count": 13,
     "metadata": {},
     "output_type": "execute_result"
    }
   ],
   "source": [
    "y_train.head()"
   ]
  },
  {
   "cell_type": "code",
   "execution_count": 14,
   "id": "33b48ec5-4c54-46ce-ac98-a5c315709840",
   "metadata": {},
   "outputs": [
    {
     "data": {
      "image/png": "[encoded data removed]",
      "text/plain": [
       "<Figure size 640x480 with 1 Axes>"
      ]
     },
     "metadata": {},
     "output_type": "display_data"
    }
   ],
   "source": [
    "# plot target (taxvalue) distribution\n",
    "sns.histplot(y_train)\n",
    "plt.title('distribution of target variable')\n",
    "plt.show()"
   ]
  },
  {
   "cell_type": "markdown",
   "id": "af13f5ea-6e5c-4843-a22f-2ea0202c7920",
   "metadata": {},
   "source": [
    "* What type of distribution is this?"
   ]
  },
  {
   "cell_type": "code",
   "execution_count": 15,
   "id": "30e6c7f6-5774-49d5-b875-8c6b2b871d25",
   "metadata": {},
   "outputs": [
    {
     "data": {
      "text/plain": [
       "363534.3761597599"
      ]
     },
     "execution_count": 15,
     "metadata": {},
     "output_type": "execute_result"
    }
   ],
   "source": [
    "# find your baseline with the target mean\n",
    "baseline = y_train.mean()\n",
    "baseline"
   ]
  },
  {
   "cell_type": "code",
   "execution_count": 16,
   "id": "116c8f5f-14c3-4478-ad54-83f2ff25fa0c",
   "metadata": {},
   "outputs": [],
   "source": [
    "def metrics_reg(y, yhat):\n",
    "    \"\"\"\n",
    "    send in y_true, y_pred & returns RMSE, R2\n",
    "    \"\"\"\n",
    "    rmse = mean_squared_error(y, yhat, squared=False)\n",
    "    r2 = r2_score(y, yhat)\n",
    "    return rmse, r2"
   ]
  },
  {
   "cell_type": "code",
   "execution_count": 17,
   "id": "8be10435-74b6-4c76-951d-514da8263bb8",
   "metadata": {},
   "outputs": [
    {
     "data": {
      "text/plain": [
       "array([363534.37615976, 363534.37615976, 363534.37615976, 363534.37615976,\n",
       "       363534.37615976])"
      ]
     },
     "execution_count": 17,
     "metadata": {},
     "output_type": "execute_result"
    }
   ],
   "source": [
    "#make an array to send into my mean_square_error function\n",
    "baseline_array = np.repeat(baseline, len(train))\n",
    "baseline_array[:5]"
   ]
  },
  {
   "cell_type": "code",
   "execution_count": 18,
   "id": "c59fa995-71cf-454a-9c11-d68c747d966c",
   "metadata": {},
   "outputs": [
    {
     "data": {
      "text/plain": [
       "(243177.22748260814, 0.0)"
      ]
     },
     "execution_count": 18,
     "metadata": {},
     "output_type": "execute_result"
    }
   ],
   "source": [
    "rmse, r2 = metrics_reg(y_train, baseline_array)\n",
    "rmse, r2"
   ]
  },
  {
   "cell_type": "code",
   "execution_count": 19,
   "id": "aec54b13-5a74-45ae-abc6-79f880e855ab",
   "metadata": {},
   "outputs": [
    {
     "data": {
      "text/html": [
       "<div>\n",
       "<style scoped>\n",
       "    .dataframe tbody tr th:only-of-type {\n",
       "        vertical-align: middle;\n",
       "    }\n",
       "\n",
       "    .dataframe tbody tr th {\n",
       "        vertical-align: top;\n",
       "    }\n",
       "\n",
       "    .dataframe thead th {\n",
       "        text-align: right;\n",
       "    }\n",
       "</style>\n",
       "<table border=\"1\" class=\"dataframe\">\n",
       "  <thead>\n",
       "    <tr style=\"text-align: right;\">\n",
       "      <th></th>\n",
       "      <th>model</th>\n",
       "      <th>rmse</th>\n",
       "      <th>r2</th>\n",
       "    </tr>\n",
       "  </thead>\n",
       "  <tbody>\n",
       "    <tr>\n",
       "      <th>0</th>\n",
       "      <td>baseline</td>\n",
       "      <td>243177.227483</td>\n",
       "      <td>0.0</td>\n",
       "    </tr>\n",
       "  </tbody>\n",
       "</table>\n",
       "</div>"
      ],
      "text/plain": [
       "      model           rmse   r2\n",
       "0  baseline  243177.227483  0.0"
      ]
     },
     "execution_count": 19,
     "metadata": {},
     "output_type": "execute_result"
    }
   ],
   "source": [
    "# we will use this metrics df to feed the different models in so we can see their performance side by side\n",
    "metrics_df = pd.DataFrame(data=[\n",
    "    {\n",
    "        'model':'baseline',\n",
    "        'rmse':rmse,\n",
    "        'r2':r2\n",
    "    }\n",
    "    \n",
    "])\n",
    "metrics_df"
   ]
  },
  {
   "cell_type": "markdown",
   "id": "32fc41ae-71d2-4bee-a5a1-3180e8bd3c93",
   "metadata": {},
   "source": [
    "### Ordinary Least Squares (OLS)\n",
    "\n",
    "* OLS is our standard linear regression algorithm and is computed by minimizing the sum of squared differences in the linear model (residual) with the actual data points"
   ]
  },
  {
   "cell_type": "code",
   "execution_count": 20,
   "id": "64e8e3ff-53d9-4385-b766-1a971f413830",
   "metadata": {},
   "outputs": [],
   "source": [
    "#intial ML model\n",
    "lr1 = LinearRegression()\n",
    "\n",
    "#make it\n",
    "rfe = RFE(lr1, n_features_to_select=4)\n",
    "\n",
    "#fit it\n",
    "rfe.fit(X_train, y_train)\n",
    "\n",
    "#use it on train\n",
    "X_train_rfe = rfe.transform(X_train)\n",
    "\n",
    "#use it on validate\n",
    "X_val_rfe = rfe.transform(X_validate)"
   ]
  },
  {
   "cell_type": "code",
   "execution_count": 21,
   "id": "4e65360d-784d-4cea-95ae-bf406318bd19",
   "metadata": {},
   "outputs": [
    {
     "name": "stdout",
     "output_type": "stream",
     "text": [
      "selected top feature: ['taxamount' 'county_LA' 'county_Orange' 'county_Ventura']\n"
     ]
    }
   ],
   "source": [
    "print('selected top feature:', rfe.get_feature_names_out())"
   ]
  },
  {
   "cell_type": "markdown",
   "id": "6adac596-cb80-4bc9-9ee3-86e43b1ad1c0",
   "metadata": {},
   "source": [
    "* build model from top feature"
   ]
  },
  {
   "cell_type": "code",
   "execution_count": 22,
   "id": "469f9950-96a7-4a20-9e7a-5d099f5e2f62",
   "metadata": {},
   "outputs": [],
   "source": [
    "#fit the thing\n",
    "lr1.fit(X_train_rfe, y_train)\n",
    "\n",
    "#use the thing (make predictions)\n",
    "pred_lr1 = lr1.predict(X_train_rfe)\n",
    "pred_val_lr1 = lr1.predict(X_val_rfe)"
   ]
  },
  {
   "cell_type": "code",
   "execution_count": 23,
   "id": "15d91b9b-5ab2-4bd7-ae3c-5ead92f46c18",
   "metadata": {},
   "outputs": [
    {
     "data": {
      "text/plain": [
       "array([169909.75, 373303.5 , 104473.75, 749699.5 , 215335.25,  71667.75,\n",
       "       269711.75, 473363.75, 371077.75, 283326.25])"
      ]
     },
     "execution_count": 23,
     "metadata": {},
     "output_type": "execute_result"
    }
   ],
   "source": [
    "pred_lr1[:10]"
   ]
  },
  {
   "cell_type": "markdown",
   "id": "bc34291e-54e7-4226-bb0e-87c6286bac7b",
   "metadata": {},
   "source": [
    "* evaluate"
   ]
  },
  {
   "cell_type": "code",
   "execution_count": 24,
   "id": "bc913ded-f30f-483f-bf0a-483744f04c22",
   "metadata": {},
   "outputs": [
    {
     "data": {
      "text/plain": [
       "(60621.98185698121, 0.9378538176308573)"
      ]
     },
     "execution_count": 24,
     "metadata": {},
     "output_type": "execute_result"
    }
   ],
   "source": [
    "#train\n",
    "metrics_reg(y_train, pred_lr1)"
   ]
  },
  {
   "cell_type": "code",
   "execution_count": 25,
   "id": "9c0ceb92-f16a-4b7c-81f5-f590f34b2bdd",
   "metadata": {},
   "outputs": [
    {
     "data": {
      "text/plain": [
       "(61369.75103264432, 0.9366476041214626)"
      ]
     },
     "execution_count": 25,
     "metadata": {},
     "output_type": "execute_result"
    }
   ],
   "source": [
    "#validate\n",
    "rmse, r2 = metrics_reg(y_validate, pred_val_lr1)\n",
    "rmse, r2"
   ]
  },
  {
   "cell_type": "code",
   "execution_count": 26,
   "id": "c77abc37-7d7b-4295-9f02-b0aaa9a2dff5",
   "metadata": {},
   "outputs": [
    {
     "data": {
      "text/html": [
       "<div>\n",
       "<style scoped>\n",
       "    .dataframe tbody tr th:only-of-type {\n",
       "        vertical-align: middle;\n",
       "    }\n",
       "\n",
       "    .dataframe tbody tr th {\n",
       "        vertical-align: top;\n",
       "    }\n",
       "\n",
       "    .dataframe thead th {\n",
       "        text-align: right;\n",
       "    }\n",
       "</style>\n",
       "<table border=\"1\" class=\"dataframe\">\n",
       "  <thead>\n",
       "    <tr style=\"text-align: right;\">\n",
       "      <th></th>\n",
       "      <th>model</th>\n",
       "      <th>rmse</th>\n",
       "      <th>r2</th>\n",
       "    </tr>\n",
       "  </thead>\n",
       "  <tbody>\n",
       "    <tr>\n",
       "      <th>0</th>\n",
       "      <td>baseline</td>\n",
       "      <td>243177.227483</td>\n",
       "      <td>0.000000</td>\n",
       "    </tr>\n",
       "    <tr>\n",
       "      <th>1</th>\n",
       "      <td>ols_1</td>\n",
       "      <td>61369.751033</td>\n",
       "      <td>0.936648</td>\n",
       "    </tr>\n",
       "  </tbody>\n",
       "</table>\n",
       "</div>"
      ],
      "text/plain": [
       "      model           rmse        r2\n",
       "0  baseline  243177.227483  0.000000\n",
       "1     ols_1   61369.751033  0.936648"
      ]
     },
     "execution_count": 26,
     "metadata": {},
     "output_type": "execute_result"
    }
   ],
   "source": [
    "#add to my metrics df\n",
    "metrics_df.loc[1] = ['ols_1', rmse, r2]\n",
    "metrics_df"
   ]
  },
  {
   "cell_type": "markdown",
   "id": "3f4e1dd9-0247-4f59-b237-9a916188414f",
   "metadata": {},
   "source": [
    "* examine the model"
   ]
  },
  {
   "cell_type": "code",
   "execution_count": 27,
   "id": "56c083b1-846e-4660-8bdf-ffcc612a4143",
   "metadata": {},
   "outputs": [
    {
     "data": {
      "text/plain": [
       "-1573427914214382.5"
      ]
     },
     "execution_count": 27,
     "metadata": {},
     "output_type": "execute_result"
    }
   ],
   "source": [
    "lr1.intercept_"
   ]
  },
  {
   "cell_type": "code",
   "execution_count": 28,
   "id": "022e6437-57ee-4d4e-a573-4420251a21ea",
   "metadata": {},
   "outputs": [
    {
     "data": {
      "text/plain": [
       "array([4.93426974e+06, 1.57342791e+15, 1.57342791e+15, 1.57342791e+15])"
      ]
     },
     "execution_count": 28,
     "metadata": {},
     "output_type": "execute_result"
    }
   ],
   "source": [
    "lr1.coef_"
   ]
  },
  {
   "cell_type": "code",
   "execution_count": 29,
   "id": "75990544-f690-448e-a944-23e5e3546b6f",
   "metadata": {},
   "outputs": [
    {
     "name": "stdout",
     "output_type": "stream",
     "text": [
      "taxvalue = -1.57e+15 + 4.9e+06*taxamount\n"
     ]
    }
   ],
   "source": [
    "print(f'taxvalue = {lr1.intercept_:.3} + {lr1.coef_[0]:.2}*taxamount')"
   ]
  },
  {
   "cell_type": "code",
   "execution_count": 30,
   "id": "298a9322-ac82-4f1b-b8c6-4f910885dd03",
   "metadata": {},
   "outputs": [
    {
     "data": {
      "image/png": "[encoded data removed]",
      "text/plain": [
       "<Figure size 400x400 with 1 Axes>"
      ]
     },
     "metadata": {},
     "output_type": "display_data"
    }
   ],
   "source": [
    "plt.figure(figsize=(4, 4))\n",
    "\n",
    "plt.scatter(train.taxamount, train.taxvalue)\n",
    "\n",
    "#build prediction line from intercept and slope\n",
    "x_val = np.array([-2, 100]).reshape(-1, 1)\n",
    "plt.plot(x_val, lr1.intercept_ + x_val*lr1.coef_[0], c='black')\n",
    "\n",
    "#intercept line\n",
    "plt.hlines(22, -5, 100, ls=':', color='red')  \n",
    "\n",
    "#(0,0) axis\n",
    "plt.hlines(0, -5, 100, ls='--', color='grey')\n",
    "plt.vlines(0, -10, 100, ls='--', color='grey')\n",
    " \n",
    "plt.xlabel('Tax Amount')\n",
    "plt.ylabel('Tax Value')\n",
    "plt.show()"
   ]
  },
  {
   "cell_type": "markdown",
   "id": "8c6efb07-4b6c-4817-8e5c-75c07b78014e",
   "metadata": {},
   "source": [
    "### Multiple Regression"
   ]
  },
  {
   "cell_type": "markdown",
   "id": "53405a67-b2b0-423d-8023-68d379bede7d",
   "metadata": {},
   "source": [
    "* model using OLS"
   ]
  },
  {
   "cell_type": "code",
   "execution_count": 31,
   "id": "eece6c2a-8210-45d8-b374-a98940455685",
   "metadata": {},
   "outputs": [],
   "source": [
    "#make it\n",
    "lr2 = LinearRegression()\n",
    "\n",
    "#fit it on our RFE features\n",
    "lr2.fit(X_train, y_train)\n",
    "\n",
    "#use it (make predictions)\n",
    "pred_lr2 = lr2.predict(X_train)\n",
    "\n",
    "#use it on validate\n",
    "pred_val_lr2 = lr2.predict(X_validate)"
   ]
  },
  {
   "cell_type": "code",
   "execution_count": 32,
   "id": "4576ef49-6ffd-4df7-a3ae-bf17c913e01b",
   "metadata": {},
   "outputs": [
    {
     "data": {
      "text/plain": [
       "array([171630.37109375, 368004.10546875, 103682.0703125 , 733128.71875   ,\n",
       "       196374.47265625,  77408.8671875 , 263667.15625   , 469085.4296875 ,\n",
       "       366734.078125  , 299175.4609375 ])"
      ]
     },
     "execution_count": 32,
     "metadata": {},
     "output_type": "execute_result"
    }
   ],
   "source": [
    "pred_lr2[:10]"
   ]
  },
  {
   "cell_type": "markdown",
   "id": "83f46a1c-0258-45d9-921c-51d4a693412a",
   "metadata": {},
   "source": [
    "* evaluate"
   ]
  },
  {
   "cell_type": "code",
   "execution_count": 33,
   "id": "fd0611ad-ea89-4010-bf9d-62c99610b91d",
   "metadata": {},
   "outputs": [
    {
     "data": {
      "text/plain": [
       "(59897.73609411718, 0.9393298580983809)"
      ]
     },
     "execution_count": 33,
     "metadata": {},
     "output_type": "execute_result"
    }
   ],
   "source": [
    "#train \n",
    "metrics_reg(y_train, pred_lr2)"
   ]
  },
  {
   "cell_type": "code",
   "execution_count": 34,
   "id": "3b3e38e5-d00a-40ee-8bb1-537e2f246a17",
   "metadata": {},
   "outputs": [
    {
     "data": {
      "text/plain": [
       "(60638.56699102997, 0.9381482232053454)"
      ]
     },
     "execution_count": 34,
     "metadata": {},
     "output_type": "execute_result"
    }
   ],
   "source": [
    "#validate\n",
    "rmse, r2 = metrics_reg(y_validate, pred_val_lr2)\n",
    "rmse, r2"
   ]
  },
  {
   "cell_type": "code",
   "execution_count": 35,
   "id": "f1c1d02a-782f-4a21-bc0e-6f67d5248bf6",
   "metadata": {},
   "outputs": [
    {
     "data": {
      "text/html": [
       "<div>\n",
       "<style scoped>\n",
       "    .dataframe tbody tr th:only-of-type {\n",
       "        vertical-align: middle;\n",
       "    }\n",
       "\n",
       "    .dataframe tbody tr th {\n",
       "        vertical-align: top;\n",
       "    }\n",
       "\n",
       "    .dataframe thead th {\n",
       "        text-align: right;\n",
       "    }\n",
       "</style>\n",
       "<table border=\"1\" class=\"dataframe\">\n",
       "  <thead>\n",
       "    <tr style=\"text-align: right;\">\n",
       "      <th></th>\n",
       "      <th>model</th>\n",
       "      <th>rmse</th>\n",
       "      <th>r2</th>\n",
       "    </tr>\n",
       "  </thead>\n",
       "  <tbody>\n",
       "    <tr>\n",
       "      <th>0</th>\n",
       "      <td>baseline</td>\n",
       "      <td>243177.227483</td>\n",
       "      <td>0.000000</td>\n",
       "    </tr>\n",
       "    <tr>\n",
       "      <th>1</th>\n",
       "      <td>ols_1</td>\n",
       "      <td>61369.751033</td>\n",
       "      <td>0.936648</td>\n",
       "    </tr>\n",
       "    <tr>\n",
       "      <th>2</th>\n",
       "      <td>ols</td>\n",
       "      <td>60638.566991</td>\n",
       "      <td>0.938148</td>\n",
       "    </tr>\n",
       "  </tbody>\n",
       "</table>\n",
       "</div>"
      ],
      "text/plain": [
       "      model           rmse        r2\n",
       "0  baseline  243177.227483  0.000000\n",
       "1     ols_1   61369.751033  0.936648\n",
       "2       ols   60638.566991  0.938148"
      ]
     },
     "execution_count": 35,
     "metadata": {},
     "output_type": "execute_result"
    }
   ],
   "source": [
    "#add to my metrics df\n",
    "metrics_df.loc[2] = ['ols', rmse, r2]\n",
    "metrics_df"
   ]
  },
  {
   "cell_type": "markdown",
   "id": "1011c320-8007-4ee5-8013-4a5a6d40ae14",
   "metadata": {},
   "source": [
    "### LassoLars\n",
    "* LASSO = Least Absolute Shrinkage and Selection Operator\n",
    "\n",
    "* LARS = Least Angle Regression\n",
    "\n",
    "* Performs intrinsic feature selection and noise reduction to avoid overfitting\n",
    "* The most important hyperparameter is alpha\n",
    "    * alpha determines the degree of regularization applied to the model\n",
    "    * The lowest alpha is zero, and this represents no regularization (identical to OLS)\n",
    "    * There is no limit to alpha, but as it rises, it will reach a point where performance no longer changes (often because you've regularized all of your coefficients to zero\n",
    "    * Generally speaking, the higher the alpha, the lower your risk for overfitting\n",
    "    * alpha = 1.0 is a good place to start"
   ]
  },
  {
   "cell_type": "markdown",
   "id": "f170fe17-d326-446f-b8ec-94a3ec1a5a5b",
   "metadata": {},
   "source": [
    "* alpha = 0, identical to OLS"
   ]
  },
  {
   "cell_type": "code",
   "execution_count": 36,
   "id": "140535ab-6714-4955-be7d-a26d27b1487d",
   "metadata": {},
   "outputs": [],
   "source": [
    "#make it\n",
    "lars = LassoLars(alpha=0)\n",
    "\n",
    "#fit it\n",
    "lars.fit(X_train, y_train)\n",
    "\n",
    "#use it\n",
    "pred_lars = lars.predict(X_train)"
   ]
  },
  {
   "cell_type": "code",
   "execution_count": 37,
   "id": "94e09057-89be-4239-aa5b-e9c5a0e9a8b0",
   "metadata": {},
   "outputs": [
    {
     "data": {
      "text/plain": [
       "bedroomcnt       -6.889046e+04\n",
       "bathroomcnt       7.099862e+04\n",
       "squarefeet        2.578356e+05\n",
       "yearbuilt        -1.014722e+05\n",
       "taxamount         4.900803e+06\n",
       "county_LA        -4.287723e+04\n",
       "county_Orange     0.000000e+00\n",
       "county_Ventura    6.399368e+03\n",
       "dtype: float64"
      ]
     },
     "execution_count": 37,
     "metadata": {},
     "output_type": "execute_result"
    }
   ],
   "source": [
    "pd.Series(lars.coef_, index=lars.feature_names_in_)"
   ]
  },
  {
   "cell_type": "code",
   "execution_count": 38,
   "id": "1dd43e90-dad2-4c67-aacb-61fa704131f8",
   "metadata": {},
   "outputs": [
    {
     "data": {
      "text/plain": [
       "array([-6.90012808e+04,  7.10180208e+04,  2.57834204e+05, -1.01474144e+05,\n",
       "        4.90080326e+06, -3.51167176e+13, -3.51167175e+13, -3.51167175e+13])"
      ]
     },
     "execution_count": 38,
     "metadata": {},
     "output_type": "execute_result"
    }
   ],
   "source": [
    "lr2.coef_"
   ]
  },
  {
   "cell_type": "markdown",
   "id": "380f7f55-9be6-41c7-b8d0-12b68fd81e72",
   "metadata": {},
   "source": [
    "* alpha=1"
   ]
  },
  {
   "cell_type": "code",
   "execution_count": 39,
   "id": "c7d7124c-a131-4240-ae86-b3db9a8229e7",
   "metadata": {},
   "outputs": [],
   "source": [
    "#make it\n",
    "lars = LassoLars(alpha=1)\n",
    "\n",
    "#fit it\n",
    "lars.fit(X_train, y_train)\n",
    "\n",
    "#use it\n",
    "pred_lars = lars.predict(X_train)\n",
    "pred_val_lars = lars.predict(X_validate)"
   ]
  },
  {
   "cell_type": "code",
   "execution_count": 40,
   "id": "20136f58-c7ea-4407-a89f-7979e85b172e",
   "metadata": {},
   "outputs": [
    {
     "data": {
      "text/plain": [
       "(60026.15751652223, 0.9390694242724655)"
      ]
     },
     "execution_count": 40,
     "metadata": {},
     "output_type": "execute_result"
    }
   ],
   "source": [
    "#train\n",
    "metrics_reg(y_train, pred_lars)"
   ]
  },
  {
   "cell_type": "code",
   "execution_count": 41,
   "id": "7aa9ce66-54c8-4a53-962b-5e66c38292e1",
   "metadata": {},
   "outputs": [
    {
     "data": {
      "text/plain": [
       "(60757.28678774221, 0.9379057960200736)"
      ]
     },
     "execution_count": 41,
     "metadata": {},
     "output_type": "execute_result"
    }
   ],
   "source": [
    "#validate\n",
    "rmse, r2 = metrics_reg(y_validate, pred_val_lars)\n",
    "rmse, r2"
   ]
  },
  {
   "cell_type": "code",
   "execution_count": 42,
   "id": "ca0f9869-1ab8-4ef2-9449-338f93c507b9",
   "metadata": {},
   "outputs": [
    {
     "data": {
      "text/html": [
       "<div>\n",
       "<style scoped>\n",
       "    .dataframe tbody tr th:only-of-type {\n",
       "        vertical-align: middle;\n",
       "    }\n",
       "\n",
       "    .dataframe tbody tr th {\n",
       "        vertical-align: top;\n",
       "    }\n",
       "\n",
       "    .dataframe thead th {\n",
       "        text-align: right;\n",
       "    }\n",
       "</style>\n",
       "<table border=\"1\" class=\"dataframe\">\n",
       "  <thead>\n",
       "    <tr style=\"text-align: right;\">\n",
       "      <th></th>\n",
       "      <th>model</th>\n",
       "      <th>rmse</th>\n",
       "      <th>r2</th>\n",
       "    </tr>\n",
       "  </thead>\n",
       "  <tbody>\n",
       "    <tr>\n",
       "      <th>0</th>\n",
       "      <td>baseline</td>\n",
       "      <td>243177.227483</td>\n",
       "      <td>0.000000</td>\n",
       "    </tr>\n",
       "    <tr>\n",
       "      <th>1</th>\n",
       "      <td>ols_1</td>\n",
       "      <td>61369.751033</td>\n",
       "      <td>0.936648</td>\n",
       "    </tr>\n",
       "    <tr>\n",
       "      <th>2</th>\n",
       "      <td>ols</td>\n",
       "      <td>60638.566991</td>\n",
       "      <td>0.938148</td>\n",
       "    </tr>\n",
       "    <tr>\n",
       "      <th>3</th>\n",
       "      <td>lars</td>\n",
       "      <td>60757.286788</td>\n",
       "      <td>0.937906</td>\n",
       "    </tr>\n",
       "  </tbody>\n",
       "</table>\n",
       "</div>"
      ],
      "text/plain": [
       "      model           rmse        r2\n",
       "0  baseline  243177.227483  0.000000\n",
       "1     ols_1   61369.751033  0.936648\n",
       "2       ols   60638.566991  0.938148\n",
       "3      lars   60757.286788  0.937906"
      ]
     },
     "execution_count": 42,
     "metadata": {},
     "output_type": "execute_result"
    }
   ],
   "source": [
    "#add to my metrics df\n",
    "metrics_df.loc[3] = ['lars', rmse, r2]\n",
    "metrics_df"
   ]
  },
  {
   "cell_type": "markdown",
   "id": "c4f276df-8e51-4f1c-908b-f8b75e52bd41",
   "metadata": {},
   "source": [
    "### Polynomial Regression\n",
    "* process\n",
    "\n",
    "* create new features based on degrees\n",
    "* fit on a linear regression model\n",
    "\n",
    "* create new features based on degrees"
   ]
  },
  {
   "cell_type": "code",
   "execution_count": 43,
   "id": "247cc946-4f53-47ed-8c7f-aa5c3f91f1b6",
   "metadata": {},
   "outputs": [],
   "source": [
    "# make the polynomial features to get a new set of features\n",
    "pf = PolynomialFeatures(degree=2)\n",
    "\n",
    "# fit and transform X_train_scaled\n",
    "X_train_degree2 = pf.fit_transform(X_train)\n",
    "\n",
    "# transform X_validate_scaled & X_test_scaled\n",
    "X_validate_degree2 = pf.transform(X_validate)\n",
    "X_test_degree2 = pf.transform(X_test)"
   ]
  },
  {
   "cell_type": "markdown",
   "id": "8cdfc545-886d-4437-b0bc-961a9d14fa5a",
   "metadata": {
    "tags": []
   },
   "source": [
    "* fit on a linear regression model"
   ]
  },
  {
   "cell_type": "code",
   "execution_count": 44,
   "id": "b379e25d-a764-4cd2-9d01-7b4af1793a1b",
   "metadata": {},
   "outputs": [],
   "source": [
    "#make it\n",
    "pr = LinearRegression()\n",
    "\n",
    "#fit it\n",
    "pr.fit(X_train_degree2, y_train)\n",
    "\n",
    "#use it\n",
    "pred_pr = pr.predict(X_train_degree2)\n",
    "pred_val_pr = pr.predict(X_validate_degree2)"
   ]
  },
  {
   "cell_type": "markdown",
   "id": "ca7edc69-d07f-4be1-a565-2c0f649a5f49",
   "metadata": {},
   "source": [
    "* evaluate"
   ]
  },
  {
   "cell_type": "code",
   "execution_count": 45,
   "id": "709ca07b-4737-459d-98b4-163a554a0ff2",
   "metadata": {},
   "outputs": [
    {
     "data": {
      "text/plain": [
       "(54439.5494521444, 0.9498832108379707)"
      ]
     },
     "execution_count": 45,
     "metadata": {},
     "output_type": "execute_result"
    }
   ],
   "source": [
    "#train\n",
    "metrics_reg(y_train, pred_pr)"
   ]
  },
  {
   "cell_type": "code",
   "execution_count": 46,
   "id": "d1bec9ef-f35a-46ac-aadf-05fe47af0698",
   "metadata": {},
   "outputs": [
    {
     "data": {
      "text/plain": [
       "(54414.20227263176, 0.9501943222498593)"
      ]
     },
     "execution_count": 46,
     "metadata": {},
     "output_type": "execute_result"
    }
   ],
   "source": [
    "#validate\n",
    "rmse, r2 = metrics_reg(y_validate, pred_val_pr)\n",
    "rmse, r2"
   ]
  },
  {
   "cell_type": "code",
   "execution_count": 47,
   "id": "04a7e5f0-dc16-491d-a5e5-f762c4839cdf",
   "metadata": {},
   "outputs": [
    {
     "data": {
      "text/html": [
       "<div>\n",
       "<style scoped>\n",
       "    .dataframe tbody tr th:only-of-type {\n",
       "        vertical-align: middle;\n",
       "    }\n",
       "\n",
       "    .dataframe tbody tr th {\n",
       "        vertical-align: top;\n",
       "    }\n",
       "\n",
       "    .dataframe thead th {\n",
       "        text-align: right;\n",
       "    }\n",
       "</style>\n",
       "<table border=\"1\" class=\"dataframe\">\n",
       "  <thead>\n",
       "    <tr style=\"text-align: right;\">\n",
       "      <th></th>\n",
       "      <th>model</th>\n",
       "      <th>rmse</th>\n",
       "      <th>r2</th>\n",
       "    </tr>\n",
       "  </thead>\n",
       "  <tbody>\n",
       "    <tr>\n",
       "      <th>0</th>\n",
       "      <td>baseline</td>\n",
       "      <td>243177.227483</td>\n",
       "      <td>0.000000</td>\n",
       "    </tr>\n",
       "    <tr>\n",
       "      <th>1</th>\n",
       "      <td>ols_1</td>\n",
       "      <td>61369.751033</td>\n",
       "      <td>0.936648</td>\n",
       "    </tr>\n",
       "    <tr>\n",
       "      <th>2</th>\n",
       "      <td>ols</td>\n",
       "      <td>60638.566991</td>\n",
       "      <td>0.938148</td>\n",
       "    </tr>\n",
       "    <tr>\n",
       "      <th>3</th>\n",
       "      <td>lars</td>\n",
       "      <td>60757.286788</td>\n",
       "      <td>0.937906</td>\n",
       "    </tr>\n",
       "    <tr>\n",
       "      <th>4</th>\n",
       "      <td>poly_2</td>\n",
       "      <td>54414.202273</td>\n",
       "      <td>0.950194</td>\n",
       "    </tr>\n",
       "  </tbody>\n",
       "</table>\n",
       "</div>"
      ],
      "text/plain": [
       "      model           rmse        r2\n",
       "0  baseline  243177.227483  0.000000\n",
       "1     ols_1   61369.751033  0.936648\n",
       "2       ols   60638.566991  0.938148\n",
       "3      lars   60757.286788  0.937906\n",
       "4    poly_2   54414.202273  0.950194"
      ]
     },
     "execution_count": 47,
     "metadata": {},
     "output_type": "execute_result"
    }
   ],
   "source": [
    "#add to my metrics df\n",
    "metrics_df.loc[4] = ['poly_2', rmse, r2]\n",
    "metrics_df"
   ]
  },
  {
   "cell_type": "markdown",
   "id": "9bc82246-332a-4de0-b3dc-ce1a03fe5baa",
   "metadata": {},
   "source": [
    "### Generalized Linear Model (GLM)\n",
    "The most flexible regression algorithm, the GLM allows for different distributions, beyond just the Normal Distribution for OLS (and other models based on OLS, like LASSO). We will use the TweedieRegressor method to create a GLM using sklearn.\n",
    "\n",
    "About power:\n",
    "\n",
    "power = 0: Normal Distribution\n",
    "power = 1: Poisson Distribution\n",
    "power = (1,2): Compound Distribution\n",
    "power = 2: Gamma Distribution\n",
    "power = 3: Inverse Gaussian Distribution"
   ]
  },
  {
   "cell_type": "code",
   "execution_count": 48,
   "id": "cbeaa8b8-f425-4314-b3b3-6ace4027f4bd",
   "metadata": {},
   "outputs": [],
   "source": [
    "#make it\n",
    "glm = TweedieRegressor(power=1, alpha=0)\n",
    "\n",
    "#fit it\n",
    "glm.fit(X_train, y_train)\n",
    "\n",
    "#use it\n",
    "pred_glm = glm.predict(X_train)\n",
    "pred_val_glm = glm.predict(X_validate)"
   ]
  },
  {
   "cell_type": "markdown",
   "id": "f0cea429-69c8-4aa6-a475-444eb82c2032",
   "metadata": {},
   "source": [
    "* evaluate"
   ]
  },
  {
   "cell_type": "code",
   "execution_count": 49,
   "id": "85d32ecf-7f62-4d6c-991c-30c14eb1a93d",
   "metadata": {},
   "outputs": [
    {
     "data": {
      "text/plain": [
       "(1073651.4223510372, -18.493095129941167)"
      ]
     },
     "execution_count": 49,
     "metadata": {},
     "output_type": "execute_result"
    }
   ],
   "source": [
    "#train\n",
    "metrics_reg(y_train, pred_glm)"
   ]
  },
  {
   "cell_type": "code",
   "execution_count": 50,
   "id": "cda9eb50-f3dc-446f-a38d-2b732d907a8a",
   "metadata": {},
   "outputs": [
    {
     "data": {
      "text/plain": [
       "(3107388.847510132, -161.4222514932712)"
      ]
     },
     "execution_count": 50,
     "metadata": {},
     "output_type": "execute_result"
    }
   ],
   "source": [
    "#validate\n",
    "rmse, r2 = metrics_reg(y_validate, pred_val_glm)\n",
    "rmse, r2"
   ]
  },
  {
   "cell_type": "code",
   "execution_count": 51,
   "id": "fa7722a8-6685-4a54-af0c-658d10313a08",
   "metadata": {},
   "outputs": [
    {
     "data": {
      "text/html": [
       "<div>\n",
       "<style scoped>\n",
       "    .dataframe tbody tr th:only-of-type {\n",
       "        vertical-align: middle;\n",
       "    }\n",
       "\n",
       "    .dataframe tbody tr th {\n",
       "        vertical-align: top;\n",
       "    }\n",
       "\n",
       "    .dataframe thead th {\n",
       "        text-align: right;\n",
       "    }\n",
       "</style>\n",
       "<table border=\"1\" class=\"dataframe\">\n",
       "  <thead>\n",
       "    <tr style=\"text-align: right;\">\n",
       "      <th></th>\n",
       "      <th>model</th>\n",
       "      <th>rmse</th>\n",
       "      <th>r2</th>\n",
       "    </tr>\n",
       "  </thead>\n",
       "  <tbody>\n",
       "    <tr>\n",
       "      <th>0</th>\n",
       "      <td>baseline</td>\n",
       "      <td>2.431772e+05</td>\n",
       "      <td>0.000000</td>\n",
       "    </tr>\n",
       "    <tr>\n",
       "      <th>1</th>\n",
       "      <td>ols_1</td>\n",
       "      <td>6.136975e+04</td>\n",
       "      <td>0.936648</td>\n",
       "    </tr>\n",
       "    <tr>\n",
       "      <th>2</th>\n",
       "      <td>ols</td>\n",
       "      <td>6.063857e+04</td>\n",
       "      <td>0.938148</td>\n",
       "    </tr>\n",
       "    <tr>\n",
       "      <th>3</th>\n",
       "      <td>lars</td>\n",
       "      <td>6.075729e+04</td>\n",
       "      <td>0.937906</td>\n",
       "    </tr>\n",
       "    <tr>\n",
       "      <th>4</th>\n",
       "      <td>poly_2</td>\n",
       "      <td>5.441420e+04</td>\n",
       "      <td>0.950194</td>\n",
       "    </tr>\n",
       "    <tr>\n",
       "      <th>5</th>\n",
       "      <td>glm</td>\n",
       "      <td>3.107389e+06</td>\n",
       "      <td>-161.422251</td>\n",
       "    </tr>\n",
       "  </tbody>\n",
       "</table>\n",
       "</div>"
      ],
      "text/plain": [
       "      model          rmse          r2\n",
       "0  baseline  2.431772e+05    0.000000\n",
       "1     ols_1  6.136975e+04    0.936648\n",
       "2       ols  6.063857e+04    0.938148\n",
       "3      lars  6.075729e+04    0.937906\n",
       "4    poly_2  5.441420e+04    0.950194\n",
       "5       glm  3.107389e+06 -161.422251"
      ]
     },
     "execution_count": 51,
     "metadata": {},
     "output_type": "execute_result"
    }
   ],
   "source": [
    "metrics_df.loc[5] = ['glm',rmse,r2]\n",
    "metrics_df"
   ]
  },
  {
   "cell_type": "markdown",
   "id": "3c7585c7-cd60-4e7f-8eb7-54ba1c1f5728",
   "metadata": {},
   "source": [
    "### Evaluate on Best Model"
   ]
  },
  {
   "cell_type": "code",
   "execution_count": 52,
   "id": "a97d3a9c-c304-4d06-925a-7dc084a31283",
   "metadata": {},
   "outputs": [
    {
     "data": {
      "text/plain": [
       "array([-23336., 474552., 435216., ...,  64296., 433688., 152200.])"
      ]
     },
     "execution_count": 52,
     "metadata": {},
     "output_type": "execute_result"
    }
   ],
   "source": [
    "#use it\n",
    "pred_test = pr.predict(X_test_degree2)\n",
    "pred_test"
   ]
  },
  {
   "cell_type": "code",
   "execution_count": 53,
   "id": "99a1e852-37be-4e9e-8871-806ce41ee89b",
   "metadata": {},
   "outputs": [
    {
     "data": {
      "text/plain": [
       "(55620.64151202772, 0.9473399085937155)"
      ]
     },
     "execution_count": 53,
     "metadata": {},
     "output_type": "execute_result"
    }
   ],
   "source": [
    "rmse, r2 = metrics_reg(y_test, pred_test)\n",
    "rmse, r2"
   ]
  },
  {
   "cell_type": "markdown",
   "id": "8028e0bd-77f2-485e-a528-cb26f5513294",
   "metadata": {},
   "source": [
    "* plot actuals vs predicted"
   ]
  },
  {
   "cell_type": "code",
   "execution_count": 54,
   "id": "d1c23e11-5499-461d-a8b9-6430ad3def6d",
   "metadata": {},
   "outputs": [
    {
     "data": {
      "image/png": "[encoded data removed]",
      "text/plain": [
       "<Figure size 640x480 with 1 Axes>"
      ]
     },
     "metadata": {},
     "output_type": "display_data"
    }
   ],
   "source": [
    "plt.scatter(pred_lr2, y_train, label='linear regression')\n",
    "plt.scatter(pred_pr, y_train, label='polynominal 2deg')\n",
    "# plt.scatter(pred_glm, y_train, label='glm')\n",
    "plt.plot(y_train, y_train, label='_nolegend_', color='grey')\n",
    "\n",
    "plt.axhline(baseline, ls=':', color='grey')\n",
    "plt.annotate(\"Baseline\", (65, 81))\n",
    "\n",
    "plt.title(\"Where are predictions more extreme? More modest?\")\n",
    "plt.ylabel(\"Actual Tax Value\")\n",
    "plt.xlabel(\"Predicted Tax Value\")\n",
    "plt.legend()\n",
    "\n",
    "plt.show()"
   ]
  },
  {
   "cell_type": "code",
   "execution_count": null,
   "id": "264eaa59-66c7-4da1-b4aa-b3a46ede5332",
   "metadata": {},
   "outputs": [],
   "source": []
  },
  {
   "cell_type": "code",
   "execution_count": null,
   "id": "a149c860-f613-40a6-a24a-a5aa905ed5f2",
   "metadata": {},
   "outputs": [],
   "source": []
  }
 ],
 "metadata": {
  "kernelspec": {
   "display_name": "Python 3 (ipykernel)",
   "language": "python",
   "name": "python3"
  },
  "language_info": {
   "codemirror_mode": {
    "name": "ipython",
    "version": 3
   },
   "file_extension": ".py",
   "mimetype": "text/x-python",
   "name": "python",
   "nbconvert_exporter": "python",
   "pygments_lexer": "ipython3",
   "version": "3.9.13"
  }
 },
 "nbformat": 4,
 "nbformat_minor": 5
}
